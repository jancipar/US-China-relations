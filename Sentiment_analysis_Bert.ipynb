{
  "cells": [
    {
      "cell_type": "code",
      "execution_count": null,
      "id": "e5cc8906",
      "metadata": {
        "id": "e5cc8906"
      },
      "outputs": [],
      "source": [
        "import spacy\n",
        "import pandas as pd\n",
        "\n",
        "import json\n",
        "import spacy\n",
        "import requests\n",
        "import random\n",
        "import time\n",
        "\n",
        "import spacy\n",
        "import tqdm\n",
        "from collections import Counter\n",
        "\n",
        "import gensim\n",
        "import gensim.corpora as corpora\n",
        "from gensim.corpora import Dictionary\n",
        "from gensim.models.coherencemodel import CoherenceModel\n",
        "from gensim.models.ldamodel import LdaModel\n"
      ]
    },
    {
      "cell_type": "code",
      "execution_count": null,
      "id": "d8a0ef11",
      "metadata": {
        "colab": {
          "base_uri": "https://localhost:8080/"
        },
        "id": "d8a0ef11",
        "outputId": "a6f08070-71d6-4394-da3a-708a9e2b7cb1"
      },
      "outputs": [
        {
          "output_type": "stream",
          "name": "stdout",
          "text": [
            "Requirement already satisfied: transformers in /usr/local/lib/python3.10/dist-packages (4.35.2)\n",
            "Requirement already satisfied: filelock in /usr/local/lib/python3.10/dist-packages (from transformers) (3.13.1)\n",
            "Requirement already satisfied: huggingface-hub<1.0,>=0.16.4 in /usr/local/lib/python3.10/dist-packages (from transformers) (0.19.4)\n",
            "Requirement already satisfied: numpy>=1.17 in /usr/local/lib/python3.10/dist-packages (from transformers) (1.23.5)\n",
            "Requirement already satisfied: packaging>=20.0 in /usr/local/lib/python3.10/dist-packages (from transformers) (23.2)\n",
            "Requirement already satisfied: pyyaml>=5.1 in /usr/local/lib/python3.10/dist-packages (from transformers) (6.0.1)\n",
            "Requirement already satisfied: regex!=2019.12.17 in /usr/local/lib/python3.10/dist-packages (from transformers) (2023.6.3)\n",
            "Requirement already satisfied: requests in /usr/local/lib/python3.10/dist-packages (from transformers) (2.31.0)\n",
            "Requirement already satisfied: tokenizers<0.19,>=0.14 in /usr/local/lib/python3.10/dist-packages (from transformers) (0.15.0)\n",
            "Requirement already satisfied: safetensors>=0.3.1 in /usr/local/lib/python3.10/dist-packages (from transformers) (0.4.1)\n",
            "Requirement already satisfied: tqdm>=4.27 in /usr/local/lib/python3.10/dist-packages (from transformers) (4.66.1)\n",
            "Requirement already satisfied: fsspec>=2023.5.0 in /usr/local/lib/python3.10/dist-packages (from huggingface-hub<1.0,>=0.16.4->transformers) (2023.6.0)\n",
            "Requirement already satisfied: typing-extensions>=3.7.4.3 in /usr/local/lib/python3.10/dist-packages (from huggingface-hub<1.0,>=0.16.4->transformers) (4.5.0)\n",
            "Requirement already satisfied: charset-normalizer<4,>=2 in /usr/local/lib/python3.10/dist-packages (from requests->transformers) (3.3.2)\n",
            "Requirement already satisfied: idna<4,>=2.5 in /usr/local/lib/python3.10/dist-packages (from requests->transformers) (3.6)\n",
            "Requirement already satisfied: urllib3<3,>=1.21.1 in /usr/local/lib/python3.10/dist-packages (from requests->transformers) (2.0.7)\n",
            "Requirement already satisfied: certifi>=2017.4.17 in /usr/local/lib/python3.10/dist-packages (from requests->transformers) (2023.11.17)\n"
          ]
        }
      ],
      "source": [
        "!pip install transformers"
      ]
    },
    {
      "cell_type": "code",
      "execution_count": null,
      "id": "ddd5a493",
      "metadata": {
        "colab": {
          "base_uri": "https://localhost:8080/"
        },
        "id": "ddd5a493",
        "outputId": "ed286194-3368-4d92-aefd-83efa11024d3"
      },
      "outputs": [
        {
          "output_type": "stream",
          "name": "stderr",
          "text": [
            "No model was supplied, defaulted to distilbert-base-uncased-finetuned-sst-2-english and revision af0f99b (https://huggingface.co/distilbert-base-uncased-finetuned-sst-2-english).\n",
            "Using a pipeline without specifying a model name and revision in production is not recommended.\n"
          ]
        }
      ],
      "source": [
        "from transformers import pipeline\n",
        "\n",
        "# Load the sentiment analysis pipeline\n",
        "sentiment_analysis = pipeline(\"sentiment-analysis\")\n"
      ]
    },
    {
      "cell_type": "code",
      "execution_count": null,
      "id": "8049d33f",
      "metadata": {
        "id": "8049d33f"
      },
      "outputs": [],
      "source": [
        "from transformers import BertTokenizer, BertForSequenceClassification"
      ]
    },
    {
      "cell_type": "code",
      "source": [
        "df = pd.read_csv(\"/content/final_dataframe_4790_articles.csv\")\n",
        "nlp = spacy.load(\"en_core_web_sm\")"
      ],
      "metadata": {
        "id": "hHQ8tIU8AVyW"
      },
      "id": "hHQ8tIU8AVyW",
      "execution_count": null,
      "outputs": []
    },
    {
      "cell_type": "code",
      "source": [
        "model_name = \"nlptown/bert-base-multilingual-uncased-sentiment\"\n",
        "tokenizer = BertTokenizer.from_pretrained(model_name)\n",
        "model = BertForSequenceClassification.from_pretrained(model_name)"
      ],
      "metadata": {
        "id": "JXmavWwzAWDd"
      },
      "id": "JXmavWwzAWDd",
      "execution_count": null,
      "outputs": []
    },
    {
      "cell_type": "code",
      "source": [
        "sentiment_scores = []"
      ],
      "metadata": {
        "id": "eEbKSxyLAWLL"
      },
      "id": "eEbKSxyLAWLL",
      "execution_count": null,
      "outputs": []
    },
    {
      "cell_type": "code",
      "source": [
        "df['headline'].fillna(\"\",inplace=True)\n",
        "df['lead_paragraph'].fillna(\"\",inplace=True)\n",
        "df['combined_text'] = df['headline'] + \" \" + df['lead_paragraph']\n",
        "df['combined_text'] = df['combined_text'].astype(str)"
      ],
      "metadata": {
        "id": "a7FuLSbiBBW8"
      },
      "id": "a7FuLSbiBBW8",
      "execution_count": null,
      "outputs": []
    },
    {
      "cell_type": "code",
      "source": [
        "for article in df['combined_text']:\n",
        "    inputs = tokenizer(article, return_tensors=\"pt\", truncation=True)\n",
        "    outputs = model(**inputs)\n",
        "    logits = outputs.logits\n",
        "    predicted_class = logits.argmax().item()\n",
        "    sentiment = \"POSITIVE\" if predicted_class == 1 else \"NEGATIVE\" if predicted_class == 0 else \"NEUTRAL\"\n",
        "    sentiment_scores.append(sentiment)"
      ],
      "metadata": {
        "id": "UwGkfaa4AWOS"
      },
      "id": "UwGkfaa4AWOS",
      "execution_count": null,
      "outputs": []
    },
    {
      "cell_type": "code",
      "source": [
        "df['sentiment'] = sentiment_scores"
      ],
      "metadata": {
        "id": "ZpwMfbMnAWRC"
      },
      "id": "ZpwMfbMnAWRC",
      "execution_count": null,
      "outputs": []
    },
    {
      "cell_type": "code",
      "source": [
        "total_articles = len(df)\n",
        "positive_percentage = (df['sentiment'].value_counts(normalize=True).get('POSITIVE', 0) * 100).round(2)\n",
        "negative_percentage = (df['sentiment'].value_counts(normalize=True).get('NEGATIVE', 0) * 100).round(2)\n",
        "neutral_percentage = (df['sentiment'].value_counts(normalize=True).get('NEUTRAL', 0) * 100).round(2)\n",
        "\n",
        "# Display percentages\n",
        "print(f\"Positive Sentiment Percentage: {positive_percentage}%\")\n",
        "print(f\"Negative Sentiment Percentage: {negative_percentage}%\")\n",
        "print(f\"Neutral Sentiment Percentage: {neutral_percentage}%\")"
      ],
      "metadata": {
        "colab": {
          "base_uri": "https://localhost:8080/"
        },
        "id": "C_w7PziRAWTy",
        "outputId": "3e5c9792-529a-4f9a-95e4-730c329734b7"
      },
      "id": "C_w7PziRAWTy",
      "execution_count": null,
      "outputs": [
        {
          "output_type": "stream",
          "name": "stdout",
          "text": [
            "Positive Sentiment Percentage: 10.9%\n",
            "Negative Sentiment Percentage: 46.26%\n",
            "Neutral Sentiment Percentage: 42.84%\n"
          ]
        }
      ]
    },
    {
      "cell_type": "code",
      "source": [
        "import matplotlib.pyplot as plt"
      ],
      "metadata": {
        "id": "Lm1yt2rKAWWu"
      },
      "id": "Lm1yt2rKAWWu",
      "execution_count": null,
      "outputs": []
    },
    {
      "cell_type": "code",
      "source": [
        "labels = ['Positive', 'Negative', 'Neutral']\n",
        "percentages = [positive_percentage, negative_percentage, neutral_percentage]\n",
        "\n",
        "plt.bar(labels, percentages, color=['green', 'red', 'blue'])\n",
        "plt.xlabel('Sentiment')\n",
        "plt.ylabel('Percentage')\n",
        "plt.title('Sentiment Analysis of Articles')\n",
        "plt.show()"
      ],
      "metadata": {
        "colab": {
          "base_uri": "https://localhost:8080/",
          "height": 472
        },
        "id": "_Q_VKx_KAWZD",
        "outputId": "368ca34d-bd46-4706-d42d-893f7cf07654"
      },
      "id": "_Q_VKx_KAWZD",
      "execution_count": null,
      "outputs": [
        {
          "output_type": "display_data",
          "data": {
            "text/plain": [
              "<Figure size 640x480 with 1 Axes>"
            ],
            "image/png": "[encoded data removed]"
          },
          "metadata": {}
        }
      ]
    },
    {
      "cell_type": "code",
      "source": [
        "df['year'] = pd.to_datetime(df['date']).dt.year"
      ],
      "metadata": {
        "id": "AqwdT0wXaPCe"
      },
      "id": "AqwdT0wXaPCe",
      "execution_count": null,
      "outputs": []
    },
    {
      "cell_type": "code",
      "source": [
        "# Sentiment analysis by year\n",
        "sentiment_counts = df.groupby(['year', 'sentiment']).size().unstack(fill_value=0)\n",
        "sentiment_percentages = sentiment_counts.div(sentiment_counts.sum(axis=1), axis=0) * 100"
      ],
      "metadata": {
        "id": "M9q2pIOMapue"
      },
      "id": "M9q2pIOMapue",
      "execution_count": null,
      "outputs": []
    },
    {
      "cell_type": "code",
      "source": [
        "# Plot the sentiment analysis by year\n",
        "sentiment_percentages.plot(kind='bar', stacked=True, figsize=(10, 6))\n",
        "plt.xlabel('Year')\n",
        "plt.ylabel('Percentage')\n",
        "plt.title('Sentiment Analysis by Year')\n",
        "plt.legend(title='Sentiment', bbox_to_anchor=(1, 1), loc='upper left')\n",
        "plt.show()"
      ],
      "metadata": {
        "colab": {
          "base_uri": "https://localhost:8080/",
          "height": 515
        },
        "id": "Fj_RdmzPap71",
        "outputId": "efe25053-1184-43e6-f23a-1ee8b3601953"
      },
      "id": "Fj_RdmzPap71",
      "execution_count": null,
      "outputs": [
        {
          "output_type": "display_data",
          "data": {
            "text/plain": [
              "<Figure size 1000x600 with 1 Axes>"
            ],
            "image/png": "[encoded data removed]"
          },
          "metadata": {}
        }
      ]
    },
    {
      "cell_type": "code",
      "source": [],
      "metadata": {
        "id": "GYZ4_l2Fap_f"
      },
      "id": "GYZ4_l2Fap_f",
      "execution_count": null,
      "outputs": []
    }
  ],
  "metadata": {
    "kernelspec": {
      "display_name": "Python 3 (ipykernel)",
      "language": "python",
      "name": "python3"
    },
    "language_info": {
      "codemirror_mode": {
        "name": "ipython",
        "version": 3
      },
      "file_extension": ".py",
      "mimetype": "text/x-python",
      "name": "python",
      "nbconvert_exporter": "python",
      "pygments_lexer": "ipython3",
      "version": "3.11.4"
    },
    "colab": {
      "provenance": []
    }
  },
  "nbformat": 4,
  "nbformat_minor": 5
}