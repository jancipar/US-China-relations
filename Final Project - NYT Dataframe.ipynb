{
 "cells": [
  {
   "cell_type": "code",
   "execution_count": 4,
   "id": "bb194533",
   "metadata": {},
   "outputs": [],
   "source": [
    "import spacy\n",
    "import pandas as pd\n",
    "\n",
    "import json\n",
    "import spacy\n",
    "import requests\n",
    "import random\n",
    "import time\n",
    "\n",
    "import spacy\n",
    "import tqdm\n",
    "from collections import Counter\n",
    "\n",
    "import gensim\n",
    "import gensim.corpora as corpora\n",
    "from gensim.corpora import Dictionary\n",
    "from gensim.models.coherencemodel import CoherenceModel\n",
    "from gensim.models.ldamodel import LdaModel\n",
    "\n",
    "import pyLDAvis\n",
    "import pyLDAvis.gensim"
   ]
  },
  {
   "cell_type": "markdown",
   "id": "3187f3b9",
   "metadata": {},
   "source": [
    "# Research Topic\n",
    "\n",
    "In the aftermath of Barack Obama's inauguration on January 20, 2009, the initial years of his presidential term were characterized by a prevailing positive sentiment in U.S.-China relations. During this period, media portrayals of China generally leaned toward the favorable, reflecting a climate of cooperation and mutual understanding between the two nations.\n",
    "\n",
    "However, a palpable shift in diplomatic dynamics occurred with the transition to the Trump administration. The advent of the Trade War and the multifaceted challenges posed by the Covid-19 pandemic introduced a discernible transformation in how China was depicted in the media. This period marked an evolution in U.S.-China relations, portraying a landscape that was not only complex but at times contentious under President Trump's leadership.\n",
    "\n",
    "Following the conclusion of Trump's presidency, Joe Biden assumed office with a diplomatic approach that aimed to soften relations with China. Despite these efforts, the present geopolitical landscape positions China and the U.S. on opposing sides across various critical issues. The intricate interplay of economic, political, and global challenges has contributed to a complex and multifaceted relationship between the two nations.\n",
    "\n",
    "Against this backdrop, our research project seeks to undertake a comprehensive exploration of the nuanced evolution of media representations of China-U.S. relations. Our investigation spans from the early years of the Obama administration in 2009 to the present day. \n",
    "\n",
    "The choice of The New York Times as a primary source is deliberate, considering its rich history dating back to 1851 and its consistent adherence to high editorial standards, as evidenced by the numerous Pulitzer Prizes it has earned for reporting excellence. Moreover, its reputation as a reliable and influential source positions it as a noteworthy contributor to the discourse on global affairs. The newspaper's comprehensive coverage and global reach provide a broad and diverse perspective, enriching our understanding of the complex dynamics between China and the U.S. The New York Times' adaptability to the digital era, coupled with its significant online presence, ensures that its content is accessible to a vast and diverse global audience. This digital accessibility enhances our ability to capture a wide range of viewpoints and narratives that have shaped perceptions of the China-U.S. relationship over time. Furthermore, by recognizing The New York Times' center-left editorial stance, we affirm our commitment to acknowledge potential bias, while appreciating the newspaper's unique insights. \n",
    "\n",
    "In our research, our goal is to provide valuable insights into the reciprocal relationship between media portrayals, particularly from influential sources such as The New York Times, and the dynamic nature of U.S.-China relations. We have chosen to look for articles containing the keyword: \"U.S.-China relations\" due to various reasons. First, the NYT refers to the United States of America as \"the U.S.\" in most of its articles, therefore, using this wording provides us with more opportunity to come across relevant articles. Second, as the NYT is an american journal, when refering to the relationship between the U.S. and China, the U.S. is always mentioned first to appeal to the american public. As such, using the keyword \"U.S.-China relations\" will allow us to gather all articles useful to our research. We downloaded 500 articles from each year, and created a data of 3000 articles to asses the evolution of the depiction of U.S.-China relations on American media.\n",
    "\n",
    "Our aim is to capture the diverse narratives and perspectives that have molded our understanding of this pivotal geopolitical relationship over time. Through this exploration, we strive to contribute insights into how media portrayals, especially from influential sources like The New York Times, have not only mirrored but also influenced the evolving nature of China-U.S. relations. This endeavor offers a valuable lens through which to comprehend the intricate complexities of this vital global partnership. Our approach remains thoughtful and inclusive as we navigate the complexities of this global partnership, recognizing the multifaceted nature of media influence. Through this exploration, we aim to provide a thorough and valuable perspective on the evolving narratives surrounding China-U.S. relations, adding depth and context to our research endeavor."
   ]
  },
  {
   "cell_type": "code",
   "execution_count": 5,
   "id": "4825cdd5",
   "metadata": {},
   "outputs": [],
   "source": [
    "my_api_key=\"q9G4oWuPHcFvBfj0rkOMyGfqgL0AOEyH\""
   ]
  },
  {
   "cell_type": "markdown",
   "id": "e252fd26",
   "metadata": {},
   "source": [
    "# 2009-2010"
   ]
  },
  {
   "cell_type": "code",
   "execution_count": 7,
   "id": "71e889f4",
   "metadata": {},
   "outputs": [
    {
     "name": "stdout",
     "output_type": "stream",
     "text": [
      "https://api.nytimes.com/svc/search/v2/articlesearch.json?fq=U.S.-China relation&begin_date=20090120&end_date=20100120&api-key=q9G4oWuPHcFvBfj0rkOMyGfqgL0AOEyH\n",
      "19689\n"
     ]
    }
   ],
   "source": [
    "def number_of_articles(api_key, keyword, begin_date=\"20090120\", end_date=\"20100120\"):\n",
    "    url_query = f\"https://api.nytimes.com/svc/search/v2/articlesearch.json?fq={keyword}&begin_date={begin_date}&end_date={end_date}&api-key={api_key}\"\n",
    "    print(url_query)\n",
    "    res = requests.get(url_query)\n",
    "    json_res = res.json()\n",
    "    hits = json_res[\"response\"][\"meta\"][\"hits\"]\n",
    "    return hits\n",
    "\n",
    "print(number_of_articles(api_key=my_api_key, keyword='U.S.-China relation'))"
   ]
  },
  {
   "cell_type": "code",
   "execution_count": 8,
   "id": "90f54f93",
   "metadata": {},
   "outputs": [
    {
     "name": "stdout",
     "output_type": "stream",
     "text": [
      "https://api.nytimes.com/svc/search/v2/articlesearch.json?q=U.S.-China relations&begin_date=20090120&end_date=20100120&page=1&api-key=q9G4oWuPHcFvBfj0rkOMyGfqgL0AOEyH\n",
      "https://api.nytimes.com/svc/search/v2/articlesearch.json?q=U.S.-China relations&begin_date=20090120&end_date=20100120&page=2&api-key=q9G4oWuPHcFvBfj0rkOMyGfqgL0AOEyH\n",
      "https://api.nytimes.com/svc/search/v2/articlesearch.json?q=U.S.-China relations&begin_date=20090120&end_date=20100120&page=3&api-key=q9G4oWuPHcFvBfj0rkOMyGfqgL0AOEyH\n",
      "https://api.nytimes.com/svc/search/v2/articlesearch.json?q=U.S.-China relations&begin_date=20090120&end_date=20100120&page=4&api-key=q9G4oWuPHcFvBfj0rkOMyGfqgL0AOEyH\n",
      "https://api.nytimes.com/svc/search/v2/articlesearch.json?q=U.S.-China relations&begin_date=20090120&end_date=20100120&page=5&api-key=q9G4oWuPHcFvBfj0rkOMyGfqgL0AOEyH\n",
      "https://api.nytimes.com/svc/search/v2/articlesearch.json?q=U.S.-China relations&begin_date=20090120&end_date=20100120&page=6&api-key=q9G4oWuPHcFvBfj0rkOMyGfqgL0AOEyH\n",
      "https://api.nytimes.com/svc/search/v2/articlesearch.json?q=U.S.-China relations&begin_date=20090120&end_date=20100120&page=7&api-key=q9G4oWuPHcFvBfj0rkOMyGfqgL0AOEyH\n",
      "https://api.nytimes.com/svc/search/v2/articlesearch.json?q=U.S.-China relations&begin_date=20090120&end_date=20100120&page=8&api-key=q9G4oWuPHcFvBfj0rkOMyGfqgL0AOEyH\n",
      "https://api.nytimes.com/svc/search/v2/articlesearch.json?q=U.S.-China relations&begin_date=20090120&end_date=20100120&page=9&api-key=q9G4oWuPHcFvBfj0rkOMyGfqgL0AOEyH\n",
      "https://api.nytimes.com/svc/search/v2/articlesearch.json?q=U.S.-China relations&begin_date=20090120&end_date=20100120&page=10&api-key=q9G4oWuPHcFvBfj0rkOMyGfqgL0AOEyH\n",
      "https://api.nytimes.com/svc/search/v2/articlesearch.json?q=U.S.-China relations&begin_date=20090120&end_date=20100120&page=11&api-key=q9G4oWuPHcFvBfj0rkOMyGfqgL0AOEyH\n",
      "https://api.nytimes.com/svc/search/v2/articlesearch.json?q=U.S.-China relations&begin_date=20090120&end_date=20100120&page=12&api-key=q9G4oWuPHcFvBfj0rkOMyGfqgL0AOEyH\n",
      "https://api.nytimes.com/svc/search/v2/articlesearch.json?q=U.S.-China relations&begin_date=20090120&end_date=20100120&page=13&api-key=q9G4oWuPHcFvBfj0rkOMyGfqgL0AOEyH\n",
      "https://api.nytimes.com/svc/search/v2/articlesearch.json?q=U.S.-China relations&begin_date=20090120&end_date=20100120&page=14&api-key=q9G4oWuPHcFvBfj0rkOMyGfqgL0AOEyH\n",
      "https://api.nytimes.com/svc/search/v2/articlesearch.json?q=U.S.-China relations&begin_date=20090120&end_date=20100120&page=15&api-key=q9G4oWuPHcFvBfj0rkOMyGfqgL0AOEyH\n",
      "https://api.nytimes.com/svc/search/v2/articlesearch.json?q=U.S.-China relations&begin_date=20090120&end_date=20100120&page=16&api-key=q9G4oWuPHcFvBfj0rkOMyGfqgL0AOEyH\n",
      "https://api.nytimes.com/svc/search/v2/articlesearch.json?q=U.S.-China relations&begin_date=20090120&end_date=20100120&page=17&api-key=q9G4oWuPHcFvBfj0rkOMyGfqgL0AOEyH\n",
      "https://api.nytimes.com/svc/search/v2/articlesearch.json?q=U.S.-China relations&begin_date=20090120&end_date=20100120&page=18&api-key=q9G4oWuPHcFvBfj0rkOMyGfqgL0AOEyH\n",
      "https://api.nytimes.com/svc/search/v2/articlesearch.json?q=U.S.-China relations&begin_date=20090120&end_date=20100120&page=19&api-key=q9G4oWuPHcFvBfj0rkOMyGfqgL0AOEyH\n",
      "https://api.nytimes.com/svc/search/v2/articlesearch.json?q=U.S.-China relations&begin_date=20090120&end_date=20100120&page=20&api-key=q9G4oWuPHcFvBfj0rkOMyGfqgL0AOEyH\n",
      "https://api.nytimes.com/svc/search/v2/articlesearch.json?q=U.S.-China relations&begin_date=20090120&end_date=20100120&page=21&api-key=q9G4oWuPHcFvBfj0rkOMyGfqgL0AOEyH\n",
      "https://api.nytimes.com/svc/search/v2/articlesearch.json?q=U.S.-China relations&begin_date=20090120&end_date=20100120&page=22&api-key=q9G4oWuPHcFvBfj0rkOMyGfqgL0AOEyH\n",
      "https://api.nytimes.com/svc/search/v2/articlesearch.json?q=U.S.-China relations&begin_date=20090120&end_date=20100120&page=23&api-key=q9G4oWuPHcFvBfj0rkOMyGfqgL0AOEyH\n",
      "https://api.nytimes.com/svc/search/v2/articlesearch.json?q=U.S.-China relations&begin_date=20090120&end_date=20100120&page=24&api-key=q9G4oWuPHcFvBfj0rkOMyGfqgL0AOEyH\n",
      "https://api.nytimes.com/svc/search/v2/articlesearch.json?q=U.S.-China relations&begin_date=20090120&end_date=20100120&page=25&api-key=q9G4oWuPHcFvBfj0rkOMyGfqgL0AOEyH\n",
      "https://api.nytimes.com/svc/search/v2/articlesearch.json?q=U.S.-China relations&begin_date=20090120&end_date=20100120&page=26&api-key=q9G4oWuPHcFvBfj0rkOMyGfqgL0AOEyH\n",
      "https://api.nytimes.com/svc/search/v2/articlesearch.json?q=U.S.-China relations&begin_date=20090120&end_date=20100120&page=27&api-key=q9G4oWuPHcFvBfj0rkOMyGfqgL0AOEyH\n",
      "https://api.nytimes.com/svc/search/v2/articlesearch.json?q=U.S.-China relations&begin_date=20090120&end_date=20100120&page=28&api-key=q9G4oWuPHcFvBfj0rkOMyGfqgL0AOEyH\n",
      "https://api.nytimes.com/svc/search/v2/articlesearch.json?q=U.S.-China relations&begin_date=20090120&end_date=20100120&page=29&api-key=q9G4oWuPHcFvBfj0rkOMyGfqgL0AOEyH\n",
      "https://api.nytimes.com/svc/search/v2/articlesearch.json?q=U.S.-China relations&begin_date=20090120&end_date=20100120&page=30&api-key=q9G4oWuPHcFvBfj0rkOMyGfqgL0AOEyH\n",
      "https://api.nytimes.com/svc/search/v2/articlesearch.json?q=U.S.-China relations&begin_date=20090120&end_date=20100120&page=31&api-key=q9G4oWuPHcFvBfj0rkOMyGfqgL0AOEyH\n",
      "https://api.nytimes.com/svc/search/v2/articlesearch.json?q=U.S.-China relations&begin_date=20090120&end_date=20100120&page=32&api-key=q9G4oWuPHcFvBfj0rkOMyGfqgL0AOEyH\n",
      "https://api.nytimes.com/svc/search/v2/articlesearch.json?q=U.S.-China relations&begin_date=20090120&end_date=20100120&page=33&api-key=q9G4oWuPHcFvBfj0rkOMyGfqgL0AOEyH\n",
      "https://api.nytimes.com/svc/search/v2/articlesearch.json?q=U.S.-China relations&begin_date=20090120&end_date=20100120&page=34&api-key=q9G4oWuPHcFvBfj0rkOMyGfqgL0AOEyH\n",
      "https://api.nytimes.com/svc/search/v2/articlesearch.json?q=U.S.-China relations&begin_date=20090120&end_date=20100120&page=35&api-key=q9G4oWuPHcFvBfj0rkOMyGfqgL0AOEyH\n",
      "https://api.nytimes.com/svc/search/v2/articlesearch.json?q=U.S.-China relations&begin_date=20090120&end_date=20100120&page=36&api-key=q9G4oWuPHcFvBfj0rkOMyGfqgL0AOEyH\n",
      "https://api.nytimes.com/svc/search/v2/articlesearch.json?q=U.S.-China relations&begin_date=20090120&end_date=20100120&page=37&api-key=q9G4oWuPHcFvBfj0rkOMyGfqgL0AOEyH\n",
      "https://api.nytimes.com/svc/search/v2/articlesearch.json?q=U.S.-China relations&begin_date=20090120&end_date=20100120&page=38&api-key=q9G4oWuPHcFvBfj0rkOMyGfqgL0AOEyH\n",
      "https://api.nytimes.com/svc/search/v2/articlesearch.json?q=U.S.-China relations&begin_date=20090120&end_date=20100120&page=39&api-key=q9G4oWuPHcFvBfj0rkOMyGfqgL0AOEyH\n",
      "https://api.nytimes.com/svc/search/v2/articlesearch.json?q=U.S.-China relations&begin_date=20090120&end_date=20100120&page=40&api-key=q9G4oWuPHcFvBfj0rkOMyGfqgL0AOEyH\n",
      "https://api.nytimes.com/svc/search/v2/articlesearch.json?q=U.S.-China relations&begin_date=20090120&end_date=20100120&page=41&api-key=q9G4oWuPHcFvBfj0rkOMyGfqgL0AOEyH\n",
      "https://api.nytimes.com/svc/search/v2/articlesearch.json?q=U.S.-China relations&begin_date=20090120&end_date=20100120&page=42&api-key=q9G4oWuPHcFvBfj0rkOMyGfqgL0AOEyH\n",
      "https://api.nytimes.com/svc/search/v2/articlesearch.json?q=U.S.-China relations&begin_date=20090120&end_date=20100120&page=43&api-key=q9G4oWuPHcFvBfj0rkOMyGfqgL0AOEyH\n",
      "https://api.nytimes.com/svc/search/v2/articlesearch.json?q=U.S.-China relations&begin_date=20090120&end_date=20100120&page=44&api-key=q9G4oWuPHcFvBfj0rkOMyGfqgL0AOEyH\n",
      "https://api.nytimes.com/svc/search/v2/articlesearch.json?q=U.S.-China relations&begin_date=20090120&end_date=20100120&page=45&api-key=q9G4oWuPHcFvBfj0rkOMyGfqgL0AOEyH\n",
      "https://api.nytimes.com/svc/search/v2/articlesearch.json?q=U.S.-China relations&begin_date=20090120&end_date=20100120&page=46&api-key=q9G4oWuPHcFvBfj0rkOMyGfqgL0AOEyH\n",
      "https://api.nytimes.com/svc/search/v2/articlesearch.json?q=U.S.-China relations&begin_date=20090120&end_date=20100120&page=47&api-key=q9G4oWuPHcFvBfj0rkOMyGfqgL0AOEyH\n",
      "https://api.nytimes.com/svc/search/v2/articlesearch.json?q=U.S.-China relations&begin_date=20090120&end_date=20100120&page=48&api-key=q9G4oWuPHcFvBfj0rkOMyGfqgL0AOEyH\n",
      "https://api.nytimes.com/svc/search/v2/articlesearch.json?q=U.S.-China relations&begin_date=20090120&end_date=20100120&page=49&api-key=q9G4oWuPHcFvBfj0rkOMyGfqgL0AOEyH\n",
      "https://api.nytimes.com/svc/search/v2/articlesearch.json?q=U.S.-China relations&begin_date=20090120&end_date=20100120&page=50&api-key=q9G4oWuPHcFvBfj0rkOMyGfqgL0AOEyH\n"
     ]
    }
   ],
   "source": [
    "def search_nyt_articles(my_api_key, keyword, max_pages, begin_date=\"20090120\", end_date=\"20100120\"):\n",
    "    docs = []\n",
    "\n",
    "    for i in range(max_pages):\n",
    "        api = f\"https://api.nytimes.com/svc/search/v2/articlesearch.json?q={keyword}&begin_date={begin_date}&end_date={end_date}&page={i+1}&api-key={my_api_key}\"\n",
    "        print(api)\n",
    "        response = requests.get(api)\n",
    "        data = response.json()\n",
    "        try:\n",
    "            docs.extend(data['response']['docs'])\n",
    "        except KeyError:\n",
    "            return docs\n",
    "        time.sleep(12)\n",
    "\n",
    "    return docs\n",
    "\n",
    "articles = search_nyt_articles(my_api_key, keyword='U.S.-China relations', max_pages=50)"
   ]
  },
  {
   "cell_type": "code",
   "execution_count": 12,
   "id": "fc29a54a",
   "metadata": {},
   "outputs": [],
   "source": [
    "def consolidate_corpus(articles):\n",
    "    docs = []\n",
    "    for article in articles:\n",
    "        lead_paragraph = article.get('lead_paragraph')\n",
    "        docs.append([article['headline']['main'], lead_paragraph, article['pub_date']])\n",
    "        corpus_1 = pd.DataFrame(docs, columns=['headline', 'lead_paragraph', 'date'])\n",
    "    return corpus_1\n",
    "\n",
    "corpus_1  = consolidate_corpus(articles)\n",
    "\n",
    "corpus_1 ['date'] = pd.to_datetime(corpus_1['date'])\n",
    "\n",
    "corpus_1 = corpus_1.sort_values(by='date')\n",
    "\n",
    "corpus_1 .to_csv('corpus_1.csv', index=False)"
   ]
  },
  {
   "cell_type": "markdown",
   "id": "e320fd5a",
   "metadata": {},
   "source": [
    "# 2010 - 2011"
   ]
  },
  {
   "cell_type": "code",
   "execution_count": 14,
   "id": "4acaa512",
   "metadata": {},
   "outputs": [
    {
     "name": "stdout",
     "output_type": "stream",
     "text": [
      "https://api.nytimes.com/svc/search/v2/articlesearch.json?fq=U.S.-China relation&begin_date=20100120&end_date=20110120&api-key=q9G4oWuPHcFvBfj0rkOMyGfqgL0AOEyH\n",
      "12852\n"
     ]
    }
   ],
   "source": [
    "def number_of_articles(api_key, keyword, begin_date=\"20100120\", end_date=\"20110120\"):\n",
    "    url_query = f\"https://api.nytimes.com/svc/search/v2/articlesearch.json?fq={keyword}&begin_date={begin_date}&end_date={end_date}&api-key={api_key}\"\n",
    "    print(url_query)\n",
    "    res = requests.get(url_query)\n",
    "    json_res = res.json()\n",
    "    hits = json_res[\"response\"][\"meta\"][\"hits\"]\n",
    "    return hits\n",
    "\n",
    "print(number_of_articles(api_key=my_api_key, keyword='U.S.-China relation'))"
   ]
  },
  {
   "cell_type": "code",
   "execution_count": 20,
   "id": "95b872a6",
   "metadata": {},
   "outputs": [
    {
     "name": "stdout",
     "output_type": "stream",
     "text": [
      "https://api.nytimes.com/svc/search/v2/articlesearch.json?q=U.S.-China relations&begin_date=20100120&end_date=20110120&page=1&api-key=q9G4oWuPHcFvBfj0rkOMyGfqgL0AOEyH\n",
      "https://api.nytimes.com/svc/search/v2/articlesearch.json?q=U.S.-China relations&begin_date=20100120&end_date=20110120&page=2&api-key=q9G4oWuPHcFvBfj0rkOMyGfqgL0AOEyH\n",
      "https://api.nytimes.com/svc/search/v2/articlesearch.json?q=U.S.-China relations&begin_date=20100120&end_date=20110120&page=3&api-key=q9G4oWuPHcFvBfj0rkOMyGfqgL0AOEyH\n",
      "https://api.nytimes.com/svc/search/v2/articlesearch.json?q=U.S.-China relations&begin_date=20100120&end_date=20110120&page=4&api-key=q9G4oWuPHcFvBfj0rkOMyGfqgL0AOEyH\n",
      "https://api.nytimes.com/svc/search/v2/articlesearch.json?q=U.S.-China relations&begin_date=20100120&end_date=20110120&page=5&api-key=q9G4oWuPHcFvBfj0rkOMyGfqgL0AOEyH\n",
      "https://api.nytimes.com/svc/search/v2/articlesearch.json?q=U.S.-China relations&begin_date=20100120&end_date=20110120&page=6&api-key=q9G4oWuPHcFvBfj0rkOMyGfqgL0AOEyH\n",
      "https://api.nytimes.com/svc/search/v2/articlesearch.json?q=U.S.-China relations&begin_date=20100120&end_date=20110120&page=7&api-key=q9G4oWuPHcFvBfj0rkOMyGfqgL0AOEyH\n",
      "https://api.nytimes.com/svc/search/v2/articlesearch.json?q=U.S.-China relations&begin_date=20100120&end_date=20110120&page=8&api-key=q9G4oWuPHcFvBfj0rkOMyGfqgL0AOEyH\n",
      "https://api.nytimes.com/svc/search/v2/articlesearch.json?q=U.S.-China relations&begin_date=20100120&end_date=20110120&page=9&api-key=q9G4oWuPHcFvBfj0rkOMyGfqgL0AOEyH\n",
      "https://api.nytimes.com/svc/search/v2/articlesearch.json?q=U.S.-China relations&begin_date=20100120&end_date=20110120&page=10&api-key=q9G4oWuPHcFvBfj0rkOMyGfqgL0AOEyH\n",
      "https://api.nytimes.com/svc/search/v2/articlesearch.json?q=U.S.-China relations&begin_date=20100120&end_date=20110120&page=11&api-key=q9G4oWuPHcFvBfj0rkOMyGfqgL0AOEyH\n",
      "https://api.nytimes.com/svc/search/v2/articlesearch.json?q=U.S.-China relations&begin_date=20100120&end_date=20110120&page=12&api-key=q9G4oWuPHcFvBfj0rkOMyGfqgL0AOEyH\n",
      "https://api.nytimes.com/svc/search/v2/articlesearch.json?q=U.S.-China relations&begin_date=20100120&end_date=20110120&page=13&api-key=q9G4oWuPHcFvBfj0rkOMyGfqgL0AOEyH\n",
      "https://api.nytimes.com/svc/search/v2/articlesearch.json?q=U.S.-China relations&begin_date=20100120&end_date=20110120&page=14&api-key=q9G4oWuPHcFvBfj0rkOMyGfqgL0AOEyH\n",
      "https://api.nytimes.com/svc/search/v2/articlesearch.json?q=U.S.-China relations&begin_date=20100120&end_date=20110120&page=15&api-key=q9G4oWuPHcFvBfj0rkOMyGfqgL0AOEyH\n",
      "https://api.nytimes.com/svc/search/v2/articlesearch.json?q=U.S.-China relations&begin_date=20100120&end_date=20110120&page=16&api-key=q9G4oWuPHcFvBfj0rkOMyGfqgL0AOEyH\n",
      "https://api.nytimes.com/svc/search/v2/articlesearch.json?q=U.S.-China relations&begin_date=20100120&end_date=20110120&page=17&api-key=q9G4oWuPHcFvBfj0rkOMyGfqgL0AOEyH\n",
      "https://api.nytimes.com/svc/search/v2/articlesearch.json?q=U.S.-China relations&begin_date=20100120&end_date=20110120&page=18&api-key=q9G4oWuPHcFvBfj0rkOMyGfqgL0AOEyH\n",
      "https://api.nytimes.com/svc/search/v2/articlesearch.json?q=U.S.-China relations&begin_date=20100120&end_date=20110120&page=19&api-key=q9G4oWuPHcFvBfj0rkOMyGfqgL0AOEyH\n",
      "https://api.nytimes.com/svc/search/v2/articlesearch.json?q=U.S.-China relations&begin_date=20100120&end_date=20110120&page=20&api-key=q9G4oWuPHcFvBfj0rkOMyGfqgL0AOEyH\n",
      "https://api.nytimes.com/svc/search/v2/articlesearch.json?q=U.S.-China relations&begin_date=20100120&end_date=20110120&page=21&api-key=q9G4oWuPHcFvBfj0rkOMyGfqgL0AOEyH\n",
      "https://api.nytimes.com/svc/search/v2/articlesearch.json?q=U.S.-China relations&begin_date=20100120&end_date=20110120&page=22&api-key=q9G4oWuPHcFvBfj0rkOMyGfqgL0AOEyH\n",
      "https://api.nytimes.com/svc/search/v2/articlesearch.json?q=U.S.-China relations&begin_date=20100120&end_date=20110120&page=23&api-key=q9G4oWuPHcFvBfj0rkOMyGfqgL0AOEyH\n",
      "https://api.nytimes.com/svc/search/v2/articlesearch.json?q=U.S.-China relations&begin_date=20100120&end_date=20110120&page=24&api-key=q9G4oWuPHcFvBfj0rkOMyGfqgL0AOEyH\n",
      "https://api.nytimes.com/svc/search/v2/articlesearch.json?q=U.S.-China relations&begin_date=20100120&end_date=20110120&page=25&api-key=q9G4oWuPHcFvBfj0rkOMyGfqgL0AOEyH\n",
      "https://api.nytimes.com/svc/search/v2/articlesearch.json?q=U.S.-China relations&begin_date=20100120&end_date=20110120&page=26&api-key=q9G4oWuPHcFvBfj0rkOMyGfqgL0AOEyH\n",
      "https://api.nytimes.com/svc/search/v2/articlesearch.json?q=U.S.-China relations&begin_date=20100120&end_date=20110120&page=27&api-key=q9G4oWuPHcFvBfj0rkOMyGfqgL0AOEyH\n",
      "https://api.nytimes.com/svc/search/v2/articlesearch.json?q=U.S.-China relations&begin_date=20100120&end_date=20110120&page=28&api-key=q9G4oWuPHcFvBfj0rkOMyGfqgL0AOEyH\n",
      "https://api.nytimes.com/svc/search/v2/articlesearch.json?q=U.S.-China relations&begin_date=20100120&end_date=20110120&page=29&api-key=q9G4oWuPHcFvBfj0rkOMyGfqgL0AOEyH\n",
      "https://api.nytimes.com/svc/search/v2/articlesearch.json?q=U.S.-China relations&begin_date=20100120&end_date=20110120&page=30&api-key=q9G4oWuPHcFvBfj0rkOMyGfqgL0AOEyH\n",
      "https://api.nytimes.com/svc/search/v2/articlesearch.json?q=U.S.-China relations&begin_date=20100120&end_date=20110120&page=31&api-key=q9G4oWuPHcFvBfj0rkOMyGfqgL0AOEyH\n",
      "https://api.nytimes.com/svc/search/v2/articlesearch.json?q=U.S.-China relations&begin_date=20100120&end_date=20110120&page=32&api-key=q9G4oWuPHcFvBfj0rkOMyGfqgL0AOEyH\n",
      "https://api.nytimes.com/svc/search/v2/articlesearch.json?q=U.S.-China relations&begin_date=20100120&end_date=20110120&page=33&api-key=q9G4oWuPHcFvBfj0rkOMyGfqgL0AOEyH\n",
      "https://api.nytimes.com/svc/search/v2/articlesearch.json?q=U.S.-China relations&begin_date=20100120&end_date=20110120&page=34&api-key=q9G4oWuPHcFvBfj0rkOMyGfqgL0AOEyH\n",
      "https://api.nytimes.com/svc/search/v2/articlesearch.json?q=U.S.-China relations&begin_date=20100120&end_date=20110120&page=35&api-key=q9G4oWuPHcFvBfj0rkOMyGfqgL0AOEyH\n",
      "https://api.nytimes.com/svc/search/v2/articlesearch.json?q=U.S.-China relations&begin_date=20100120&end_date=20110120&page=36&api-key=q9G4oWuPHcFvBfj0rkOMyGfqgL0AOEyH\n",
      "https://api.nytimes.com/svc/search/v2/articlesearch.json?q=U.S.-China relations&begin_date=20100120&end_date=20110120&page=37&api-key=q9G4oWuPHcFvBfj0rkOMyGfqgL0AOEyH\n",
      "https://api.nytimes.com/svc/search/v2/articlesearch.json?q=U.S.-China relations&begin_date=20100120&end_date=20110120&page=38&api-key=q9G4oWuPHcFvBfj0rkOMyGfqgL0AOEyH\n",
      "https://api.nytimes.com/svc/search/v2/articlesearch.json?q=U.S.-China relations&begin_date=20100120&end_date=20110120&page=39&api-key=q9G4oWuPHcFvBfj0rkOMyGfqgL0AOEyH\n",
      "https://api.nytimes.com/svc/search/v2/articlesearch.json?q=U.S.-China relations&begin_date=20100120&end_date=20110120&page=40&api-key=q9G4oWuPHcFvBfj0rkOMyGfqgL0AOEyH\n",
      "https://api.nytimes.com/svc/search/v2/articlesearch.json?q=U.S.-China relations&begin_date=20100120&end_date=20110120&page=41&api-key=q9G4oWuPHcFvBfj0rkOMyGfqgL0AOEyH\n",
      "https://api.nytimes.com/svc/search/v2/articlesearch.json?q=U.S.-China relations&begin_date=20100120&end_date=20110120&page=42&api-key=q9G4oWuPHcFvBfj0rkOMyGfqgL0AOEyH\n",
      "https://api.nytimes.com/svc/search/v2/articlesearch.json?q=U.S.-China relations&begin_date=20100120&end_date=20110120&page=43&api-key=q9G4oWuPHcFvBfj0rkOMyGfqgL0AOEyH\n",
      "https://api.nytimes.com/svc/search/v2/articlesearch.json?q=U.S.-China relations&begin_date=20100120&end_date=20110120&page=44&api-key=q9G4oWuPHcFvBfj0rkOMyGfqgL0AOEyH\n",
      "https://api.nytimes.com/svc/search/v2/articlesearch.json?q=U.S.-China relations&begin_date=20100120&end_date=20110120&page=45&api-key=q9G4oWuPHcFvBfj0rkOMyGfqgL0AOEyH\n",
      "https://api.nytimes.com/svc/search/v2/articlesearch.json?q=U.S.-China relations&begin_date=20100120&end_date=20110120&page=46&api-key=q9G4oWuPHcFvBfj0rkOMyGfqgL0AOEyH\n",
      "https://api.nytimes.com/svc/search/v2/articlesearch.json?q=U.S.-China relations&begin_date=20100120&end_date=20110120&page=47&api-key=q9G4oWuPHcFvBfj0rkOMyGfqgL0AOEyH\n",
      "https://api.nytimes.com/svc/search/v2/articlesearch.json?q=U.S.-China relations&begin_date=20100120&end_date=20110120&page=48&api-key=q9G4oWuPHcFvBfj0rkOMyGfqgL0AOEyH\n",
      "https://api.nytimes.com/svc/search/v2/articlesearch.json?q=U.S.-China relations&begin_date=20100120&end_date=20110120&page=49&api-key=q9G4oWuPHcFvBfj0rkOMyGfqgL0AOEyH\n",
      "https://api.nytimes.com/svc/search/v2/articlesearch.json?q=U.S.-China relations&begin_date=20100120&end_date=20110120&page=50&api-key=q9G4oWuPHcFvBfj0rkOMyGfqgL0AOEyH\n"
     ]
    }
   ],
   "source": [
    "def search_nyt_articles(my_api_key, keyword, max_pages, begin_date=\"20100120\", end_date=\"20110120\"):\n",
    "    docs = []\n",
    "\n",
    "    for i in range(max_pages):\n",
    "        api = f\"https://api.nytimes.com/svc/search/v2/articlesearch.json?q={keyword}&begin_date={begin_date}&end_date={end_date}&page={i+1}&api-key={my_api_key}\"\n",
    "        print(api)\n",
    "        response = requests.get(api)\n",
    "        data = response.json()\n",
    "        try:\n",
    "            docs.extend(data['response']['docs'])\n",
    "        except KeyError:\n",
    "            return docs\n",
    "        time.sleep(12)\n",
    "\n",
    "    return docs\n",
    "\n",
    "articles = search_nyt_articles(my_api_key, keyword='U.S.-China relations', max_pages=50)"
   ]
  },
  {
   "cell_type": "code",
   "execution_count": 22,
   "id": "01a7060d",
   "metadata": {},
   "outputs": [],
   "source": [
    "def consolidate_corpus(articles):\n",
    "    docs = []\n",
    "    for article in articles:\n",
    "        lead_paragraph = article.get('lead_paragraph')\n",
    "        docs.append([article['headline']['main'], lead_paragraph, article['pub_date']])\n",
    "        corpus_2 = pd.DataFrame(docs, columns=['headline', 'lead_paragraph', 'date'])\n",
    "    return corpus_2\n",
    "\n",
    "corpus_2 = consolidate_corpus(articles)\n",
    "\n",
    "corpus_2 ['date'] = pd.to_datetime(corpus_2['date'])\n",
    "\n",
    "corpus_2  = corpus_2.sort_values(by='date')\n",
    "\n",
    "corpus_2.to_csv('corpus_2.csv', index=False)"
   ]
  },
  {
   "cell_type": "markdown",
   "id": "0a51a6cb",
   "metadata": {},
   "source": [
    "# 2011 - 2012"
   ]
  },
  {
   "cell_type": "code",
   "execution_count": 6,
   "id": "f7249e8b",
   "metadata": {},
   "outputs": [
    {
     "name": "stdout",
     "output_type": "stream",
     "text": [
      "https://api.nytimes.com/svc/search/v2/articlesearch.json?fq=U.S.-China relation&begin_date=20110120&end_date=20120120&api-key=q9G4oWuPHcFvBfj0rkOMyGfqgL0AOEyH\n",
      "11652\n"
     ]
    }
   ],
   "source": [
    "def number_of_articles(api_key, keyword, begin_date=\"20110120\", end_date=\"20120120\"):\n",
    "    url_query = f\"https://api.nytimes.com/svc/search/v2/articlesearch.json?fq={keyword}&begin_date={begin_date}&end_date={end_date}&api-key={api_key}\"\n",
    "    print(url_query)\n",
    "    res = requests.get(url_query)\n",
    "    json_res = res.json()\n",
    "    hits = json_res[\"response\"][\"meta\"][\"hits\"]\n",
    "    return hits\n",
    "\n",
    "print(number_of_articles(api_key=my_api_key, keyword='U.S.-China relation'))"
   ]
  },
  {
   "cell_type": "code",
   "execution_count": 7,
   "id": "b691e3e7",
   "metadata": {},
   "outputs": [
    {
     "name": "stdout",
     "output_type": "stream",
     "text": [
      "https://api.nytimes.com/svc/search/v2/articlesearch.json?q=U.S.-China relations&begin_date=20110120&end_date=20120120&page=1&api-key=q9G4oWuPHcFvBfj0rkOMyGfqgL0AOEyH\n",
      "https://api.nytimes.com/svc/search/v2/articlesearch.json?q=U.S.-China relations&begin_date=20110120&end_date=20120120&page=2&api-key=q9G4oWuPHcFvBfj0rkOMyGfqgL0AOEyH\n",
      "https://api.nytimes.com/svc/search/v2/articlesearch.json?q=U.S.-China relations&begin_date=20110120&end_date=20120120&page=3&api-key=q9G4oWuPHcFvBfj0rkOMyGfqgL0AOEyH\n",
      "https://api.nytimes.com/svc/search/v2/articlesearch.json?q=U.S.-China relations&begin_date=20110120&end_date=20120120&page=4&api-key=q9G4oWuPHcFvBfj0rkOMyGfqgL0AOEyH\n",
      "https://api.nytimes.com/svc/search/v2/articlesearch.json?q=U.S.-China relations&begin_date=20110120&end_date=20120120&page=5&api-key=q9G4oWuPHcFvBfj0rkOMyGfqgL0AOEyH\n",
      "https://api.nytimes.com/svc/search/v2/articlesearch.json?q=U.S.-China relations&begin_date=20110120&end_date=20120120&page=6&api-key=q9G4oWuPHcFvBfj0rkOMyGfqgL0AOEyH\n",
      "https://api.nytimes.com/svc/search/v2/articlesearch.json?q=U.S.-China relations&begin_date=20110120&end_date=20120120&page=7&api-key=q9G4oWuPHcFvBfj0rkOMyGfqgL0AOEyH\n",
      "https://api.nytimes.com/svc/search/v2/articlesearch.json?q=U.S.-China relations&begin_date=20110120&end_date=20120120&page=8&api-key=q9G4oWuPHcFvBfj0rkOMyGfqgL0AOEyH\n",
      "https://api.nytimes.com/svc/search/v2/articlesearch.json?q=U.S.-China relations&begin_date=20110120&end_date=20120120&page=9&api-key=q9G4oWuPHcFvBfj0rkOMyGfqgL0AOEyH\n",
      "https://api.nytimes.com/svc/search/v2/articlesearch.json?q=U.S.-China relations&begin_date=20110120&end_date=20120120&page=10&api-key=q9G4oWuPHcFvBfj0rkOMyGfqgL0AOEyH\n",
      "https://api.nytimes.com/svc/search/v2/articlesearch.json?q=U.S.-China relations&begin_date=20110120&end_date=20120120&page=11&api-key=q9G4oWuPHcFvBfj0rkOMyGfqgL0AOEyH\n",
      "https://api.nytimes.com/svc/search/v2/articlesearch.json?q=U.S.-China relations&begin_date=20110120&end_date=20120120&page=12&api-key=q9G4oWuPHcFvBfj0rkOMyGfqgL0AOEyH\n",
      "https://api.nytimes.com/svc/search/v2/articlesearch.json?q=U.S.-China relations&begin_date=20110120&end_date=20120120&page=13&api-key=q9G4oWuPHcFvBfj0rkOMyGfqgL0AOEyH\n",
      "https://api.nytimes.com/svc/search/v2/articlesearch.json?q=U.S.-China relations&begin_date=20110120&end_date=20120120&page=14&api-key=q9G4oWuPHcFvBfj0rkOMyGfqgL0AOEyH\n",
      "https://api.nytimes.com/svc/search/v2/articlesearch.json?q=U.S.-China relations&begin_date=20110120&end_date=20120120&page=15&api-key=q9G4oWuPHcFvBfj0rkOMyGfqgL0AOEyH\n",
      "https://api.nytimes.com/svc/search/v2/articlesearch.json?q=U.S.-China relations&begin_date=20110120&end_date=20120120&page=16&api-key=q9G4oWuPHcFvBfj0rkOMyGfqgL0AOEyH\n",
      "https://api.nytimes.com/svc/search/v2/articlesearch.json?q=U.S.-China relations&begin_date=20110120&end_date=20120120&page=17&api-key=q9G4oWuPHcFvBfj0rkOMyGfqgL0AOEyH\n",
      "https://api.nytimes.com/svc/search/v2/articlesearch.json?q=U.S.-China relations&begin_date=20110120&end_date=20120120&page=18&api-key=q9G4oWuPHcFvBfj0rkOMyGfqgL0AOEyH\n",
      "https://api.nytimes.com/svc/search/v2/articlesearch.json?q=U.S.-China relations&begin_date=20110120&end_date=20120120&page=19&api-key=q9G4oWuPHcFvBfj0rkOMyGfqgL0AOEyH\n",
      "https://api.nytimes.com/svc/search/v2/articlesearch.json?q=U.S.-China relations&begin_date=20110120&end_date=20120120&page=20&api-key=q9G4oWuPHcFvBfj0rkOMyGfqgL0AOEyH\n",
      "https://api.nytimes.com/svc/search/v2/articlesearch.json?q=U.S.-China relations&begin_date=20110120&end_date=20120120&page=21&api-key=q9G4oWuPHcFvBfj0rkOMyGfqgL0AOEyH\n",
      "https://api.nytimes.com/svc/search/v2/articlesearch.json?q=U.S.-China relations&begin_date=20110120&end_date=20120120&page=22&api-key=q9G4oWuPHcFvBfj0rkOMyGfqgL0AOEyH\n",
      "https://api.nytimes.com/svc/search/v2/articlesearch.json?q=U.S.-China relations&begin_date=20110120&end_date=20120120&page=23&api-key=q9G4oWuPHcFvBfj0rkOMyGfqgL0AOEyH\n",
      "https://api.nytimes.com/svc/search/v2/articlesearch.json?q=U.S.-China relations&begin_date=20110120&end_date=20120120&page=24&api-key=q9G4oWuPHcFvBfj0rkOMyGfqgL0AOEyH\n",
      "https://api.nytimes.com/svc/search/v2/articlesearch.json?q=U.S.-China relations&begin_date=20110120&end_date=20120120&page=25&api-key=q9G4oWuPHcFvBfj0rkOMyGfqgL0AOEyH\n",
      "https://api.nytimes.com/svc/search/v2/articlesearch.json?q=U.S.-China relations&begin_date=20110120&end_date=20120120&page=26&api-key=q9G4oWuPHcFvBfj0rkOMyGfqgL0AOEyH\n",
      "https://api.nytimes.com/svc/search/v2/articlesearch.json?q=U.S.-China relations&begin_date=20110120&end_date=20120120&page=27&api-key=q9G4oWuPHcFvBfj0rkOMyGfqgL0AOEyH\n",
      "https://api.nytimes.com/svc/search/v2/articlesearch.json?q=U.S.-China relations&begin_date=20110120&end_date=20120120&page=28&api-key=q9G4oWuPHcFvBfj0rkOMyGfqgL0AOEyH\n",
      "https://api.nytimes.com/svc/search/v2/articlesearch.json?q=U.S.-China relations&begin_date=20110120&end_date=20120120&page=29&api-key=q9G4oWuPHcFvBfj0rkOMyGfqgL0AOEyH\n",
      "https://api.nytimes.com/svc/search/v2/articlesearch.json?q=U.S.-China relations&begin_date=20110120&end_date=20120120&page=30&api-key=q9G4oWuPHcFvBfj0rkOMyGfqgL0AOEyH\n",
      "https://api.nytimes.com/svc/search/v2/articlesearch.json?q=U.S.-China relations&begin_date=20110120&end_date=20120120&page=31&api-key=q9G4oWuPHcFvBfj0rkOMyGfqgL0AOEyH\n",
      "https://api.nytimes.com/svc/search/v2/articlesearch.json?q=U.S.-China relations&begin_date=20110120&end_date=20120120&page=32&api-key=q9G4oWuPHcFvBfj0rkOMyGfqgL0AOEyH\n",
      "https://api.nytimes.com/svc/search/v2/articlesearch.json?q=U.S.-China relations&begin_date=20110120&end_date=20120120&page=33&api-key=q9G4oWuPHcFvBfj0rkOMyGfqgL0AOEyH\n",
      "https://api.nytimes.com/svc/search/v2/articlesearch.json?q=U.S.-China relations&begin_date=20110120&end_date=20120120&page=34&api-key=q9G4oWuPHcFvBfj0rkOMyGfqgL0AOEyH\n",
      "https://api.nytimes.com/svc/search/v2/articlesearch.json?q=U.S.-China relations&begin_date=20110120&end_date=20120120&page=35&api-key=q9G4oWuPHcFvBfj0rkOMyGfqgL0AOEyH\n",
      "https://api.nytimes.com/svc/search/v2/articlesearch.json?q=U.S.-China relations&begin_date=20110120&end_date=20120120&page=36&api-key=q9G4oWuPHcFvBfj0rkOMyGfqgL0AOEyH\n",
      "https://api.nytimes.com/svc/search/v2/articlesearch.json?q=U.S.-China relations&begin_date=20110120&end_date=20120120&page=37&api-key=q9G4oWuPHcFvBfj0rkOMyGfqgL0AOEyH\n",
      "https://api.nytimes.com/svc/search/v2/articlesearch.json?q=U.S.-China relations&begin_date=20110120&end_date=20120120&page=38&api-key=q9G4oWuPHcFvBfj0rkOMyGfqgL0AOEyH\n",
      "https://api.nytimes.com/svc/search/v2/articlesearch.json?q=U.S.-China relations&begin_date=20110120&end_date=20120120&page=39&api-key=q9G4oWuPHcFvBfj0rkOMyGfqgL0AOEyH\n",
      "https://api.nytimes.com/svc/search/v2/articlesearch.json?q=U.S.-China relations&begin_date=20110120&end_date=20120120&page=40&api-key=q9G4oWuPHcFvBfj0rkOMyGfqgL0AOEyH\n",
      "https://api.nytimes.com/svc/search/v2/articlesearch.json?q=U.S.-China relations&begin_date=20110120&end_date=20120120&page=41&api-key=q9G4oWuPHcFvBfj0rkOMyGfqgL0AOEyH\n",
      "https://api.nytimes.com/svc/search/v2/articlesearch.json?q=U.S.-China relations&begin_date=20110120&end_date=20120120&page=42&api-key=q9G4oWuPHcFvBfj0rkOMyGfqgL0AOEyH\n",
      "https://api.nytimes.com/svc/search/v2/articlesearch.json?q=U.S.-China relations&begin_date=20110120&end_date=20120120&page=43&api-key=q9G4oWuPHcFvBfj0rkOMyGfqgL0AOEyH\n",
      "https://api.nytimes.com/svc/search/v2/articlesearch.json?q=U.S.-China relations&begin_date=20110120&end_date=20120120&page=44&api-key=q9G4oWuPHcFvBfj0rkOMyGfqgL0AOEyH\n",
      "https://api.nytimes.com/svc/search/v2/articlesearch.json?q=U.S.-China relations&begin_date=20110120&end_date=20120120&page=45&api-key=q9G4oWuPHcFvBfj0rkOMyGfqgL0AOEyH\n",
      "https://api.nytimes.com/svc/search/v2/articlesearch.json?q=U.S.-China relations&begin_date=20110120&end_date=20120120&page=46&api-key=q9G4oWuPHcFvBfj0rkOMyGfqgL0AOEyH\n",
      "https://api.nytimes.com/svc/search/v2/articlesearch.json?q=U.S.-China relations&begin_date=20110120&end_date=20120120&page=47&api-key=q9G4oWuPHcFvBfj0rkOMyGfqgL0AOEyH\n",
      "https://api.nytimes.com/svc/search/v2/articlesearch.json?q=U.S.-China relations&begin_date=20110120&end_date=20120120&page=48&api-key=q9G4oWuPHcFvBfj0rkOMyGfqgL0AOEyH\n",
      "https://api.nytimes.com/svc/search/v2/articlesearch.json?q=U.S.-China relations&begin_date=20110120&end_date=20120120&page=49&api-key=q9G4oWuPHcFvBfj0rkOMyGfqgL0AOEyH\n",
      "https://api.nytimes.com/svc/search/v2/articlesearch.json?q=U.S.-China relations&begin_date=20110120&end_date=20120120&page=50&api-key=q9G4oWuPHcFvBfj0rkOMyGfqgL0AOEyH\n"
     ]
    }
   ],
   "source": [
    "def search_nyt_articles(my_api_key, keyword, max_pages, begin_date=\"20110120\", end_date=\"20120120\"):\n",
    "    docs = []\n",
    "\n",
    "    for i in range(max_pages):\n",
    "        api = f\"https://api.nytimes.com/svc/search/v2/articlesearch.json?q={keyword}&begin_date={begin_date}&end_date={end_date}&page={i+1}&api-key={my_api_key}\"\n",
    "        print(api)\n",
    "        response = requests.get(api)\n",
    "        data = response.json()\n",
    "        try:\n",
    "            docs.extend(data['response']['docs'])\n",
    "        except KeyError:\n",
    "            return docs\n",
    "        time.sleep(12)\n",
    "\n",
    "    return docs\n",
    "\n",
    "articles = search_nyt_articles(my_api_key, keyword='U.S.-China relations', max_pages=50)"
   ]
  },
  {
   "cell_type": "code",
   "execution_count": 8,
   "id": "e83a8e67",
   "metadata": {},
   "outputs": [],
   "source": [
    "def consolidate_corpus(articles):\n",
    "    docs = []\n",
    "    for article in articles:\n",
    "        lead_paragraph = article.get('lead_paragraph')\n",
    "        docs.append([article['headline']['main'], lead_paragraph, article['pub_date']])\n",
    "        corpus_3 = pd.DataFrame(docs, columns=['headline', 'lead_paragraph', 'date'])\n",
    "    return corpus_3\n",
    "\n",
    "corpus_3  = consolidate_corpus(articles)\n",
    "\n",
    "corpus_3['date'] = pd.to_datetime(corpus_3['date'])\n",
    "\n",
    "corpus_3 = corpus_3.sort_values(by='date')\n",
    "\n",
    "corpus_3.to_csv('corpus_3.csv', index=False)"
   ]
  },
  {
   "cell_type": "markdown",
   "id": "f187ab6f",
   "metadata": {},
   "source": [
    "# 2012 - 2013"
   ]
  },
  {
   "cell_type": "code",
   "execution_count": 9,
   "id": "94f1fe3d",
   "metadata": {},
   "outputs": [
    {
     "name": "stdout",
     "output_type": "stream",
     "text": [
      "https://api.nytimes.com/svc/search/v2/articlesearch.json?fq=U.S.-China relations&begin_date=20120120&end_date=20130120&api-key=q9G4oWuPHcFvBfj0rkOMyGfqgL0AOEyH\n",
      "14054\n"
     ]
    }
   ],
   "source": [
    "def number_of_articles(api_key, keyword, begin_date=\"20120120\", end_date=\"20130120\"):\n",
    "    url_query = f\"https://api.nytimes.com/svc/search/v2/articlesearch.json?fq={keyword}&begin_date={begin_date}&end_date={end_date}&api-key={api_key}\"\n",
    "    print(url_query)\n",
    "    res = requests.get(url_query)\n",
    "    json_res = res.json()\n",
    "    hits = json_res[\"response\"][\"meta\"][\"hits\"]\n",
    "    return hits\n",
    "\n",
    "print(number_of_articles(api_key=my_api_key, keyword='U.S.-China relations'))"
   ]
  },
  {
   "cell_type": "code",
   "execution_count": 10,
   "id": "d60881e8",
   "metadata": {},
   "outputs": [
    {
     "name": "stdout",
     "output_type": "stream",
     "text": [
      "https://api.nytimes.com/svc/search/v2/articlesearch.json?q=U.S.-China relations&begin_date=20120120&end_date=20130120&page=1&api-key=q9G4oWuPHcFvBfj0rkOMyGfqgL0AOEyH\n",
      "https://api.nytimes.com/svc/search/v2/articlesearch.json?q=U.S.-China relations&begin_date=20120120&end_date=20130120&page=2&api-key=q9G4oWuPHcFvBfj0rkOMyGfqgL0AOEyH\n",
      "https://api.nytimes.com/svc/search/v2/articlesearch.json?q=U.S.-China relations&begin_date=20120120&end_date=20130120&page=3&api-key=q9G4oWuPHcFvBfj0rkOMyGfqgL0AOEyH\n",
      "https://api.nytimes.com/svc/search/v2/articlesearch.json?q=U.S.-China relations&begin_date=20120120&end_date=20130120&page=4&api-key=q9G4oWuPHcFvBfj0rkOMyGfqgL0AOEyH\n",
      "https://api.nytimes.com/svc/search/v2/articlesearch.json?q=U.S.-China relations&begin_date=20120120&end_date=20130120&page=5&api-key=q9G4oWuPHcFvBfj0rkOMyGfqgL0AOEyH\n",
      "https://api.nytimes.com/svc/search/v2/articlesearch.json?q=U.S.-China relations&begin_date=20120120&end_date=20130120&page=6&api-key=q9G4oWuPHcFvBfj0rkOMyGfqgL0AOEyH\n",
      "https://api.nytimes.com/svc/search/v2/articlesearch.json?q=U.S.-China relations&begin_date=20120120&end_date=20130120&page=7&api-key=q9G4oWuPHcFvBfj0rkOMyGfqgL0AOEyH\n",
      "https://api.nytimes.com/svc/search/v2/articlesearch.json?q=U.S.-China relations&begin_date=20120120&end_date=20130120&page=8&api-key=q9G4oWuPHcFvBfj0rkOMyGfqgL0AOEyH\n",
      "https://api.nytimes.com/svc/search/v2/articlesearch.json?q=U.S.-China relations&begin_date=20120120&end_date=20130120&page=9&api-key=q9G4oWuPHcFvBfj0rkOMyGfqgL0AOEyH\n",
      "https://api.nytimes.com/svc/search/v2/articlesearch.json?q=U.S.-China relations&begin_date=20120120&end_date=20130120&page=10&api-key=q9G4oWuPHcFvBfj0rkOMyGfqgL0AOEyH\n",
      "https://api.nytimes.com/svc/search/v2/articlesearch.json?q=U.S.-China relations&begin_date=20120120&end_date=20130120&page=11&api-key=q9G4oWuPHcFvBfj0rkOMyGfqgL0AOEyH\n",
      "https://api.nytimes.com/svc/search/v2/articlesearch.json?q=U.S.-China relations&begin_date=20120120&end_date=20130120&page=12&api-key=q9G4oWuPHcFvBfj0rkOMyGfqgL0AOEyH\n",
      "https://api.nytimes.com/svc/search/v2/articlesearch.json?q=U.S.-China relations&begin_date=20120120&end_date=20130120&page=13&api-key=q9G4oWuPHcFvBfj0rkOMyGfqgL0AOEyH\n",
      "https://api.nytimes.com/svc/search/v2/articlesearch.json?q=U.S.-China relations&begin_date=20120120&end_date=20130120&page=14&api-key=q9G4oWuPHcFvBfj0rkOMyGfqgL0AOEyH\n",
      "https://api.nytimes.com/svc/search/v2/articlesearch.json?q=U.S.-China relations&begin_date=20120120&end_date=20130120&page=15&api-key=q9G4oWuPHcFvBfj0rkOMyGfqgL0AOEyH\n",
      "https://api.nytimes.com/svc/search/v2/articlesearch.json?q=U.S.-China relations&begin_date=20120120&end_date=20130120&page=16&api-key=q9G4oWuPHcFvBfj0rkOMyGfqgL0AOEyH\n",
      "https://api.nytimes.com/svc/search/v2/articlesearch.json?q=U.S.-China relations&begin_date=20120120&end_date=20130120&page=17&api-key=q9G4oWuPHcFvBfj0rkOMyGfqgL0AOEyH\n",
      "https://api.nytimes.com/svc/search/v2/articlesearch.json?q=U.S.-China relations&begin_date=20120120&end_date=20130120&page=18&api-key=q9G4oWuPHcFvBfj0rkOMyGfqgL0AOEyH\n",
      "https://api.nytimes.com/svc/search/v2/articlesearch.json?q=U.S.-China relations&begin_date=20120120&end_date=20130120&page=19&api-key=q9G4oWuPHcFvBfj0rkOMyGfqgL0AOEyH\n",
      "https://api.nytimes.com/svc/search/v2/articlesearch.json?q=U.S.-China relations&begin_date=20120120&end_date=20130120&page=20&api-key=q9G4oWuPHcFvBfj0rkOMyGfqgL0AOEyH\n",
      "https://api.nytimes.com/svc/search/v2/articlesearch.json?q=U.S.-China relations&begin_date=20120120&end_date=20130120&page=21&api-key=q9G4oWuPHcFvBfj0rkOMyGfqgL0AOEyH\n",
      "https://api.nytimes.com/svc/search/v2/articlesearch.json?q=U.S.-China relations&begin_date=20120120&end_date=20130120&page=22&api-key=q9G4oWuPHcFvBfj0rkOMyGfqgL0AOEyH\n",
      "https://api.nytimes.com/svc/search/v2/articlesearch.json?q=U.S.-China relations&begin_date=20120120&end_date=20130120&page=23&api-key=q9G4oWuPHcFvBfj0rkOMyGfqgL0AOEyH\n",
      "https://api.nytimes.com/svc/search/v2/articlesearch.json?q=U.S.-China relations&begin_date=20120120&end_date=20130120&page=24&api-key=q9G4oWuPHcFvBfj0rkOMyGfqgL0AOEyH\n",
      "https://api.nytimes.com/svc/search/v2/articlesearch.json?q=U.S.-China relations&begin_date=20120120&end_date=20130120&page=25&api-key=q9G4oWuPHcFvBfj0rkOMyGfqgL0AOEyH\n",
      "https://api.nytimes.com/svc/search/v2/articlesearch.json?q=U.S.-China relations&begin_date=20120120&end_date=20130120&page=26&api-key=q9G4oWuPHcFvBfj0rkOMyGfqgL0AOEyH\n",
      "https://api.nytimes.com/svc/search/v2/articlesearch.json?q=U.S.-China relations&begin_date=20120120&end_date=20130120&page=27&api-key=q9G4oWuPHcFvBfj0rkOMyGfqgL0AOEyH\n",
      "https://api.nytimes.com/svc/search/v2/articlesearch.json?q=U.S.-China relations&begin_date=20120120&end_date=20130120&page=28&api-key=q9G4oWuPHcFvBfj0rkOMyGfqgL0AOEyH\n",
      "https://api.nytimes.com/svc/search/v2/articlesearch.json?q=U.S.-China relations&begin_date=20120120&end_date=20130120&page=29&api-key=q9G4oWuPHcFvBfj0rkOMyGfqgL0AOEyH\n",
      "https://api.nytimes.com/svc/search/v2/articlesearch.json?q=U.S.-China relations&begin_date=20120120&end_date=20130120&page=30&api-key=q9G4oWuPHcFvBfj0rkOMyGfqgL0AOEyH\n",
      "https://api.nytimes.com/svc/search/v2/articlesearch.json?q=U.S.-China relations&begin_date=20120120&end_date=20130120&page=31&api-key=q9G4oWuPHcFvBfj0rkOMyGfqgL0AOEyH\n",
      "https://api.nytimes.com/svc/search/v2/articlesearch.json?q=U.S.-China relations&begin_date=20120120&end_date=20130120&page=32&api-key=q9G4oWuPHcFvBfj0rkOMyGfqgL0AOEyH\n",
      "https://api.nytimes.com/svc/search/v2/articlesearch.json?q=U.S.-China relations&begin_date=20120120&end_date=20130120&page=33&api-key=q9G4oWuPHcFvBfj0rkOMyGfqgL0AOEyH\n",
      "https://api.nytimes.com/svc/search/v2/articlesearch.json?q=U.S.-China relations&begin_date=20120120&end_date=20130120&page=34&api-key=q9G4oWuPHcFvBfj0rkOMyGfqgL0AOEyH\n",
      "https://api.nytimes.com/svc/search/v2/articlesearch.json?q=U.S.-China relations&begin_date=20120120&end_date=20130120&page=35&api-key=q9G4oWuPHcFvBfj0rkOMyGfqgL0AOEyH\n",
      "https://api.nytimes.com/svc/search/v2/articlesearch.json?q=U.S.-China relations&begin_date=20120120&end_date=20130120&page=36&api-key=q9G4oWuPHcFvBfj0rkOMyGfqgL0AOEyH\n",
      "https://api.nytimes.com/svc/search/v2/articlesearch.json?q=U.S.-China relations&begin_date=20120120&end_date=20130120&page=37&api-key=q9G4oWuPHcFvBfj0rkOMyGfqgL0AOEyH\n",
      "https://api.nytimes.com/svc/search/v2/articlesearch.json?q=U.S.-China relations&begin_date=20120120&end_date=20130120&page=38&api-key=q9G4oWuPHcFvBfj0rkOMyGfqgL0AOEyH\n",
      "https://api.nytimes.com/svc/search/v2/articlesearch.json?q=U.S.-China relations&begin_date=20120120&end_date=20130120&page=39&api-key=q9G4oWuPHcFvBfj0rkOMyGfqgL0AOEyH\n",
      "https://api.nytimes.com/svc/search/v2/articlesearch.json?q=U.S.-China relations&begin_date=20120120&end_date=20130120&page=40&api-key=q9G4oWuPHcFvBfj0rkOMyGfqgL0AOEyH\n",
      "https://api.nytimes.com/svc/search/v2/articlesearch.json?q=U.S.-China relations&begin_date=20120120&end_date=20130120&page=41&api-key=q9G4oWuPHcFvBfj0rkOMyGfqgL0AOEyH\n",
      "https://api.nytimes.com/svc/search/v2/articlesearch.json?q=U.S.-China relations&begin_date=20120120&end_date=20130120&page=42&api-key=q9G4oWuPHcFvBfj0rkOMyGfqgL0AOEyH\n",
      "https://api.nytimes.com/svc/search/v2/articlesearch.json?q=U.S.-China relations&begin_date=20120120&end_date=20130120&page=43&api-key=q9G4oWuPHcFvBfj0rkOMyGfqgL0AOEyH\n",
      "https://api.nytimes.com/svc/search/v2/articlesearch.json?q=U.S.-China relations&begin_date=20120120&end_date=20130120&page=44&api-key=q9G4oWuPHcFvBfj0rkOMyGfqgL0AOEyH\n",
      "https://api.nytimes.com/svc/search/v2/articlesearch.json?q=U.S.-China relations&begin_date=20120120&end_date=20130120&page=45&api-key=q9G4oWuPHcFvBfj0rkOMyGfqgL0AOEyH\n",
      "https://api.nytimes.com/svc/search/v2/articlesearch.json?q=U.S.-China relations&begin_date=20120120&end_date=20130120&page=46&api-key=q9G4oWuPHcFvBfj0rkOMyGfqgL0AOEyH\n",
      "https://api.nytimes.com/svc/search/v2/articlesearch.json?q=U.S.-China relations&begin_date=20120120&end_date=20130120&page=47&api-key=q9G4oWuPHcFvBfj0rkOMyGfqgL0AOEyH\n",
      "https://api.nytimes.com/svc/search/v2/articlesearch.json?q=U.S.-China relations&begin_date=20120120&end_date=20130120&page=48&api-key=q9G4oWuPHcFvBfj0rkOMyGfqgL0AOEyH\n",
      "https://api.nytimes.com/svc/search/v2/articlesearch.json?q=U.S.-China relations&begin_date=20120120&end_date=20130120&page=49&api-key=q9G4oWuPHcFvBfj0rkOMyGfqgL0AOEyH\n",
      "https://api.nytimes.com/svc/search/v2/articlesearch.json?q=U.S.-China relations&begin_date=20120120&end_date=20130120&page=50&api-key=q9G4oWuPHcFvBfj0rkOMyGfqgL0AOEyH\n"
     ]
    }
   ],
   "source": [
    "def search_nyt_articles(my_api_key, keyword, max_pages, begin_date=\"20120120\", end_date=\"20130120\"):\n",
    "    docs = []\n",
    "\n",
    "    for i in range(max_pages):\n",
    "        api = f\"https://api.nytimes.com/svc/search/v2/articlesearch.json?q={keyword}&begin_date={begin_date}&end_date={end_date}&page={i+1}&api-key={my_api_key}\"\n",
    "        print(api)\n",
    "        response = requests.get(api)\n",
    "        data = response.json()\n",
    "        try:\n",
    "            docs.extend(data['response']['docs'])\n",
    "        except KeyError:\n",
    "            return docs\n",
    "        time.sleep(12)\n",
    "\n",
    "    return docs\n",
    "\n",
    "articles = search_nyt_articles(my_api_key, keyword='U.S.-China relations', max_pages=50)"
   ]
  },
  {
   "cell_type": "code",
   "execution_count": 11,
   "id": "8ba72aed",
   "metadata": {},
   "outputs": [],
   "source": [
    "def consolidate_corpus(articles):\n",
    "    docs = []\n",
    "    for article in articles:\n",
    "        lead_paragraph = article.get('lead_paragraph')\n",
    "        docs.append([article['headline']['main'], lead_paragraph, article['pub_date']])\n",
    "        corpus_4 = pd.DataFrame(docs, columns=['headline', 'lead_paragraph', 'date'])\n",
    "    return corpus_4\n",
    "\n",
    "corpus_4 = consolidate_corpus(articles)\n",
    "\n",
    "corpus_4 ['date'] = pd.to_datetime(corpus_4['date'])\n",
    "\n",
    "corpus_4  = corpus_4.sort_values(by='date')\n",
    "\n",
    "corpus_4.to_csv('corpus_4.csv', index=False)"
   ]
  },
  {
   "cell_type": "markdown",
   "id": "55880599",
   "metadata": {},
   "source": [
    "# 2013 - 2014"
   ]
  },
  {
   "cell_type": "code",
   "execution_count": 12,
   "id": "405000c1",
   "metadata": {},
   "outputs": [
    {
     "name": "stdout",
     "output_type": "stream",
     "text": [
      "https://api.nytimes.com/svc/search/v2/articlesearch.json?fq=U.S.-China relations&begin_date=20130120&end_date=20140120&api-key=q9G4oWuPHcFvBfj0rkOMyGfqgL0AOEyH\n",
      "12646\n"
     ]
    }
   ],
   "source": [
    "def number_of_articles(api_key, keyword, begin_date=\"20130120\", end_date=\"20140120\"):\n",
    "    url_query = f\"https://api.nytimes.com/svc/search/v2/articlesearch.json?fq={keyword}&begin_date={begin_date}&end_date={end_date}&api-key={api_key}\"\n",
    "    print(url_query)\n",
    "    res = requests.get(url_query)\n",
    "    json_res = res.json()\n",
    "    hits = json_res[\"response\"][\"meta\"][\"hits\"]\n",
    "    return hits\n",
    "\n",
    "print(number_of_articles(api_key=my_api_key, keyword='U.S.-China relations'))"
   ]
  },
  {
   "cell_type": "code",
   "execution_count": 13,
   "id": "b427d286",
   "metadata": {},
   "outputs": [
    {
     "name": "stdout",
     "output_type": "stream",
     "text": [
      "https://api.nytimes.com/svc/search/v2/articlesearch.json?q=U.S.-China relations&begin_date=20130120&end_date=20140120&page=1&api-key=q9G4oWuPHcFvBfj0rkOMyGfqgL0AOEyH\n",
      "https://api.nytimes.com/svc/search/v2/articlesearch.json?q=U.S.-China relations&begin_date=20130120&end_date=20140120&page=2&api-key=q9G4oWuPHcFvBfj0rkOMyGfqgL0AOEyH\n",
      "https://api.nytimes.com/svc/search/v2/articlesearch.json?q=U.S.-China relations&begin_date=20130120&end_date=20140120&page=3&api-key=q9G4oWuPHcFvBfj0rkOMyGfqgL0AOEyH\n",
      "https://api.nytimes.com/svc/search/v2/articlesearch.json?q=U.S.-China relations&begin_date=20130120&end_date=20140120&page=4&api-key=q9G4oWuPHcFvBfj0rkOMyGfqgL0AOEyH\n",
      "https://api.nytimes.com/svc/search/v2/articlesearch.json?q=U.S.-China relations&begin_date=20130120&end_date=20140120&page=5&api-key=q9G4oWuPHcFvBfj0rkOMyGfqgL0AOEyH\n",
      "https://api.nytimes.com/svc/search/v2/articlesearch.json?q=U.S.-China relations&begin_date=20130120&end_date=20140120&page=6&api-key=q9G4oWuPHcFvBfj0rkOMyGfqgL0AOEyH\n",
      "https://api.nytimes.com/svc/search/v2/articlesearch.json?q=U.S.-China relations&begin_date=20130120&end_date=20140120&page=7&api-key=q9G4oWuPHcFvBfj0rkOMyGfqgL0AOEyH\n",
      "https://api.nytimes.com/svc/search/v2/articlesearch.json?q=U.S.-China relations&begin_date=20130120&end_date=20140120&page=8&api-key=q9G4oWuPHcFvBfj0rkOMyGfqgL0AOEyH\n",
      "https://api.nytimes.com/svc/search/v2/articlesearch.json?q=U.S.-China relations&begin_date=20130120&end_date=20140120&page=9&api-key=q9G4oWuPHcFvBfj0rkOMyGfqgL0AOEyH\n",
      "https://api.nytimes.com/svc/search/v2/articlesearch.json?q=U.S.-China relations&begin_date=20130120&end_date=20140120&page=10&api-key=q9G4oWuPHcFvBfj0rkOMyGfqgL0AOEyH\n",
      "https://api.nytimes.com/svc/search/v2/articlesearch.json?q=U.S.-China relations&begin_date=20130120&end_date=20140120&page=11&api-key=q9G4oWuPHcFvBfj0rkOMyGfqgL0AOEyH\n",
      "https://api.nytimes.com/svc/search/v2/articlesearch.json?q=U.S.-China relations&begin_date=20130120&end_date=20140120&page=12&api-key=q9G4oWuPHcFvBfj0rkOMyGfqgL0AOEyH\n",
      "https://api.nytimes.com/svc/search/v2/articlesearch.json?q=U.S.-China relations&begin_date=20130120&end_date=20140120&page=13&api-key=q9G4oWuPHcFvBfj0rkOMyGfqgL0AOEyH\n",
      "https://api.nytimes.com/svc/search/v2/articlesearch.json?q=U.S.-China relations&begin_date=20130120&end_date=20140120&page=14&api-key=q9G4oWuPHcFvBfj0rkOMyGfqgL0AOEyH\n",
      "https://api.nytimes.com/svc/search/v2/articlesearch.json?q=U.S.-China relations&begin_date=20130120&end_date=20140120&page=15&api-key=q9G4oWuPHcFvBfj0rkOMyGfqgL0AOEyH\n",
      "https://api.nytimes.com/svc/search/v2/articlesearch.json?q=U.S.-China relations&begin_date=20130120&end_date=20140120&page=16&api-key=q9G4oWuPHcFvBfj0rkOMyGfqgL0AOEyH\n",
      "https://api.nytimes.com/svc/search/v2/articlesearch.json?q=U.S.-China relations&begin_date=20130120&end_date=20140120&page=17&api-key=q9G4oWuPHcFvBfj0rkOMyGfqgL0AOEyH\n",
      "https://api.nytimes.com/svc/search/v2/articlesearch.json?q=U.S.-China relations&begin_date=20130120&end_date=20140120&page=18&api-key=q9G4oWuPHcFvBfj0rkOMyGfqgL0AOEyH\n",
      "https://api.nytimes.com/svc/search/v2/articlesearch.json?q=U.S.-China relations&begin_date=20130120&end_date=20140120&page=19&api-key=q9G4oWuPHcFvBfj0rkOMyGfqgL0AOEyH\n",
      "https://api.nytimes.com/svc/search/v2/articlesearch.json?q=U.S.-China relations&begin_date=20130120&end_date=20140120&page=20&api-key=q9G4oWuPHcFvBfj0rkOMyGfqgL0AOEyH\n",
      "https://api.nytimes.com/svc/search/v2/articlesearch.json?q=U.S.-China relations&begin_date=20130120&end_date=20140120&page=21&api-key=q9G4oWuPHcFvBfj0rkOMyGfqgL0AOEyH\n",
      "https://api.nytimes.com/svc/search/v2/articlesearch.json?q=U.S.-China relations&begin_date=20130120&end_date=20140120&page=22&api-key=q9G4oWuPHcFvBfj0rkOMyGfqgL0AOEyH\n",
      "https://api.nytimes.com/svc/search/v2/articlesearch.json?q=U.S.-China relations&begin_date=20130120&end_date=20140120&page=23&api-key=q9G4oWuPHcFvBfj0rkOMyGfqgL0AOEyH\n",
      "https://api.nytimes.com/svc/search/v2/articlesearch.json?q=U.S.-China relations&begin_date=20130120&end_date=20140120&page=24&api-key=q9G4oWuPHcFvBfj0rkOMyGfqgL0AOEyH\n",
      "https://api.nytimes.com/svc/search/v2/articlesearch.json?q=U.S.-China relations&begin_date=20130120&end_date=20140120&page=25&api-key=q9G4oWuPHcFvBfj0rkOMyGfqgL0AOEyH\n",
      "https://api.nytimes.com/svc/search/v2/articlesearch.json?q=U.S.-China relations&begin_date=20130120&end_date=20140120&page=26&api-key=q9G4oWuPHcFvBfj0rkOMyGfqgL0AOEyH\n",
      "https://api.nytimes.com/svc/search/v2/articlesearch.json?q=U.S.-China relations&begin_date=20130120&end_date=20140120&page=27&api-key=q9G4oWuPHcFvBfj0rkOMyGfqgL0AOEyH\n",
      "https://api.nytimes.com/svc/search/v2/articlesearch.json?q=U.S.-China relations&begin_date=20130120&end_date=20140120&page=28&api-key=q9G4oWuPHcFvBfj0rkOMyGfqgL0AOEyH\n",
      "https://api.nytimes.com/svc/search/v2/articlesearch.json?q=U.S.-China relations&begin_date=20130120&end_date=20140120&page=29&api-key=q9G4oWuPHcFvBfj0rkOMyGfqgL0AOEyH\n",
      "https://api.nytimes.com/svc/search/v2/articlesearch.json?q=U.S.-China relations&begin_date=20130120&end_date=20140120&page=30&api-key=q9G4oWuPHcFvBfj0rkOMyGfqgL0AOEyH\n",
      "https://api.nytimes.com/svc/search/v2/articlesearch.json?q=U.S.-China relations&begin_date=20130120&end_date=20140120&page=31&api-key=q9G4oWuPHcFvBfj0rkOMyGfqgL0AOEyH\n",
      "https://api.nytimes.com/svc/search/v2/articlesearch.json?q=U.S.-China relations&begin_date=20130120&end_date=20140120&page=32&api-key=q9G4oWuPHcFvBfj0rkOMyGfqgL0AOEyH\n",
      "https://api.nytimes.com/svc/search/v2/articlesearch.json?q=U.S.-China relations&begin_date=20130120&end_date=20140120&page=33&api-key=q9G4oWuPHcFvBfj0rkOMyGfqgL0AOEyH\n",
      "https://api.nytimes.com/svc/search/v2/articlesearch.json?q=U.S.-China relations&begin_date=20130120&end_date=20140120&page=34&api-key=q9G4oWuPHcFvBfj0rkOMyGfqgL0AOEyH\n",
      "https://api.nytimes.com/svc/search/v2/articlesearch.json?q=U.S.-China relations&begin_date=20130120&end_date=20140120&page=35&api-key=q9G4oWuPHcFvBfj0rkOMyGfqgL0AOEyH\n",
      "https://api.nytimes.com/svc/search/v2/articlesearch.json?q=U.S.-China relations&begin_date=20130120&end_date=20140120&page=36&api-key=q9G4oWuPHcFvBfj0rkOMyGfqgL0AOEyH\n",
      "https://api.nytimes.com/svc/search/v2/articlesearch.json?q=U.S.-China relations&begin_date=20130120&end_date=20140120&page=37&api-key=q9G4oWuPHcFvBfj0rkOMyGfqgL0AOEyH\n",
      "https://api.nytimes.com/svc/search/v2/articlesearch.json?q=U.S.-China relations&begin_date=20130120&end_date=20140120&page=38&api-key=q9G4oWuPHcFvBfj0rkOMyGfqgL0AOEyH\n",
      "https://api.nytimes.com/svc/search/v2/articlesearch.json?q=U.S.-China relations&begin_date=20130120&end_date=20140120&page=39&api-key=q9G4oWuPHcFvBfj0rkOMyGfqgL0AOEyH\n",
      "https://api.nytimes.com/svc/search/v2/articlesearch.json?q=U.S.-China relations&begin_date=20130120&end_date=20140120&page=40&api-key=q9G4oWuPHcFvBfj0rkOMyGfqgL0AOEyH\n",
      "https://api.nytimes.com/svc/search/v2/articlesearch.json?q=U.S.-China relations&begin_date=20130120&end_date=20140120&page=41&api-key=q9G4oWuPHcFvBfj0rkOMyGfqgL0AOEyH\n",
      "https://api.nytimes.com/svc/search/v2/articlesearch.json?q=U.S.-China relations&begin_date=20130120&end_date=20140120&page=42&api-key=q9G4oWuPHcFvBfj0rkOMyGfqgL0AOEyH\n",
      "https://api.nytimes.com/svc/search/v2/articlesearch.json?q=U.S.-China relations&begin_date=20130120&end_date=20140120&page=43&api-key=q9G4oWuPHcFvBfj0rkOMyGfqgL0AOEyH\n",
      "https://api.nytimes.com/svc/search/v2/articlesearch.json?q=U.S.-China relations&begin_date=20130120&end_date=20140120&page=44&api-key=q9G4oWuPHcFvBfj0rkOMyGfqgL0AOEyH\n",
      "https://api.nytimes.com/svc/search/v2/articlesearch.json?q=U.S.-China relations&begin_date=20130120&end_date=20140120&page=45&api-key=q9G4oWuPHcFvBfj0rkOMyGfqgL0AOEyH\n",
      "https://api.nytimes.com/svc/search/v2/articlesearch.json?q=U.S.-China relations&begin_date=20130120&end_date=20140120&page=46&api-key=q9G4oWuPHcFvBfj0rkOMyGfqgL0AOEyH\n",
      "https://api.nytimes.com/svc/search/v2/articlesearch.json?q=U.S.-China relations&begin_date=20130120&end_date=20140120&page=47&api-key=q9G4oWuPHcFvBfj0rkOMyGfqgL0AOEyH\n",
      "https://api.nytimes.com/svc/search/v2/articlesearch.json?q=U.S.-China relations&begin_date=20130120&end_date=20140120&page=48&api-key=q9G4oWuPHcFvBfj0rkOMyGfqgL0AOEyH\n",
      "https://api.nytimes.com/svc/search/v2/articlesearch.json?q=U.S.-China relations&begin_date=20130120&end_date=20140120&page=49&api-key=q9G4oWuPHcFvBfj0rkOMyGfqgL0AOEyH\n",
      "https://api.nytimes.com/svc/search/v2/articlesearch.json?q=U.S.-China relations&begin_date=20130120&end_date=20140120&page=50&api-key=q9G4oWuPHcFvBfj0rkOMyGfqgL0AOEyH\n"
     ]
    }
   ],
   "source": [
    "def search_nyt_articles(my_api_key, keyword, max_pages, begin_date=\"20130120\", end_date=\"20140120\"):\n",
    "    docs = []\n",
    "\n",
    "    for i in range(max_pages):\n",
    "        api = f\"https://api.nytimes.com/svc/search/v2/articlesearch.json?q={keyword}&begin_date={begin_date}&end_date={end_date}&page={i+1}&api-key={my_api_key}\"\n",
    "        print(api)\n",
    "        response = requests.get(api)\n",
    "        data = response.json()\n",
    "        try:\n",
    "            docs.extend(data['response']['docs'])\n",
    "        except KeyError:\n",
    "            return docs\n",
    "        time.sleep(12)\n",
    "\n",
    "    return docs\n",
    "\n",
    "articles = search_nyt_articles(my_api_key, keyword='U.S.-China relations', max_pages=50)"
   ]
  },
  {
   "cell_type": "code",
   "execution_count": 14,
   "id": "6da876e2",
   "metadata": {},
   "outputs": [],
   "source": [
    "def consolidate_corpus(articles):\n",
    "    docs = []\n",
    "    for article in articles:\n",
    "        lead_paragraph = article.get('lead_paragraph')\n",
    "        docs.append([article['headline']['main'], lead_paragraph, article['pub_date']])\n",
    "        corpus_5 = pd.DataFrame(docs, columns=['headline', 'lead_paragraph', 'date'])\n",
    "    return corpus_5\n",
    "\n",
    "corpus_5 = consolidate_corpus(articles)\n",
    "\n",
    "corpus_5 ['date'] = pd.to_datetime(corpus_5['date'])\n",
    "\n",
    "corpus_5  = corpus_5.sort_values(by='date')\n",
    "\n",
    "corpus_5.to_csv('corpus_5.csv', index=False)"
   ]
  },
  {
   "cell_type": "markdown",
   "id": "dc999677",
   "metadata": {},
   "source": [
    "# 2014 - 2015"
   ]
  },
  {
   "cell_type": "code",
   "execution_count": 15,
   "id": "f0acc01d",
   "metadata": {},
   "outputs": [
    {
     "name": "stdout",
     "output_type": "stream",
     "text": [
      "https://api.nytimes.com/svc/search/v2/articlesearch.json?fq=U.S.-China relations&begin_date=20140120&end_date=20150120&api-key=q9G4oWuPHcFvBfj0rkOMyGfqgL0AOEyH\n",
      "14604\n"
     ]
    }
   ],
   "source": [
    "def number_of_articles(api_key, keyword, begin_date=\"20140120\", end_date=\"20150120\"):\n",
    "    url_query = f\"https://api.nytimes.com/svc/search/v2/articlesearch.json?fq={keyword}&begin_date={begin_date}&end_date={end_date}&api-key={api_key}\"\n",
    "    print(url_query)\n",
    "    res = requests.get(url_query)\n",
    "    json_res = res.json()\n",
    "    hits = json_res[\"response\"][\"meta\"][\"hits\"]\n",
    "    return hits\n",
    "\n",
    "print(number_of_articles(api_key=my_api_key, keyword='U.S.-China relations'))"
   ]
  },
  {
   "cell_type": "code",
   "execution_count": 17,
   "id": "cf76f0b0",
   "metadata": {},
   "outputs": [
    {
     "name": "stdout",
     "output_type": "stream",
     "text": [
      "https://api.nytimes.com/svc/search/v2/articlesearch.json?q=U.S.-China relations&begin_date=20140120&end_date=20150120&page=1&api-key=q9G4oWuPHcFvBfj0rkOMyGfqgL0AOEyH\n",
      "https://api.nytimes.com/svc/search/v2/articlesearch.json?q=U.S.-China relations&begin_date=20140120&end_date=20150120&page=2&api-key=q9G4oWuPHcFvBfj0rkOMyGfqgL0AOEyH\n",
      "https://api.nytimes.com/svc/search/v2/articlesearch.json?q=U.S.-China relations&begin_date=20140120&end_date=20150120&page=3&api-key=q9G4oWuPHcFvBfj0rkOMyGfqgL0AOEyH\n",
      "https://api.nytimes.com/svc/search/v2/articlesearch.json?q=U.S.-China relations&begin_date=20140120&end_date=20150120&page=4&api-key=q9G4oWuPHcFvBfj0rkOMyGfqgL0AOEyH\n",
      "https://api.nytimes.com/svc/search/v2/articlesearch.json?q=U.S.-China relations&begin_date=20140120&end_date=20150120&page=5&api-key=q9G4oWuPHcFvBfj0rkOMyGfqgL0AOEyH\n",
      "https://api.nytimes.com/svc/search/v2/articlesearch.json?q=U.S.-China relations&begin_date=20140120&end_date=20150120&page=6&api-key=q9G4oWuPHcFvBfj0rkOMyGfqgL0AOEyH\n",
      "https://api.nytimes.com/svc/search/v2/articlesearch.json?q=U.S.-China relations&begin_date=20140120&end_date=20150120&page=7&api-key=q9G4oWuPHcFvBfj0rkOMyGfqgL0AOEyH\n",
      "https://api.nytimes.com/svc/search/v2/articlesearch.json?q=U.S.-China relations&begin_date=20140120&end_date=20150120&page=8&api-key=q9G4oWuPHcFvBfj0rkOMyGfqgL0AOEyH\n",
      "https://api.nytimes.com/svc/search/v2/articlesearch.json?q=U.S.-China relations&begin_date=20140120&end_date=20150120&page=9&api-key=q9G4oWuPHcFvBfj0rkOMyGfqgL0AOEyH\n",
      "https://api.nytimes.com/svc/search/v2/articlesearch.json?q=U.S.-China relations&begin_date=20140120&end_date=20150120&page=10&api-key=q9G4oWuPHcFvBfj0rkOMyGfqgL0AOEyH\n",
      "https://api.nytimes.com/svc/search/v2/articlesearch.json?q=U.S.-China relations&begin_date=20140120&end_date=20150120&page=11&api-key=q9G4oWuPHcFvBfj0rkOMyGfqgL0AOEyH\n",
      "https://api.nytimes.com/svc/search/v2/articlesearch.json?q=U.S.-China relations&begin_date=20140120&end_date=20150120&page=12&api-key=q9G4oWuPHcFvBfj0rkOMyGfqgL0AOEyH\n",
      "https://api.nytimes.com/svc/search/v2/articlesearch.json?q=U.S.-China relations&begin_date=20140120&end_date=20150120&page=13&api-key=q9G4oWuPHcFvBfj0rkOMyGfqgL0AOEyH\n",
      "https://api.nytimes.com/svc/search/v2/articlesearch.json?q=U.S.-China relations&begin_date=20140120&end_date=20150120&page=14&api-key=q9G4oWuPHcFvBfj0rkOMyGfqgL0AOEyH\n",
      "https://api.nytimes.com/svc/search/v2/articlesearch.json?q=U.S.-China relations&begin_date=20140120&end_date=20150120&page=15&api-key=q9G4oWuPHcFvBfj0rkOMyGfqgL0AOEyH\n",
      "https://api.nytimes.com/svc/search/v2/articlesearch.json?q=U.S.-China relations&begin_date=20140120&end_date=20150120&page=16&api-key=q9G4oWuPHcFvBfj0rkOMyGfqgL0AOEyH\n",
      "https://api.nytimes.com/svc/search/v2/articlesearch.json?q=U.S.-China relations&begin_date=20140120&end_date=20150120&page=17&api-key=q9G4oWuPHcFvBfj0rkOMyGfqgL0AOEyH\n",
      "https://api.nytimes.com/svc/search/v2/articlesearch.json?q=U.S.-China relations&begin_date=20140120&end_date=20150120&page=18&api-key=q9G4oWuPHcFvBfj0rkOMyGfqgL0AOEyH\n",
      "https://api.nytimes.com/svc/search/v2/articlesearch.json?q=U.S.-China relations&begin_date=20140120&end_date=20150120&page=19&api-key=q9G4oWuPHcFvBfj0rkOMyGfqgL0AOEyH\n",
      "https://api.nytimes.com/svc/search/v2/articlesearch.json?q=U.S.-China relations&begin_date=20140120&end_date=20150120&page=20&api-key=q9G4oWuPHcFvBfj0rkOMyGfqgL0AOEyH\n",
      "https://api.nytimes.com/svc/search/v2/articlesearch.json?q=U.S.-China relations&begin_date=20140120&end_date=20150120&page=21&api-key=q9G4oWuPHcFvBfj0rkOMyGfqgL0AOEyH\n",
      "https://api.nytimes.com/svc/search/v2/articlesearch.json?q=U.S.-China relations&begin_date=20140120&end_date=20150120&page=22&api-key=q9G4oWuPHcFvBfj0rkOMyGfqgL0AOEyH\n",
      "https://api.nytimes.com/svc/search/v2/articlesearch.json?q=U.S.-China relations&begin_date=20140120&end_date=20150120&page=23&api-key=q9G4oWuPHcFvBfj0rkOMyGfqgL0AOEyH\n",
      "https://api.nytimes.com/svc/search/v2/articlesearch.json?q=U.S.-China relations&begin_date=20140120&end_date=20150120&page=24&api-key=q9G4oWuPHcFvBfj0rkOMyGfqgL0AOEyH\n",
      "https://api.nytimes.com/svc/search/v2/articlesearch.json?q=U.S.-China relations&begin_date=20140120&end_date=20150120&page=25&api-key=q9G4oWuPHcFvBfj0rkOMyGfqgL0AOEyH\n",
      "https://api.nytimes.com/svc/search/v2/articlesearch.json?q=U.S.-China relations&begin_date=20140120&end_date=20150120&page=26&api-key=q9G4oWuPHcFvBfj0rkOMyGfqgL0AOEyH\n",
      "https://api.nytimes.com/svc/search/v2/articlesearch.json?q=U.S.-China relations&begin_date=20140120&end_date=20150120&page=27&api-key=q9G4oWuPHcFvBfj0rkOMyGfqgL0AOEyH\n",
      "https://api.nytimes.com/svc/search/v2/articlesearch.json?q=U.S.-China relations&begin_date=20140120&end_date=20150120&page=28&api-key=q9G4oWuPHcFvBfj0rkOMyGfqgL0AOEyH\n",
      "https://api.nytimes.com/svc/search/v2/articlesearch.json?q=U.S.-China relations&begin_date=20140120&end_date=20150120&page=29&api-key=q9G4oWuPHcFvBfj0rkOMyGfqgL0AOEyH\n",
      "https://api.nytimes.com/svc/search/v2/articlesearch.json?q=U.S.-China relations&begin_date=20140120&end_date=20150120&page=30&api-key=q9G4oWuPHcFvBfj0rkOMyGfqgL0AOEyH\n",
      "https://api.nytimes.com/svc/search/v2/articlesearch.json?q=U.S.-China relations&begin_date=20140120&end_date=20150120&page=31&api-key=q9G4oWuPHcFvBfj0rkOMyGfqgL0AOEyH\n",
      "https://api.nytimes.com/svc/search/v2/articlesearch.json?q=U.S.-China relations&begin_date=20140120&end_date=20150120&page=32&api-key=q9G4oWuPHcFvBfj0rkOMyGfqgL0AOEyH\n",
      "https://api.nytimes.com/svc/search/v2/articlesearch.json?q=U.S.-China relations&begin_date=20140120&end_date=20150120&page=33&api-key=q9G4oWuPHcFvBfj0rkOMyGfqgL0AOEyH\n",
      "https://api.nytimes.com/svc/search/v2/articlesearch.json?q=U.S.-China relations&begin_date=20140120&end_date=20150120&page=34&api-key=q9G4oWuPHcFvBfj0rkOMyGfqgL0AOEyH\n",
      "https://api.nytimes.com/svc/search/v2/articlesearch.json?q=U.S.-China relations&begin_date=20140120&end_date=20150120&page=35&api-key=q9G4oWuPHcFvBfj0rkOMyGfqgL0AOEyH\n",
      "https://api.nytimes.com/svc/search/v2/articlesearch.json?q=U.S.-China relations&begin_date=20140120&end_date=20150120&page=36&api-key=q9G4oWuPHcFvBfj0rkOMyGfqgL0AOEyH\n",
      "https://api.nytimes.com/svc/search/v2/articlesearch.json?q=U.S.-China relations&begin_date=20140120&end_date=20150120&page=37&api-key=q9G4oWuPHcFvBfj0rkOMyGfqgL0AOEyH\n",
      "https://api.nytimes.com/svc/search/v2/articlesearch.json?q=U.S.-China relations&begin_date=20140120&end_date=20150120&page=38&api-key=q9G4oWuPHcFvBfj0rkOMyGfqgL0AOEyH\n",
      "https://api.nytimes.com/svc/search/v2/articlesearch.json?q=U.S.-China relations&begin_date=20140120&end_date=20150120&page=39&api-key=q9G4oWuPHcFvBfj0rkOMyGfqgL0AOEyH\n",
      "https://api.nytimes.com/svc/search/v2/articlesearch.json?q=U.S.-China relations&begin_date=20140120&end_date=20150120&page=40&api-key=q9G4oWuPHcFvBfj0rkOMyGfqgL0AOEyH\n",
      "https://api.nytimes.com/svc/search/v2/articlesearch.json?q=U.S.-China relations&begin_date=20140120&end_date=20150120&page=41&api-key=q9G4oWuPHcFvBfj0rkOMyGfqgL0AOEyH\n",
      "https://api.nytimes.com/svc/search/v2/articlesearch.json?q=U.S.-China relations&begin_date=20140120&end_date=20150120&page=42&api-key=q9G4oWuPHcFvBfj0rkOMyGfqgL0AOEyH\n",
      "https://api.nytimes.com/svc/search/v2/articlesearch.json?q=U.S.-China relations&begin_date=20140120&end_date=20150120&page=43&api-key=q9G4oWuPHcFvBfj0rkOMyGfqgL0AOEyH\n",
      "https://api.nytimes.com/svc/search/v2/articlesearch.json?q=U.S.-China relations&begin_date=20140120&end_date=20150120&page=44&api-key=q9G4oWuPHcFvBfj0rkOMyGfqgL0AOEyH\n",
      "https://api.nytimes.com/svc/search/v2/articlesearch.json?q=U.S.-China relations&begin_date=20140120&end_date=20150120&page=45&api-key=q9G4oWuPHcFvBfj0rkOMyGfqgL0AOEyH\n",
      "https://api.nytimes.com/svc/search/v2/articlesearch.json?q=U.S.-China relations&begin_date=20140120&end_date=20150120&page=46&api-key=q9G4oWuPHcFvBfj0rkOMyGfqgL0AOEyH\n",
      "https://api.nytimes.com/svc/search/v2/articlesearch.json?q=U.S.-China relations&begin_date=20140120&end_date=20150120&page=47&api-key=q9G4oWuPHcFvBfj0rkOMyGfqgL0AOEyH\n",
      "https://api.nytimes.com/svc/search/v2/articlesearch.json?q=U.S.-China relations&begin_date=20140120&end_date=20150120&page=48&api-key=q9G4oWuPHcFvBfj0rkOMyGfqgL0AOEyH\n",
      "https://api.nytimes.com/svc/search/v2/articlesearch.json?q=U.S.-China relations&begin_date=20140120&end_date=20150120&page=49&api-key=q9G4oWuPHcFvBfj0rkOMyGfqgL0AOEyH\n",
      "https://api.nytimes.com/svc/search/v2/articlesearch.json?q=U.S.-China relations&begin_date=20140120&end_date=20150120&page=50&api-key=q9G4oWuPHcFvBfj0rkOMyGfqgL0AOEyH\n"
     ]
    }
   ],
   "source": [
    "def search_nyt_articles(my_api_key, keyword, max_pages, begin_date=\"20140120\", end_date=\"20150120\"):\n",
    "    docs = []\n",
    "\n",
    "    for i in range(max_pages):\n",
    "        api = f\"https://api.nytimes.com/svc/search/v2/articlesearch.json?q={keyword}&begin_date={begin_date}&end_date={end_date}&page={i+1}&api-key={my_api_key}\"\n",
    "        print(api)\n",
    "        response = requests.get(api)\n",
    "        data = response.json()\n",
    "        try:\n",
    "            docs.extend(data['response']['docs'])\n",
    "        except KeyError:\n",
    "            return docs\n",
    "        time.sleep(12)\n",
    "\n",
    "    return docs\n",
    "\n",
    "articles = search_nyt_articles(my_api_key, keyword='U.S.-China relations', max_pages=50)"
   ]
  },
  {
   "cell_type": "code",
   "execution_count": 18,
   "id": "d177d9ce",
   "metadata": {},
   "outputs": [],
   "source": [
    "def consolidate_corpus(articles):\n",
    "    docs = []\n",
    "    for article in articles:\n",
    "        lead_paragraph = article.get('lead_paragraph')\n",
    "        docs.append([article['headline']['main'], lead_paragraph, article['pub_date']])\n",
    "        corpus_6 = pd.DataFrame(docs, columns=['headline', 'lead_paragraph', 'date'])\n",
    "    return corpus_6\n",
    "\n",
    "corpus_6 = consolidate_corpus(articles)\n",
    "\n",
    "corpus_6 ['date'] = pd.to_datetime(corpus_6['date'])\n",
    "\n",
    "corpus_6  = corpus_6.sort_values(by='date')\n",
    "\n",
    "corpus_6.to_csv('corpus_6.csv', index=False)"
   ]
  },
  {
   "cell_type": "markdown",
   "id": "ba4dd55c",
   "metadata": {},
   "source": [
    "# 2015 - 2016"
   ]
  },
  {
   "cell_type": "code",
   "execution_count": 19,
   "id": "627f0de2",
   "metadata": {},
   "outputs": [
    {
     "name": "stdout",
     "output_type": "stream",
     "text": [
      "https://api.nytimes.com/svc/search/v2/articlesearch.json?fq=U.S.-China relations&begin_date=20150120&end_date=20160120&api-key=q9G4oWuPHcFvBfj0rkOMyGfqgL0AOEyH\n",
      "13704\n"
     ]
    }
   ],
   "source": [
    "def number_of_articles(api_key, keyword, begin_date=\"20150120\", end_date=\"20160120\"):\n",
    "    url_query = f\"https://api.nytimes.com/svc/search/v2/articlesearch.json?fq={keyword}&begin_date={begin_date}&end_date={end_date}&api-key={api_key}\"\n",
    "    print(url_query)\n",
    "    res = requests.get(url_query)\n",
    "    json_res = res.json()\n",
    "    hits = json_res[\"response\"][\"meta\"][\"hits\"]\n",
    "    return hits\n",
    "\n",
    "print(number_of_articles(api_key=my_api_key, keyword='U.S.-China relations'))"
   ]
  },
  {
   "cell_type": "code",
   "execution_count": 20,
   "id": "39b81a68",
   "metadata": {},
   "outputs": [
    {
     "name": "stdout",
     "output_type": "stream",
     "text": [
      "https://api.nytimes.com/svc/search/v2/articlesearch.json?q=U.S.-China relations&begin_date=20150120&end_date=20160120&page=1&api-key=q9G4oWuPHcFvBfj0rkOMyGfqgL0AOEyH\n",
      "https://api.nytimes.com/svc/search/v2/articlesearch.json?q=U.S.-China relations&begin_date=20150120&end_date=20160120&page=2&api-key=q9G4oWuPHcFvBfj0rkOMyGfqgL0AOEyH\n",
      "https://api.nytimes.com/svc/search/v2/articlesearch.json?q=U.S.-China relations&begin_date=20150120&end_date=20160120&page=3&api-key=q9G4oWuPHcFvBfj0rkOMyGfqgL0AOEyH\n",
      "https://api.nytimes.com/svc/search/v2/articlesearch.json?q=U.S.-China relations&begin_date=20150120&end_date=20160120&page=4&api-key=q9G4oWuPHcFvBfj0rkOMyGfqgL0AOEyH\n",
      "https://api.nytimes.com/svc/search/v2/articlesearch.json?q=U.S.-China relations&begin_date=20150120&end_date=20160120&page=5&api-key=q9G4oWuPHcFvBfj0rkOMyGfqgL0AOEyH\n",
      "https://api.nytimes.com/svc/search/v2/articlesearch.json?q=U.S.-China relations&begin_date=20150120&end_date=20160120&page=6&api-key=q9G4oWuPHcFvBfj0rkOMyGfqgL0AOEyH\n",
      "https://api.nytimes.com/svc/search/v2/articlesearch.json?q=U.S.-China relations&begin_date=20150120&end_date=20160120&page=7&api-key=q9G4oWuPHcFvBfj0rkOMyGfqgL0AOEyH\n",
      "https://api.nytimes.com/svc/search/v2/articlesearch.json?q=U.S.-China relations&begin_date=20150120&end_date=20160120&page=8&api-key=q9G4oWuPHcFvBfj0rkOMyGfqgL0AOEyH\n",
      "https://api.nytimes.com/svc/search/v2/articlesearch.json?q=U.S.-China relations&begin_date=20150120&end_date=20160120&page=9&api-key=q9G4oWuPHcFvBfj0rkOMyGfqgL0AOEyH\n",
      "https://api.nytimes.com/svc/search/v2/articlesearch.json?q=U.S.-China relations&begin_date=20150120&end_date=20160120&page=10&api-key=q9G4oWuPHcFvBfj0rkOMyGfqgL0AOEyH\n",
      "https://api.nytimes.com/svc/search/v2/articlesearch.json?q=U.S.-China relations&begin_date=20150120&end_date=20160120&page=11&api-key=q9G4oWuPHcFvBfj0rkOMyGfqgL0AOEyH\n",
      "https://api.nytimes.com/svc/search/v2/articlesearch.json?q=U.S.-China relations&begin_date=20150120&end_date=20160120&page=12&api-key=q9G4oWuPHcFvBfj0rkOMyGfqgL0AOEyH\n",
      "https://api.nytimes.com/svc/search/v2/articlesearch.json?q=U.S.-China relations&begin_date=20150120&end_date=20160120&page=13&api-key=q9G4oWuPHcFvBfj0rkOMyGfqgL0AOEyH\n",
      "https://api.nytimes.com/svc/search/v2/articlesearch.json?q=U.S.-China relations&begin_date=20150120&end_date=20160120&page=14&api-key=q9G4oWuPHcFvBfj0rkOMyGfqgL0AOEyH\n",
      "https://api.nytimes.com/svc/search/v2/articlesearch.json?q=U.S.-China relations&begin_date=20150120&end_date=20160120&page=15&api-key=q9G4oWuPHcFvBfj0rkOMyGfqgL0AOEyH\n",
      "https://api.nytimes.com/svc/search/v2/articlesearch.json?q=U.S.-China relations&begin_date=20150120&end_date=20160120&page=16&api-key=q9G4oWuPHcFvBfj0rkOMyGfqgL0AOEyH\n",
      "https://api.nytimes.com/svc/search/v2/articlesearch.json?q=U.S.-China relations&begin_date=20150120&end_date=20160120&page=17&api-key=q9G4oWuPHcFvBfj0rkOMyGfqgL0AOEyH\n",
      "https://api.nytimes.com/svc/search/v2/articlesearch.json?q=U.S.-China relations&begin_date=20150120&end_date=20160120&page=18&api-key=q9G4oWuPHcFvBfj0rkOMyGfqgL0AOEyH\n",
      "https://api.nytimes.com/svc/search/v2/articlesearch.json?q=U.S.-China relations&begin_date=20150120&end_date=20160120&page=19&api-key=q9G4oWuPHcFvBfj0rkOMyGfqgL0AOEyH\n",
      "https://api.nytimes.com/svc/search/v2/articlesearch.json?q=U.S.-China relations&begin_date=20150120&end_date=20160120&page=20&api-key=q9G4oWuPHcFvBfj0rkOMyGfqgL0AOEyH\n",
      "https://api.nytimes.com/svc/search/v2/articlesearch.json?q=U.S.-China relations&begin_date=20150120&end_date=20160120&page=21&api-key=q9G4oWuPHcFvBfj0rkOMyGfqgL0AOEyH\n",
      "https://api.nytimes.com/svc/search/v2/articlesearch.json?q=U.S.-China relations&begin_date=20150120&end_date=20160120&page=22&api-key=q9G4oWuPHcFvBfj0rkOMyGfqgL0AOEyH\n",
      "https://api.nytimes.com/svc/search/v2/articlesearch.json?q=U.S.-China relations&begin_date=20150120&end_date=20160120&page=23&api-key=q9G4oWuPHcFvBfj0rkOMyGfqgL0AOEyH\n",
      "https://api.nytimes.com/svc/search/v2/articlesearch.json?q=U.S.-China relations&begin_date=20150120&end_date=20160120&page=24&api-key=q9G4oWuPHcFvBfj0rkOMyGfqgL0AOEyH\n",
      "https://api.nytimes.com/svc/search/v2/articlesearch.json?q=U.S.-China relations&begin_date=20150120&end_date=20160120&page=25&api-key=q9G4oWuPHcFvBfj0rkOMyGfqgL0AOEyH\n",
      "https://api.nytimes.com/svc/search/v2/articlesearch.json?q=U.S.-China relations&begin_date=20150120&end_date=20160120&page=26&api-key=q9G4oWuPHcFvBfj0rkOMyGfqgL0AOEyH\n",
      "https://api.nytimes.com/svc/search/v2/articlesearch.json?q=U.S.-China relations&begin_date=20150120&end_date=20160120&page=27&api-key=q9G4oWuPHcFvBfj0rkOMyGfqgL0AOEyH\n",
      "https://api.nytimes.com/svc/search/v2/articlesearch.json?q=U.S.-China relations&begin_date=20150120&end_date=20160120&page=28&api-key=q9G4oWuPHcFvBfj0rkOMyGfqgL0AOEyH\n",
      "https://api.nytimes.com/svc/search/v2/articlesearch.json?q=U.S.-China relations&begin_date=20150120&end_date=20160120&page=29&api-key=q9G4oWuPHcFvBfj0rkOMyGfqgL0AOEyH\n",
      "https://api.nytimes.com/svc/search/v2/articlesearch.json?q=U.S.-China relations&begin_date=20150120&end_date=20160120&page=30&api-key=q9G4oWuPHcFvBfj0rkOMyGfqgL0AOEyH\n",
      "https://api.nytimes.com/svc/search/v2/articlesearch.json?q=U.S.-China relations&begin_date=20150120&end_date=20160120&page=31&api-key=q9G4oWuPHcFvBfj0rkOMyGfqgL0AOEyH\n",
      "https://api.nytimes.com/svc/search/v2/articlesearch.json?q=U.S.-China relations&begin_date=20150120&end_date=20160120&page=32&api-key=q9G4oWuPHcFvBfj0rkOMyGfqgL0AOEyH\n",
      "https://api.nytimes.com/svc/search/v2/articlesearch.json?q=U.S.-China relations&begin_date=20150120&end_date=20160120&page=33&api-key=q9G4oWuPHcFvBfj0rkOMyGfqgL0AOEyH\n",
      "https://api.nytimes.com/svc/search/v2/articlesearch.json?q=U.S.-China relations&begin_date=20150120&end_date=20160120&page=34&api-key=q9G4oWuPHcFvBfj0rkOMyGfqgL0AOEyH\n",
      "https://api.nytimes.com/svc/search/v2/articlesearch.json?q=U.S.-China relations&begin_date=20150120&end_date=20160120&page=35&api-key=q9G4oWuPHcFvBfj0rkOMyGfqgL0AOEyH\n",
      "https://api.nytimes.com/svc/search/v2/articlesearch.json?q=U.S.-China relations&begin_date=20150120&end_date=20160120&page=36&api-key=q9G4oWuPHcFvBfj0rkOMyGfqgL0AOEyH\n",
      "https://api.nytimes.com/svc/search/v2/articlesearch.json?q=U.S.-China relations&begin_date=20150120&end_date=20160120&page=37&api-key=q9G4oWuPHcFvBfj0rkOMyGfqgL0AOEyH\n",
      "https://api.nytimes.com/svc/search/v2/articlesearch.json?q=U.S.-China relations&begin_date=20150120&end_date=20160120&page=38&api-key=q9G4oWuPHcFvBfj0rkOMyGfqgL0AOEyH\n",
      "https://api.nytimes.com/svc/search/v2/articlesearch.json?q=U.S.-China relations&begin_date=20150120&end_date=20160120&page=39&api-key=q9G4oWuPHcFvBfj0rkOMyGfqgL0AOEyH\n",
      "https://api.nytimes.com/svc/search/v2/articlesearch.json?q=U.S.-China relations&begin_date=20150120&end_date=20160120&page=40&api-key=q9G4oWuPHcFvBfj0rkOMyGfqgL0AOEyH\n",
      "https://api.nytimes.com/svc/search/v2/articlesearch.json?q=U.S.-China relations&begin_date=20150120&end_date=20160120&page=41&api-key=q9G4oWuPHcFvBfj0rkOMyGfqgL0AOEyH\n",
      "https://api.nytimes.com/svc/search/v2/articlesearch.json?q=U.S.-China relations&begin_date=20150120&end_date=20160120&page=42&api-key=q9G4oWuPHcFvBfj0rkOMyGfqgL0AOEyH\n",
      "https://api.nytimes.com/svc/search/v2/articlesearch.json?q=U.S.-China relations&begin_date=20150120&end_date=20160120&page=43&api-key=q9G4oWuPHcFvBfj0rkOMyGfqgL0AOEyH\n",
      "https://api.nytimes.com/svc/search/v2/articlesearch.json?q=U.S.-China relations&begin_date=20150120&end_date=20160120&page=44&api-key=q9G4oWuPHcFvBfj0rkOMyGfqgL0AOEyH\n",
      "https://api.nytimes.com/svc/search/v2/articlesearch.json?q=U.S.-China relations&begin_date=20150120&end_date=20160120&page=45&api-key=q9G4oWuPHcFvBfj0rkOMyGfqgL0AOEyH\n",
      "https://api.nytimes.com/svc/search/v2/articlesearch.json?q=U.S.-China relations&begin_date=20150120&end_date=20160120&page=46&api-key=q9G4oWuPHcFvBfj0rkOMyGfqgL0AOEyH\n",
      "https://api.nytimes.com/svc/search/v2/articlesearch.json?q=U.S.-China relations&begin_date=20150120&end_date=20160120&page=47&api-key=q9G4oWuPHcFvBfj0rkOMyGfqgL0AOEyH\n",
      "https://api.nytimes.com/svc/search/v2/articlesearch.json?q=U.S.-China relations&begin_date=20150120&end_date=20160120&page=48&api-key=q9G4oWuPHcFvBfj0rkOMyGfqgL0AOEyH\n",
      "https://api.nytimes.com/svc/search/v2/articlesearch.json?q=U.S.-China relations&begin_date=20150120&end_date=20160120&page=49&api-key=q9G4oWuPHcFvBfj0rkOMyGfqgL0AOEyH\n",
      "https://api.nytimes.com/svc/search/v2/articlesearch.json?q=U.S.-China relations&begin_date=20150120&end_date=20160120&page=50&api-key=q9G4oWuPHcFvBfj0rkOMyGfqgL0AOEyH\n"
     ]
    }
   ],
   "source": [
    "def search_nyt_articles(my_api_key, keyword, max_pages, begin_date=\"20150120\", end_date=\"20160120\"):\n",
    "    docs = []\n",
    "\n",
    "    for i in range(max_pages):\n",
    "        api = f\"https://api.nytimes.com/svc/search/v2/articlesearch.json?q={keyword}&begin_date={begin_date}&end_date={end_date}&page={i+1}&api-key={my_api_key}\"\n",
    "        print(api)\n",
    "        response = requests.get(api)\n",
    "        data = response.json()\n",
    "        try:\n",
    "            docs.extend(data['response']['docs'])\n",
    "        except KeyError:\n",
    "            return docs\n",
    "        time.sleep(12)\n",
    "\n",
    "    return docs\n",
    "\n",
    "articles = search_nyt_articles(my_api_key, keyword='U.S.-China relations', max_pages=50)"
   ]
  },
  {
   "cell_type": "code",
   "execution_count": 21,
   "id": "27befa8f",
   "metadata": {},
   "outputs": [],
   "source": [
    "def consolidate_corpus(articles):\n",
    "    docs = []\n",
    "    for article in articles:\n",
    "        lead_paragraph = article.get('lead_paragraph')\n",
    "        docs.append([article['headline']['main'], lead_paragraph, article['pub_date']])\n",
    "        corpus_7 = pd.DataFrame(docs, columns=['headline', 'lead_paragraph', 'date'])\n",
    "    return corpus_7\n",
    "\n",
    "corpus_7 = consolidate_corpus(articles)\n",
    "\n",
    "corpus_7 ['date'] = pd.to_datetime(corpus_7['date'])\n",
    "\n",
    "corpus_7  = corpus_7.sort_values(by='date')\n",
    "\n",
    "corpus_7.to_csv('corpus_7.csv', index=False)"
   ]
  },
  {
   "cell_type": "markdown",
   "id": "840d01cb",
   "metadata": {},
   "source": [
    "# 2016 - 2017"
   ]
  },
  {
   "cell_type": "code",
   "execution_count": 32,
   "id": "6391ff87",
   "metadata": {},
   "outputs": [
    {
     "name": "stdout",
     "output_type": "stream",
     "text": [
      "https://api.nytimes.com/svc/search/v2/articlesearch.json?fq=U.S.-China relations&begin_date=20160120&end_date=20170120&api-key=q9G4oWuPHcFvBfj0rkOMyGfqgL0AOEyH\n",
      "10538\n"
     ]
    }
   ],
   "source": [
    "def number_of_articles(api_key, keyword, begin_date=\"20160120\", end_date=\"20170120\"):\n",
    "    url_query = f\"https://api.nytimes.com/svc/search/v2/articlesearch.json?fq={keyword}&begin_date={begin_date}&end_date={end_date}&api-key={api_key}\"\n",
    "    print(url_query)\n",
    "    res = requests.get(url_query)\n",
    "    json_res = res.json()\n",
    "    hits = json_res[\"response\"][\"meta\"][\"hits\"]\n",
    "    return hits\n",
    "\n",
    "print(number_of_articles(api_key=my_api_key, keyword='U.S.-China relations'))"
   ]
  },
  {
   "cell_type": "code",
   "execution_count": 33,
   "id": "7fdb61d2",
   "metadata": {},
   "outputs": [
    {
     "name": "stdout",
     "output_type": "stream",
     "text": [
      "https://api.nytimes.com/svc/search/v2/articlesearch.json?q=U.S.-China relations&begin_date=20160120&end_date=20170120&page=1&api-key=q9G4oWuPHcFvBfj0rkOMyGfqgL0AOEyH\n",
      "https://api.nytimes.com/svc/search/v2/articlesearch.json?q=U.S.-China relations&begin_date=20160120&end_date=20170120&page=2&api-key=q9G4oWuPHcFvBfj0rkOMyGfqgL0AOEyH\n",
      "https://api.nytimes.com/svc/search/v2/articlesearch.json?q=U.S.-China relations&begin_date=20160120&end_date=20170120&page=3&api-key=q9G4oWuPHcFvBfj0rkOMyGfqgL0AOEyH\n",
      "https://api.nytimes.com/svc/search/v2/articlesearch.json?q=U.S.-China relations&begin_date=20160120&end_date=20170120&page=4&api-key=q9G4oWuPHcFvBfj0rkOMyGfqgL0AOEyH\n",
      "https://api.nytimes.com/svc/search/v2/articlesearch.json?q=U.S.-China relations&begin_date=20160120&end_date=20170120&page=5&api-key=q9G4oWuPHcFvBfj0rkOMyGfqgL0AOEyH\n",
      "https://api.nytimes.com/svc/search/v2/articlesearch.json?q=U.S.-China relations&begin_date=20160120&end_date=20170120&page=6&api-key=q9G4oWuPHcFvBfj0rkOMyGfqgL0AOEyH\n",
      "https://api.nytimes.com/svc/search/v2/articlesearch.json?q=U.S.-China relations&begin_date=20160120&end_date=20170120&page=7&api-key=q9G4oWuPHcFvBfj0rkOMyGfqgL0AOEyH\n",
      "https://api.nytimes.com/svc/search/v2/articlesearch.json?q=U.S.-China relations&begin_date=20160120&end_date=20170120&page=8&api-key=q9G4oWuPHcFvBfj0rkOMyGfqgL0AOEyH\n",
      "https://api.nytimes.com/svc/search/v2/articlesearch.json?q=U.S.-China relations&begin_date=20160120&end_date=20170120&page=9&api-key=q9G4oWuPHcFvBfj0rkOMyGfqgL0AOEyH\n",
      "https://api.nytimes.com/svc/search/v2/articlesearch.json?q=U.S.-China relations&begin_date=20160120&end_date=20170120&page=10&api-key=q9G4oWuPHcFvBfj0rkOMyGfqgL0AOEyH\n",
      "https://api.nytimes.com/svc/search/v2/articlesearch.json?q=U.S.-China relations&begin_date=20160120&end_date=20170120&page=11&api-key=q9G4oWuPHcFvBfj0rkOMyGfqgL0AOEyH\n",
      "https://api.nytimes.com/svc/search/v2/articlesearch.json?q=U.S.-China relations&begin_date=20160120&end_date=20170120&page=12&api-key=q9G4oWuPHcFvBfj0rkOMyGfqgL0AOEyH\n",
      "https://api.nytimes.com/svc/search/v2/articlesearch.json?q=U.S.-China relations&begin_date=20160120&end_date=20170120&page=13&api-key=q9G4oWuPHcFvBfj0rkOMyGfqgL0AOEyH\n",
      "https://api.nytimes.com/svc/search/v2/articlesearch.json?q=U.S.-China relations&begin_date=20160120&end_date=20170120&page=14&api-key=q9G4oWuPHcFvBfj0rkOMyGfqgL0AOEyH\n",
      "https://api.nytimes.com/svc/search/v2/articlesearch.json?q=U.S.-China relations&begin_date=20160120&end_date=20170120&page=15&api-key=q9G4oWuPHcFvBfj0rkOMyGfqgL0AOEyH\n",
      "https://api.nytimes.com/svc/search/v2/articlesearch.json?q=U.S.-China relations&begin_date=20160120&end_date=20170120&page=16&api-key=q9G4oWuPHcFvBfj0rkOMyGfqgL0AOEyH\n",
      "https://api.nytimes.com/svc/search/v2/articlesearch.json?q=U.S.-China relations&begin_date=20160120&end_date=20170120&page=17&api-key=q9G4oWuPHcFvBfj0rkOMyGfqgL0AOEyH\n",
      "https://api.nytimes.com/svc/search/v2/articlesearch.json?q=U.S.-China relations&begin_date=20160120&end_date=20170120&page=18&api-key=q9G4oWuPHcFvBfj0rkOMyGfqgL0AOEyH\n",
      "https://api.nytimes.com/svc/search/v2/articlesearch.json?q=U.S.-China relations&begin_date=20160120&end_date=20170120&page=19&api-key=q9G4oWuPHcFvBfj0rkOMyGfqgL0AOEyH\n",
      "https://api.nytimes.com/svc/search/v2/articlesearch.json?q=U.S.-China relations&begin_date=20160120&end_date=20170120&page=20&api-key=q9G4oWuPHcFvBfj0rkOMyGfqgL0AOEyH\n",
      "https://api.nytimes.com/svc/search/v2/articlesearch.json?q=U.S.-China relations&begin_date=20160120&end_date=20170120&page=21&api-key=q9G4oWuPHcFvBfj0rkOMyGfqgL0AOEyH\n",
      "https://api.nytimes.com/svc/search/v2/articlesearch.json?q=U.S.-China relations&begin_date=20160120&end_date=20170120&page=22&api-key=q9G4oWuPHcFvBfj0rkOMyGfqgL0AOEyH\n",
      "https://api.nytimes.com/svc/search/v2/articlesearch.json?q=U.S.-China relations&begin_date=20160120&end_date=20170120&page=23&api-key=q9G4oWuPHcFvBfj0rkOMyGfqgL0AOEyH\n",
      "https://api.nytimes.com/svc/search/v2/articlesearch.json?q=U.S.-China relations&begin_date=20160120&end_date=20170120&page=24&api-key=q9G4oWuPHcFvBfj0rkOMyGfqgL0AOEyH\n",
      "https://api.nytimes.com/svc/search/v2/articlesearch.json?q=U.S.-China relations&begin_date=20160120&end_date=20170120&page=25&api-key=q9G4oWuPHcFvBfj0rkOMyGfqgL0AOEyH\n",
      "https://api.nytimes.com/svc/search/v2/articlesearch.json?q=U.S.-China relations&begin_date=20160120&end_date=20170120&page=26&api-key=q9G4oWuPHcFvBfj0rkOMyGfqgL0AOEyH\n",
      "https://api.nytimes.com/svc/search/v2/articlesearch.json?q=U.S.-China relations&begin_date=20160120&end_date=20170120&page=27&api-key=q9G4oWuPHcFvBfj0rkOMyGfqgL0AOEyH\n",
      "https://api.nytimes.com/svc/search/v2/articlesearch.json?q=U.S.-China relations&begin_date=20160120&end_date=20170120&page=28&api-key=q9G4oWuPHcFvBfj0rkOMyGfqgL0AOEyH\n",
      "https://api.nytimes.com/svc/search/v2/articlesearch.json?q=U.S.-China relations&begin_date=20160120&end_date=20170120&page=29&api-key=q9G4oWuPHcFvBfj0rkOMyGfqgL0AOEyH\n",
      "https://api.nytimes.com/svc/search/v2/articlesearch.json?q=U.S.-China relations&begin_date=20160120&end_date=20170120&page=30&api-key=q9G4oWuPHcFvBfj0rkOMyGfqgL0AOEyH\n",
      "https://api.nytimes.com/svc/search/v2/articlesearch.json?q=U.S.-China relations&begin_date=20160120&end_date=20170120&page=31&api-key=q9G4oWuPHcFvBfj0rkOMyGfqgL0AOEyH\n",
      "https://api.nytimes.com/svc/search/v2/articlesearch.json?q=U.S.-China relations&begin_date=20160120&end_date=20170120&page=32&api-key=q9G4oWuPHcFvBfj0rkOMyGfqgL0AOEyH\n",
      "https://api.nytimes.com/svc/search/v2/articlesearch.json?q=U.S.-China relations&begin_date=20160120&end_date=20170120&page=33&api-key=q9G4oWuPHcFvBfj0rkOMyGfqgL0AOEyH\n",
      "https://api.nytimes.com/svc/search/v2/articlesearch.json?q=U.S.-China relations&begin_date=20160120&end_date=20170120&page=34&api-key=q9G4oWuPHcFvBfj0rkOMyGfqgL0AOEyH\n",
      "https://api.nytimes.com/svc/search/v2/articlesearch.json?q=U.S.-China relations&begin_date=20160120&end_date=20170120&page=35&api-key=q9G4oWuPHcFvBfj0rkOMyGfqgL0AOEyH\n",
      "https://api.nytimes.com/svc/search/v2/articlesearch.json?q=U.S.-China relations&begin_date=20160120&end_date=20170120&page=36&api-key=q9G4oWuPHcFvBfj0rkOMyGfqgL0AOEyH\n",
      "https://api.nytimes.com/svc/search/v2/articlesearch.json?q=U.S.-China relations&begin_date=20160120&end_date=20170120&page=37&api-key=q9G4oWuPHcFvBfj0rkOMyGfqgL0AOEyH\n",
      "https://api.nytimes.com/svc/search/v2/articlesearch.json?q=U.S.-China relations&begin_date=20160120&end_date=20170120&page=38&api-key=q9G4oWuPHcFvBfj0rkOMyGfqgL0AOEyH\n",
      "https://api.nytimes.com/svc/search/v2/articlesearch.json?q=U.S.-China relations&begin_date=20160120&end_date=20170120&page=39&api-key=q9G4oWuPHcFvBfj0rkOMyGfqgL0AOEyH\n",
      "https://api.nytimes.com/svc/search/v2/articlesearch.json?q=U.S.-China relations&begin_date=20160120&end_date=20170120&page=40&api-key=q9G4oWuPHcFvBfj0rkOMyGfqgL0AOEyH\n",
      "https://api.nytimes.com/svc/search/v2/articlesearch.json?q=U.S.-China relations&begin_date=20160120&end_date=20170120&page=41&api-key=q9G4oWuPHcFvBfj0rkOMyGfqgL0AOEyH\n",
      "https://api.nytimes.com/svc/search/v2/articlesearch.json?q=U.S.-China relations&begin_date=20160120&end_date=20170120&page=42&api-key=q9G4oWuPHcFvBfj0rkOMyGfqgL0AOEyH\n",
      "https://api.nytimes.com/svc/search/v2/articlesearch.json?q=U.S.-China relations&begin_date=20160120&end_date=20170120&page=43&api-key=q9G4oWuPHcFvBfj0rkOMyGfqgL0AOEyH\n",
      "https://api.nytimes.com/svc/search/v2/articlesearch.json?q=U.S.-China relations&begin_date=20160120&end_date=20170120&page=44&api-key=q9G4oWuPHcFvBfj0rkOMyGfqgL0AOEyH\n",
      "https://api.nytimes.com/svc/search/v2/articlesearch.json?q=U.S.-China relations&begin_date=20160120&end_date=20170120&page=45&api-key=q9G4oWuPHcFvBfj0rkOMyGfqgL0AOEyH\n",
      "https://api.nytimes.com/svc/search/v2/articlesearch.json?q=U.S.-China relations&begin_date=20160120&end_date=20170120&page=46&api-key=q9G4oWuPHcFvBfj0rkOMyGfqgL0AOEyH\n",
      "https://api.nytimes.com/svc/search/v2/articlesearch.json?q=U.S.-China relations&begin_date=20160120&end_date=20170120&page=47&api-key=q9G4oWuPHcFvBfj0rkOMyGfqgL0AOEyH\n",
      "https://api.nytimes.com/svc/search/v2/articlesearch.json?q=U.S.-China relations&begin_date=20160120&end_date=20170120&page=48&api-key=q9G4oWuPHcFvBfj0rkOMyGfqgL0AOEyH\n",
      "https://api.nytimes.com/svc/search/v2/articlesearch.json?q=U.S.-China relations&begin_date=20160120&end_date=20170120&page=49&api-key=q9G4oWuPHcFvBfj0rkOMyGfqgL0AOEyH\n",
      "https://api.nytimes.com/svc/search/v2/articlesearch.json?q=U.S.-China relations&begin_date=20160120&end_date=20170120&page=50&api-key=q9G4oWuPHcFvBfj0rkOMyGfqgL0AOEyH\n"
     ]
    }
   ],
   "source": [
    "def search_nyt_articles(my_api_key, keyword, max_pages, begin_date=\"20160120\", end_date=\"20170120\"):\n",
    "    docs = []\n",
    "\n",
    "    for i in range(max_pages):\n",
    "        api = f\"https://api.nytimes.com/svc/search/v2/articlesearch.json?q={keyword}&begin_date={begin_date}&end_date={end_date}&page={i+1}&api-key={my_api_key}\"\n",
    "        print(api)\n",
    "        response = requests.get(api)\n",
    "        data = response.json()\n",
    "        try:\n",
    "            docs.extend(data['response']['docs'])\n",
    "        except KeyError:\n",
    "            return docs\n",
    "        time.sleep(12)\n",
    "\n",
    "    return docs\n",
    "\n",
    "articles = search_nyt_articles(my_api_key, keyword='U.S.-China relations', max_pages=50)"
   ]
  },
  {
   "cell_type": "code",
   "execution_count": 34,
   "id": "4cfa8978",
   "metadata": {},
   "outputs": [],
   "source": [
    "def consolidate_corpus(articles):\n",
    "    docs = []\n",
    "    for article in articles:\n",
    "        lead_paragraph = article.get('lead_paragraph')\n",
    "        docs.append([article['headline']['main'], lead_paragraph, article['pub_date']])\n",
    "        corpus_8 = pd.DataFrame(docs, columns=['headline', 'lead_paragraph', 'date'])\n",
    "    return corpus_8\n",
    "\n",
    "corpus_8 = consolidate_corpus(articles)\n",
    "\n",
    "corpus_8 ['date'] = pd.to_datetime(corpus_8['date'])\n",
    "\n",
    "corpus_8  = corpus_8.sort_values(by='date')\n",
    "\n",
    "corpus_8.to_csv('corpus_8.csv', index=False)"
   ]
  },
  {
   "cell_type": "markdown",
   "id": "2951f0a6",
   "metadata": {},
   "source": [
    "# 2017 - 2018"
   ]
  },
  {
   "cell_type": "code",
   "execution_count": 35,
   "id": "a1755680",
   "metadata": {},
   "outputs": [
    {
     "name": "stdout",
     "output_type": "stream",
     "text": [
      "https://api.nytimes.com/svc/search/v2/articlesearch.json?fq=U.S.-China relations&begin_date=20170120&end_date=20180120&api-key=q9G4oWuPHcFvBfj0rkOMyGfqgL0AOEyH\n",
      "11121\n"
     ]
    }
   ],
   "source": [
    "def number_of_articles(api_key, keyword, begin_date=\"20170120\", end_date=\"20180120\"):\n",
    "    url_query = f\"https://api.nytimes.com/svc/search/v2/articlesearch.json?fq={keyword}&begin_date={begin_date}&end_date={end_date}&api-key={api_key}\"\n",
    "    print(url_query)\n",
    "    res = requests.get(url_query)\n",
    "    json_res = res.json()\n",
    "    hits = json_res[\"response\"][\"meta\"][\"hits\"]\n",
    "    return hits\n",
    "\n",
    "print(number_of_articles(api_key=my_api_key, keyword='U.S.-China relations'))"
   ]
  },
  {
   "cell_type": "code",
   "execution_count": 36,
   "id": "64a48958",
   "metadata": {},
   "outputs": [
    {
     "name": "stdout",
     "output_type": "stream",
     "text": [
      "https://api.nytimes.com/svc/search/v2/articlesearch.json?q=U.S.-China relations&begin_date=20170120&end_date=20180120&page=1&api-key=q9G4oWuPHcFvBfj0rkOMyGfqgL0AOEyH\n",
      "https://api.nytimes.com/svc/search/v2/articlesearch.json?q=U.S.-China relations&begin_date=20170120&end_date=20180120&page=2&api-key=q9G4oWuPHcFvBfj0rkOMyGfqgL0AOEyH\n",
      "https://api.nytimes.com/svc/search/v2/articlesearch.json?q=U.S.-China relations&begin_date=20170120&end_date=20180120&page=3&api-key=q9G4oWuPHcFvBfj0rkOMyGfqgL0AOEyH\n",
      "https://api.nytimes.com/svc/search/v2/articlesearch.json?q=U.S.-China relations&begin_date=20170120&end_date=20180120&page=4&api-key=q9G4oWuPHcFvBfj0rkOMyGfqgL0AOEyH\n",
      "https://api.nytimes.com/svc/search/v2/articlesearch.json?q=U.S.-China relations&begin_date=20170120&end_date=20180120&page=5&api-key=q9G4oWuPHcFvBfj0rkOMyGfqgL0AOEyH\n",
      "https://api.nytimes.com/svc/search/v2/articlesearch.json?q=U.S.-China relations&begin_date=20170120&end_date=20180120&page=6&api-key=q9G4oWuPHcFvBfj0rkOMyGfqgL0AOEyH\n",
      "https://api.nytimes.com/svc/search/v2/articlesearch.json?q=U.S.-China relations&begin_date=20170120&end_date=20180120&page=7&api-key=q9G4oWuPHcFvBfj0rkOMyGfqgL0AOEyH\n",
      "https://api.nytimes.com/svc/search/v2/articlesearch.json?q=U.S.-China relations&begin_date=20170120&end_date=20180120&page=8&api-key=q9G4oWuPHcFvBfj0rkOMyGfqgL0AOEyH\n",
      "https://api.nytimes.com/svc/search/v2/articlesearch.json?q=U.S.-China relations&begin_date=20170120&end_date=20180120&page=9&api-key=q9G4oWuPHcFvBfj0rkOMyGfqgL0AOEyH\n",
      "https://api.nytimes.com/svc/search/v2/articlesearch.json?q=U.S.-China relations&begin_date=20170120&end_date=20180120&page=10&api-key=q9G4oWuPHcFvBfj0rkOMyGfqgL0AOEyH\n",
      "https://api.nytimes.com/svc/search/v2/articlesearch.json?q=U.S.-China relations&begin_date=20170120&end_date=20180120&page=11&api-key=q9G4oWuPHcFvBfj0rkOMyGfqgL0AOEyH\n",
      "https://api.nytimes.com/svc/search/v2/articlesearch.json?q=U.S.-China relations&begin_date=20170120&end_date=20180120&page=12&api-key=q9G4oWuPHcFvBfj0rkOMyGfqgL0AOEyH\n",
      "https://api.nytimes.com/svc/search/v2/articlesearch.json?q=U.S.-China relations&begin_date=20170120&end_date=20180120&page=13&api-key=q9G4oWuPHcFvBfj0rkOMyGfqgL0AOEyH\n",
      "https://api.nytimes.com/svc/search/v2/articlesearch.json?q=U.S.-China relations&begin_date=20170120&end_date=20180120&page=14&api-key=q9G4oWuPHcFvBfj0rkOMyGfqgL0AOEyH\n",
      "https://api.nytimes.com/svc/search/v2/articlesearch.json?q=U.S.-China relations&begin_date=20170120&end_date=20180120&page=15&api-key=q9G4oWuPHcFvBfj0rkOMyGfqgL0AOEyH\n",
      "https://api.nytimes.com/svc/search/v2/articlesearch.json?q=U.S.-China relations&begin_date=20170120&end_date=20180120&page=16&api-key=q9G4oWuPHcFvBfj0rkOMyGfqgL0AOEyH\n",
      "https://api.nytimes.com/svc/search/v2/articlesearch.json?q=U.S.-China relations&begin_date=20170120&end_date=20180120&page=17&api-key=q9G4oWuPHcFvBfj0rkOMyGfqgL0AOEyH\n",
      "https://api.nytimes.com/svc/search/v2/articlesearch.json?q=U.S.-China relations&begin_date=20170120&end_date=20180120&page=18&api-key=q9G4oWuPHcFvBfj0rkOMyGfqgL0AOEyH\n",
      "https://api.nytimes.com/svc/search/v2/articlesearch.json?q=U.S.-China relations&begin_date=20170120&end_date=20180120&page=19&api-key=q9G4oWuPHcFvBfj0rkOMyGfqgL0AOEyH\n",
      "https://api.nytimes.com/svc/search/v2/articlesearch.json?q=U.S.-China relations&begin_date=20170120&end_date=20180120&page=20&api-key=q9G4oWuPHcFvBfj0rkOMyGfqgL0AOEyH\n",
      "https://api.nytimes.com/svc/search/v2/articlesearch.json?q=U.S.-China relations&begin_date=20170120&end_date=20180120&page=21&api-key=q9G4oWuPHcFvBfj0rkOMyGfqgL0AOEyH\n",
      "https://api.nytimes.com/svc/search/v2/articlesearch.json?q=U.S.-China relations&begin_date=20170120&end_date=20180120&page=22&api-key=q9G4oWuPHcFvBfj0rkOMyGfqgL0AOEyH\n",
      "https://api.nytimes.com/svc/search/v2/articlesearch.json?q=U.S.-China relations&begin_date=20170120&end_date=20180120&page=23&api-key=q9G4oWuPHcFvBfj0rkOMyGfqgL0AOEyH\n",
      "https://api.nytimes.com/svc/search/v2/articlesearch.json?q=U.S.-China relations&begin_date=20170120&end_date=20180120&page=24&api-key=q9G4oWuPHcFvBfj0rkOMyGfqgL0AOEyH\n",
      "https://api.nytimes.com/svc/search/v2/articlesearch.json?q=U.S.-China relations&begin_date=20170120&end_date=20180120&page=25&api-key=q9G4oWuPHcFvBfj0rkOMyGfqgL0AOEyH\n",
      "https://api.nytimes.com/svc/search/v2/articlesearch.json?q=U.S.-China relations&begin_date=20170120&end_date=20180120&page=26&api-key=q9G4oWuPHcFvBfj0rkOMyGfqgL0AOEyH\n",
      "https://api.nytimes.com/svc/search/v2/articlesearch.json?q=U.S.-China relations&begin_date=20170120&end_date=20180120&page=27&api-key=q9G4oWuPHcFvBfj0rkOMyGfqgL0AOEyH\n",
      "https://api.nytimes.com/svc/search/v2/articlesearch.json?q=U.S.-China relations&begin_date=20170120&end_date=20180120&page=28&api-key=q9G4oWuPHcFvBfj0rkOMyGfqgL0AOEyH\n",
      "https://api.nytimes.com/svc/search/v2/articlesearch.json?q=U.S.-China relations&begin_date=20170120&end_date=20180120&page=29&api-key=q9G4oWuPHcFvBfj0rkOMyGfqgL0AOEyH\n",
      "https://api.nytimes.com/svc/search/v2/articlesearch.json?q=U.S.-China relations&begin_date=20170120&end_date=20180120&page=30&api-key=q9G4oWuPHcFvBfj0rkOMyGfqgL0AOEyH\n",
      "https://api.nytimes.com/svc/search/v2/articlesearch.json?q=U.S.-China relations&begin_date=20170120&end_date=20180120&page=31&api-key=q9G4oWuPHcFvBfj0rkOMyGfqgL0AOEyH\n",
      "https://api.nytimes.com/svc/search/v2/articlesearch.json?q=U.S.-China relations&begin_date=20170120&end_date=20180120&page=32&api-key=q9G4oWuPHcFvBfj0rkOMyGfqgL0AOEyH\n",
      "https://api.nytimes.com/svc/search/v2/articlesearch.json?q=U.S.-China relations&begin_date=20170120&end_date=20180120&page=33&api-key=q9G4oWuPHcFvBfj0rkOMyGfqgL0AOEyH\n",
      "https://api.nytimes.com/svc/search/v2/articlesearch.json?q=U.S.-China relations&begin_date=20170120&end_date=20180120&page=34&api-key=q9G4oWuPHcFvBfj0rkOMyGfqgL0AOEyH\n",
      "https://api.nytimes.com/svc/search/v2/articlesearch.json?q=U.S.-China relations&begin_date=20170120&end_date=20180120&page=35&api-key=q9G4oWuPHcFvBfj0rkOMyGfqgL0AOEyH\n",
      "https://api.nytimes.com/svc/search/v2/articlesearch.json?q=U.S.-China relations&begin_date=20170120&end_date=20180120&page=36&api-key=q9G4oWuPHcFvBfj0rkOMyGfqgL0AOEyH\n",
      "https://api.nytimes.com/svc/search/v2/articlesearch.json?q=U.S.-China relations&begin_date=20170120&end_date=20180120&page=37&api-key=q9G4oWuPHcFvBfj0rkOMyGfqgL0AOEyH\n",
      "https://api.nytimes.com/svc/search/v2/articlesearch.json?q=U.S.-China relations&begin_date=20170120&end_date=20180120&page=38&api-key=q9G4oWuPHcFvBfj0rkOMyGfqgL0AOEyH\n",
      "https://api.nytimes.com/svc/search/v2/articlesearch.json?q=U.S.-China relations&begin_date=20170120&end_date=20180120&page=39&api-key=q9G4oWuPHcFvBfj0rkOMyGfqgL0AOEyH\n",
      "https://api.nytimes.com/svc/search/v2/articlesearch.json?q=U.S.-China relations&begin_date=20170120&end_date=20180120&page=40&api-key=q9G4oWuPHcFvBfj0rkOMyGfqgL0AOEyH\n",
      "https://api.nytimes.com/svc/search/v2/articlesearch.json?q=U.S.-China relations&begin_date=20170120&end_date=20180120&page=41&api-key=q9G4oWuPHcFvBfj0rkOMyGfqgL0AOEyH\n",
      "https://api.nytimes.com/svc/search/v2/articlesearch.json?q=U.S.-China relations&begin_date=20170120&end_date=20180120&page=42&api-key=q9G4oWuPHcFvBfj0rkOMyGfqgL0AOEyH\n",
      "https://api.nytimes.com/svc/search/v2/articlesearch.json?q=U.S.-China relations&begin_date=20170120&end_date=20180120&page=43&api-key=q9G4oWuPHcFvBfj0rkOMyGfqgL0AOEyH\n",
      "https://api.nytimes.com/svc/search/v2/articlesearch.json?q=U.S.-China relations&begin_date=20170120&end_date=20180120&page=44&api-key=q9G4oWuPHcFvBfj0rkOMyGfqgL0AOEyH\n",
      "https://api.nytimes.com/svc/search/v2/articlesearch.json?q=U.S.-China relations&begin_date=20170120&end_date=20180120&page=45&api-key=q9G4oWuPHcFvBfj0rkOMyGfqgL0AOEyH\n",
      "https://api.nytimes.com/svc/search/v2/articlesearch.json?q=U.S.-China relations&begin_date=20170120&end_date=20180120&page=46&api-key=q9G4oWuPHcFvBfj0rkOMyGfqgL0AOEyH\n",
      "https://api.nytimes.com/svc/search/v2/articlesearch.json?q=U.S.-China relations&begin_date=20170120&end_date=20180120&page=47&api-key=q9G4oWuPHcFvBfj0rkOMyGfqgL0AOEyH\n",
      "https://api.nytimes.com/svc/search/v2/articlesearch.json?q=U.S.-China relations&begin_date=20170120&end_date=20180120&page=48&api-key=q9G4oWuPHcFvBfj0rkOMyGfqgL0AOEyH\n",
      "https://api.nytimes.com/svc/search/v2/articlesearch.json?q=U.S.-China relations&begin_date=20170120&end_date=20180120&page=49&api-key=q9G4oWuPHcFvBfj0rkOMyGfqgL0AOEyH\n",
      "https://api.nytimes.com/svc/search/v2/articlesearch.json?q=U.S.-China relations&begin_date=20170120&end_date=20180120&page=50&api-key=q9G4oWuPHcFvBfj0rkOMyGfqgL0AOEyH\n"
     ]
    }
   ],
   "source": [
    "def search_nyt_articles(my_api_key, keyword, max_pages, begin_date=\"20170120\", end_date=\"20180120\"):\n",
    "    docs = []\n",
    "\n",
    "    for i in range(max_pages):\n",
    "        api = f\"https://api.nytimes.com/svc/search/v2/articlesearch.json?q={keyword}&begin_date={begin_date}&end_date={end_date}&page={i+1}&api-key={my_api_key}\"\n",
    "        print(api)\n",
    "        response = requests.get(api)\n",
    "        data = response.json()\n",
    "        try:\n",
    "            docs.extend(data['response']['docs'])\n",
    "        except KeyError:\n",
    "            return docs\n",
    "        time.sleep(12)\n",
    "\n",
    "    return docs\n",
    "\n",
    "articles = search_nyt_articles(my_api_key, keyword='U.S.-China relations', max_pages=50)"
   ]
  },
  {
   "cell_type": "code",
   "execution_count": 37,
   "id": "527e9127",
   "metadata": {},
   "outputs": [],
   "source": [
    "def consolidate_corpus(articles):\n",
    "    docs = []\n",
    "    for article in articles:\n",
    "        lead_paragraph = article.get('lead_paragraph')\n",
    "        docs.append([article['headline']['main'], lead_paragraph, article['pub_date']])\n",
    "        corpus_9 = pd.DataFrame(docs, columns=['headline', 'lead_paragraph', 'date'])\n",
    "    return corpus_9\n",
    "\n",
    "corpus_9 = consolidate_corpus(articles)\n",
    "\n",
    "corpus_9 ['date'] = pd.to_datetime(corpus_9['date'])\n",
    "\n",
    "corpus_9  = corpus_9.sort_values(by='date')\n",
    "\n",
    "corpus_9.to_csv('corpus_9.csv', index=False)"
   ]
  },
  {
   "cell_type": "markdown",
   "id": "f44d666a",
   "metadata": {},
   "source": [
    "# 2018 - 2019"
   ]
  },
  {
   "cell_type": "code",
   "execution_count": 38,
   "id": "b0a76f9f",
   "metadata": {},
   "outputs": [
    {
     "name": "stdout",
     "output_type": "stream",
     "text": [
      "https://api.nytimes.com/svc/search/v2/articlesearch.json?fq=U.S.-China relations&begin_date=20180120&end_date=20190120&api-key=q9G4oWuPHcFvBfj0rkOMyGfqgL0AOEyH\n",
      "12502\n"
     ]
    }
   ],
   "source": [
    "def number_of_articles(api_key, keyword, begin_date=\"20180120\", end_date=\"20190120\"):\n",
    "    url_query = f\"https://api.nytimes.com/svc/search/v2/articlesearch.json?fq={keyword}&begin_date={begin_date}&end_date={end_date}&api-key={api_key}\"\n",
    "    print(url_query)\n",
    "    res = requests.get(url_query)\n",
    "    json_res = res.json()\n",
    "    hits = json_res[\"response\"][\"meta\"][\"hits\"]\n",
    "    return hits\n",
    "\n",
    "print(number_of_articles(api_key=my_api_key, keyword='U.S.-China relations'))"
   ]
  },
  {
   "cell_type": "code",
   "execution_count": 41,
   "id": "edec93df",
   "metadata": {},
   "outputs": [
    {
     "name": "stdout",
     "output_type": "stream",
     "text": [
      "https://api.nytimes.com/svc/search/v2/articlesearch.json?q=U.S.-China relations&begin_date=20180120&end_date=20190120&page=1&api-key=q9G4oWuPHcFvBfj0rkOMyGfqgL0AOEyH\n",
      "https://api.nytimes.com/svc/search/v2/articlesearch.json?q=U.S.-China relations&begin_date=20180120&end_date=20190120&page=2&api-key=q9G4oWuPHcFvBfj0rkOMyGfqgL0AOEyH\n",
      "https://api.nytimes.com/svc/search/v2/articlesearch.json?q=U.S.-China relations&begin_date=20180120&end_date=20190120&page=3&api-key=q9G4oWuPHcFvBfj0rkOMyGfqgL0AOEyH\n",
      "https://api.nytimes.com/svc/search/v2/articlesearch.json?q=U.S.-China relations&begin_date=20180120&end_date=20190120&page=4&api-key=q9G4oWuPHcFvBfj0rkOMyGfqgL0AOEyH\n",
      "https://api.nytimes.com/svc/search/v2/articlesearch.json?q=U.S.-China relations&begin_date=20180120&end_date=20190120&page=5&api-key=q9G4oWuPHcFvBfj0rkOMyGfqgL0AOEyH\n",
      "https://api.nytimes.com/svc/search/v2/articlesearch.json?q=U.S.-China relations&begin_date=20180120&end_date=20190120&page=6&api-key=q9G4oWuPHcFvBfj0rkOMyGfqgL0AOEyH\n",
      "https://api.nytimes.com/svc/search/v2/articlesearch.json?q=U.S.-China relations&begin_date=20180120&end_date=20190120&page=7&api-key=q9G4oWuPHcFvBfj0rkOMyGfqgL0AOEyH\n",
      "https://api.nytimes.com/svc/search/v2/articlesearch.json?q=U.S.-China relations&begin_date=20180120&end_date=20190120&page=8&api-key=q9G4oWuPHcFvBfj0rkOMyGfqgL0AOEyH\n",
      "https://api.nytimes.com/svc/search/v2/articlesearch.json?q=U.S.-China relations&begin_date=20180120&end_date=20190120&page=9&api-key=q9G4oWuPHcFvBfj0rkOMyGfqgL0AOEyH\n",
      "https://api.nytimes.com/svc/search/v2/articlesearch.json?q=U.S.-China relations&begin_date=20180120&end_date=20190120&page=10&api-key=q9G4oWuPHcFvBfj0rkOMyGfqgL0AOEyH\n",
      "https://api.nytimes.com/svc/search/v2/articlesearch.json?q=U.S.-China relations&begin_date=20180120&end_date=20190120&page=11&api-key=q9G4oWuPHcFvBfj0rkOMyGfqgL0AOEyH\n",
      "https://api.nytimes.com/svc/search/v2/articlesearch.json?q=U.S.-China relations&begin_date=20180120&end_date=20190120&page=12&api-key=q9G4oWuPHcFvBfj0rkOMyGfqgL0AOEyH\n",
      "https://api.nytimes.com/svc/search/v2/articlesearch.json?q=U.S.-China relations&begin_date=20180120&end_date=20190120&page=13&api-key=q9G4oWuPHcFvBfj0rkOMyGfqgL0AOEyH\n",
      "https://api.nytimes.com/svc/search/v2/articlesearch.json?q=U.S.-China relations&begin_date=20180120&end_date=20190120&page=14&api-key=q9G4oWuPHcFvBfj0rkOMyGfqgL0AOEyH\n",
      "https://api.nytimes.com/svc/search/v2/articlesearch.json?q=U.S.-China relations&begin_date=20180120&end_date=20190120&page=15&api-key=q9G4oWuPHcFvBfj0rkOMyGfqgL0AOEyH\n",
      "https://api.nytimes.com/svc/search/v2/articlesearch.json?q=U.S.-China relations&begin_date=20180120&end_date=20190120&page=16&api-key=q9G4oWuPHcFvBfj0rkOMyGfqgL0AOEyH\n",
      "https://api.nytimes.com/svc/search/v2/articlesearch.json?q=U.S.-China relations&begin_date=20180120&end_date=20190120&page=17&api-key=q9G4oWuPHcFvBfj0rkOMyGfqgL0AOEyH\n",
      "https://api.nytimes.com/svc/search/v2/articlesearch.json?q=U.S.-China relations&begin_date=20180120&end_date=20190120&page=18&api-key=q9G4oWuPHcFvBfj0rkOMyGfqgL0AOEyH\n",
      "https://api.nytimes.com/svc/search/v2/articlesearch.json?q=U.S.-China relations&begin_date=20180120&end_date=20190120&page=19&api-key=q9G4oWuPHcFvBfj0rkOMyGfqgL0AOEyH\n",
      "https://api.nytimes.com/svc/search/v2/articlesearch.json?q=U.S.-China relations&begin_date=20180120&end_date=20190120&page=20&api-key=q9G4oWuPHcFvBfj0rkOMyGfqgL0AOEyH\n",
      "https://api.nytimes.com/svc/search/v2/articlesearch.json?q=U.S.-China relations&begin_date=20180120&end_date=20190120&page=21&api-key=q9G4oWuPHcFvBfj0rkOMyGfqgL0AOEyH\n",
      "https://api.nytimes.com/svc/search/v2/articlesearch.json?q=U.S.-China relations&begin_date=20180120&end_date=20190120&page=22&api-key=q9G4oWuPHcFvBfj0rkOMyGfqgL0AOEyH\n",
      "https://api.nytimes.com/svc/search/v2/articlesearch.json?q=U.S.-China relations&begin_date=20180120&end_date=20190120&page=23&api-key=q9G4oWuPHcFvBfj0rkOMyGfqgL0AOEyH\n",
      "https://api.nytimes.com/svc/search/v2/articlesearch.json?q=U.S.-China relations&begin_date=20180120&end_date=20190120&page=24&api-key=q9G4oWuPHcFvBfj0rkOMyGfqgL0AOEyH\n",
      "https://api.nytimes.com/svc/search/v2/articlesearch.json?q=U.S.-China relations&begin_date=20180120&end_date=20190120&page=25&api-key=q9G4oWuPHcFvBfj0rkOMyGfqgL0AOEyH\n",
      "https://api.nytimes.com/svc/search/v2/articlesearch.json?q=U.S.-China relations&begin_date=20180120&end_date=20190120&page=26&api-key=q9G4oWuPHcFvBfj0rkOMyGfqgL0AOEyH\n",
      "https://api.nytimes.com/svc/search/v2/articlesearch.json?q=U.S.-China relations&begin_date=20180120&end_date=20190120&page=27&api-key=q9G4oWuPHcFvBfj0rkOMyGfqgL0AOEyH\n",
      "https://api.nytimes.com/svc/search/v2/articlesearch.json?q=U.S.-China relations&begin_date=20180120&end_date=20190120&page=28&api-key=q9G4oWuPHcFvBfj0rkOMyGfqgL0AOEyH\n",
      "https://api.nytimes.com/svc/search/v2/articlesearch.json?q=U.S.-China relations&begin_date=20180120&end_date=20190120&page=29&api-key=q9G4oWuPHcFvBfj0rkOMyGfqgL0AOEyH\n",
      "https://api.nytimes.com/svc/search/v2/articlesearch.json?q=U.S.-China relations&begin_date=20180120&end_date=20190120&page=30&api-key=q9G4oWuPHcFvBfj0rkOMyGfqgL0AOEyH\n",
      "https://api.nytimes.com/svc/search/v2/articlesearch.json?q=U.S.-China relations&begin_date=20180120&end_date=20190120&page=31&api-key=q9G4oWuPHcFvBfj0rkOMyGfqgL0AOEyH\n",
      "https://api.nytimes.com/svc/search/v2/articlesearch.json?q=U.S.-China relations&begin_date=20180120&end_date=20190120&page=32&api-key=q9G4oWuPHcFvBfj0rkOMyGfqgL0AOEyH\n",
      "https://api.nytimes.com/svc/search/v2/articlesearch.json?q=U.S.-China relations&begin_date=20180120&end_date=20190120&page=33&api-key=q9G4oWuPHcFvBfj0rkOMyGfqgL0AOEyH\n",
      "https://api.nytimes.com/svc/search/v2/articlesearch.json?q=U.S.-China relations&begin_date=20180120&end_date=20190120&page=34&api-key=q9G4oWuPHcFvBfj0rkOMyGfqgL0AOEyH\n",
      "https://api.nytimes.com/svc/search/v2/articlesearch.json?q=U.S.-China relations&begin_date=20180120&end_date=20190120&page=35&api-key=q9G4oWuPHcFvBfj0rkOMyGfqgL0AOEyH\n",
      "https://api.nytimes.com/svc/search/v2/articlesearch.json?q=U.S.-China relations&begin_date=20180120&end_date=20190120&page=36&api-key=q9G4oWuPHcFvBfj0rkOMyGfqgL0AOEyH\n",
      "https://api.nytimes.com/svc/search/v2/articlesearch.json?q=U.S.-China relations&begin_date=20180120&end_date=20190120&page=37&api-key=q9G4oWuPHcFvBfj0rkOMyGfqgL0AOEyH\n",
      "https://api.nytimes.com/svc/search/v2/articlesearch.json?q=U.S.-China relations&begin_date=20180120&end_date=20190120&page=38&api-key=q9G4oWuPHcFvBfj0rkOMyGfqgL0AOEyH\n",
      "https://api.nytimes.com/svc/search/v2/articlesearch.json?q=U.S.-China relations&begin_date=20180120&end_date=20190120&page=39&api-key=q9G4oWuPHcFvBfj0rkOMyGfqgL0AOEyH\n",
      "https://api.nytimes.com/svc/search/v2/articlesearch.json?q=U.S.-China relations&begin_date=20180120&end_date=20190120&page=40&api-key=q9G4oWuPHcFvBfj0rkOMyGfqgL0AOEyH\n",
      "https://api.nytimes.com/svc/search/v2/articlesearch.json?q=U.S.-China relations&begin_date=20180120&end_date=20190120&page=41&api-key=q9G4oWuPHcFvBfj0rkOMyGfqgL0AOEyH\n",
      "https://api.nytimes.com/svc/search/v2/articlesearch.json?q=U.S.-China relations&begin_date=20180120&end_date=20190120&page=42&api-key=q9G4oWuPHcFvBfj0rkOMyGfqgL0AOEyH\n",
      "https://api.nytimes.com/svc/search/v2/articlesearch.json?q=U.S.-China relations&begin_date=20180120&end_date=20190120&page=43&api-key=q9G4oWuPHcFvBfj0rkOMyGfqgL0AOEyH\n",
      "https://api.nytimes.com/svc/search/v2/articlesearch.json?q=U.S.-China relations&begin_date=20180120&end_date=20190120&page=44&api-key=q9G4oWuPHcFvBfj0rkOMyGfqgL0AOEyH\n",
      "https://api.nytimes.com/svc/search/v2/articlesearch.json?q=U.S.-China relations&begin_date=20180120&end_date=20190120&page=45&api-key=q9G4oWuPHcFvBfj0rkOMyGfqgL0AOEyH\n",
      "https://api.nytimes.com/svc/search/v2/articlesearch.json?q=U.S.-China relations&begin_date=20180120&end_date=20190120&page=46&api-key=q9G4oWuPHcFvBfj0rkOMyGfqgL0AOEyH\n",
      "https://api.nytimes.com/svc/search/v2/articlesearch.json?q=U.S.-China relations&begin_date=20180120&end_date=20190120&page=47&api-key=q9G4oWuPHcFvBfj0rkOMyGfqgL0AOEyH\n",
      "https://api.nytimes.com/svc/search/v2/articlesearch.json?q=U.S.-China relations&begin_date=20180120&end_date=20190120&page=48&api-key=q9G4oWuPHcFvBfj0rkOMyGfqgL0AOEyH\n",
      "https://api.nytimes.com/svc/search/v2/articlesearch.json?q=U.S.-China relations&begin_date=20180120&end_date=20190120&page=49&api-key=q9G4oWuPHcFvBfj0rkOMyGfqgL0AOEyH\n",
      "https://api.nytimes.com/svc/search/v2/articlesearch.json?q=U.S.-China relations&begin_date=20180120&end_date=20190120&page=50&api-key=q9G4oWuPHcFvBfj0rkOMyGfqgL0AOEyH\n"
     ]
    }
   ],
   "source": [
    "def search_nyt_articles(my_api_key, keyword, max_pages, begin_date=\"20180120\", end_date=\"20190120\"):\n",
    "    docs = []\n",
    "\n",
    "    for i in range(max_pages):\n",
    "        api = f\"https://api.nytimes.com/svc/search/v2/articlesearch.json?q={keyword}&begin_date={begin_date}&end_date={end_date}&page={i+1}&api-key={my_api_key}\"\n",
    "        print(api)\n",
    "        response = requests.get(api)\n",
    "        data = response.json()\n",
    "        try:\n",
    "            docs.extend(data['response']['docs'])\n",
    "        except KeyError:\n",
    "            return docs\n",
    "        time.sleep(12)\n",
    "\n",
    "    return docs\n",
    "\n",
    "articles = search_nyt_articles(my_api_key, keyword='U.S.-China relations', max_pages=50)"
   ]
  },
  {
   "cell_type": "code",
   "execution_count": 42,
   "id": "6aab2d51",
   "metadata": {},
   "outputs": [],
   "source": [
    "def consolidate_corpus(articles):\n",
    "    docs = []\n",
    "    for article in articles:\n",
    "        lead_paragraph = article.get('lead_paragraph')\n",
    "        docs.append([article['headline']['main'], lead_paragraph, article['pub_date']])\n",
    "        corpus_10 = pd.DataFrame(docs, columns=['headline', 'lead_paragraph', 'date'])\n",
    "    return corpus_10\n",
    "\n",
    "corpus_10 = consolidate_corpus(articles)\n",
    "\n",
    "corpus_10 ['date'] = pd.to_datetime(corpus_10['date'])\n",
    "\n",
    "corpus_10  = corpus_10.sort_values(by='date')\n",
    "\n",
    "corpus_10.to_csv('corpus_10.csv', index=False)"
   ]
  },
  {
   "cell_type": "markdown",
   "id": "f8c6a5e6",
   "metadata": {},
   "source": [
    "# 2019 - 2020"
   ]
  },
  {
   "cell_type": "code",
   "execution_count": 43,
   "id": "655e3229",
   "metadata": {},
   "outputs": [
    {
     "name": "stdout",
     "output_type": "stream",
     "text": [
      "https://api.nytimes.com/svc/search/v2/articlesearch.json?fq=U.S.-China relations&begin_date=20190120&end_date=20200120&api-key=q9G4oWuPHcFvBfj0rkOMyGfqgL0AOEyH\n",
      "11802\n"
     ]
    }
   ],
   "source": [
    "def number_of_articles(api_key, keyword, begin_date=\"20190120\", end_date=\"20200120\"):\n",
    "    url_query = f\"https://api.nytimes.com/svc/search/v2/articlesearch.json?fq={keyword}&begin_date={begin_date}&end_date={end_date}&api-key={api_key}\"\n",
    "    print(url_query)\n",
    "    res = requests.get(url_query)\n",
    "    json_res = res.json()\n",
    "    hits = json_res[\"response\"][\"meta\"][\"hits\"]\n",
    "    return hits\n",
    "\n",
    "print(number_of_articles(api_key=my_api_key, keyword='U.S.-China relations'))"
   ]
  },
  {
   "cell_type": "code",
   "execution_count": 44,
   "id": "2b3d75d7",
   "metadata": {},
   "outputs": [
    {
     "name": "stdout",
     "output_type": "stream",
     "text": [
      "https://api.nytimes.com/svc/search/v2/articlesearch.json?q=U.S.-China relations&begin_date=20190120&end_date=20200120&page=1&api-key=q9G4oWuPHcFvBfj0rkOMyGfqgL0AOEyH\n",
      "https://api.nytimes.com/svc/search/v2/articlesearch.json?q=U.S.-China relations&begin_date=20190120&end_date=20200120&page=2&api-key=q9G4oWuPHcFvBfj0rkOMyGfqgL0AOEyH\n",
      "https://api.nytimes.com/svc/search/v2/articlesearch.json?q=U.S.-China relations&begin_date=20190120&end_date=20200120&page=3&api-key=q9G4oWuPHcFvBfj0rkOMyGfqgL0AOEyH\n",
      "https://api.nytimes.com/svc/search/v2/articlesearch.json?q=U.S.-China relations&begin_date=20190120&end_date=20200120&page=4&api-key=q9G4oWuPHcFvBfj0rkOMyGfqgL0AOEyH\n",
      "https://api.nytimes.com/svc/search/v2/articlesearch.json?q=U.S.-China relations&begin_date=20190120&end_date=20200120&page=5&api-key=q9G4oWuPHcFvBfj0rkOMyGfqgL0AOEyH\n",
      "https://api.nytimes.com/svc/search/v2/articlesearch.json?q=U.S.-China relations&begin_date=20190120&end_date=20200120&page=6&api-key=q9G4oWuPHcFvBfj0rkOMyGfqgL0AOEyH\n",
      "https://api.nytimes.com/svc/search/v2/articlesearch.json?q=U.S.-China relations&begin_date=20190120&end_date=20200120&page=7&api-key=q9G4oWuPHcFvBfj0rkOMyGfqgL0AOEyH\n",
      "https://api.nytimes.com/svc/search/v2/articlesearch.json?q=U.S.-China relations&begin_date=20190120&end_date=20200120&page=8&api-key=q9G4oWuPHcFvBfj0rkOMyGfqgL0AOEyH\n",
      "https://api.nytimes.com/svc/search/v2/articlesearch.json?q=U.S.-China relations&begin_date=20190120&end_date=20200120&page=9&api-key=q9G4oWuPHcFvBfj0rkOMyGfqgL0AOEyH\n",
      "https://api.nytimes.com/svc/search/v2/articlesearch.json?q=U.S.-China relations&begin_date=20190120&end_date=20200120&page=10&api-key=q9G4oWuPHcFvBfj0rkOMyGfqgL0AOEyH\n",
      "https://api.nytimes.com/svc/search/v2/articlesearch.json?q=U.S.-China relations&begin_date=20190120&end_date=20200120&page=11&api-key=q9G4oWuPHcFvBfj0rkOMyGfqgL0AOEyH\n",
      "https://api.nytimes.com/svc/search/v2/articlesearch.json?q=U.S.-China relations&begin_date=20190120&end_date=20200120&page=12&api-key=q9G4oWuPHcFvBfj0rkOMyGfqgL0AOEyH\n",
      "https://api.nytimes.com/svc/search/v2/articlesearch.json?q=U.S.-China relations&begin_date=20190120&end_date=20200120&page=13&api-key=q9G4oWuPHcFvBfj0rkOMyGfqgL0AOEyH\n",
      "https://api.nytimes.com/svc/search/v2/articlesearch.json?q=U.S.-China relations&begin_date=20190120&end_date=20200120&page=14&api-key=q9G4oWuPHcFvBfj0rkOMyGfqgL0AOEyH\n",
      "https://api.nytimes.com/svc/search/v2/articlesearch.json?q=U.S.-China relations&begin_date=20190120&end_date=20200120&page=15&api-key=q9G4oWuPHcFvBfj0rkOMyGfqgL0AOEyH\n",
      "https://api.nytimes.com/svc/search/v2/articlesearch.json?q=U.S.-China relations&begin_date=20190120&end_date=20200120&page=16&api-key=q9G4oWuPHcFvBfj0rkOMyGfqgL0AOEyH\n",
      "https://api.nytimes.com/svc/search/v2/articlesearch.json?q=U.S.-China relations&begin_date=20190120&end_date=20200120&page=17&api-key=q9G4oWuPHcFvBfj0rkOMyGfqgL0AOEyH\n",
      "https://api.nytimes.com/svc/search/v2/articlesearch.json?q=U.S.-China relations&begin_date=20190120&end_date=20200120&page=18&api-key=q9G4oWuPHcFvBfj0rkOMyGfqgL0AOEyH\n",
      "https://api.nytimes.com/svc/search/v2/articlesearch.json?q=U.S.-China relations&begin_date=20190120&end_date=20200120&page=19&api-key=q9G4oWuPHcFvBfj0rkOMyGfqgL0AOEyH\n",
      "https://api.nytimes.com/svc/search/v2/articlesearch.json?q=U.S.-China relations&begin_date=20190120&end_date=20200120&page=20&api-key=q9G4oWuPHcFvBfj0rkOMyGfqgL0AOEyH\n",
      "https://api.nytimes.com/svc/search/v2/articlesearch.json?q=U.S.-China relations&begin_date=20190120&end_date=20200120&page=21&api-key=q9G4oWuPHcFvBfj0rkOMyGfqgL0AOEyH\n",
      "https://api.nytimes.com/svc/search/v2/articlesearch.json?q=U.S.-China relations&begin_date=20190120&end_date=20200120&page=22&api-key=q9G4oWuPHcFvBfj0rkOMyGfqgL0AOEyH\n",
      "https://api.nytimes.com/svc/search/v2/articlesearch.json?q=U.S.-China relations&begin_date=20190120&end_date=20200120&page=23&api-key=q9G4oWuPHcFvBfj0rkOMyGfqgL0AOEyH\n",
      "https://api.nytimes.com/svc/search/v2/articlesearch.json?q=U.S.-China relations&begin_date=20190120&end_date=20200120&page=24&api-key=q9G4oWuPHcFvBfj0rkOMyGfqgL0AOEyH\n",
      "https://api.nytimes.com/svc/search/v2/articlesearch.json?q=U.S.-China relations&begin_date=20190120&end_date=20200120&page=25&api-key=q9G4oWuPHcFvBfj0rkOMyGfqgL0AOEyH\n",
      "https://api.nytimes.com/svc/search/v2/articlesearch.json?q=U.S.-China relations&begin_date=20190120&end_date=20200120&page=26&api-key=q9G4oWuPHcFvBfj0rkOMyGfqgL0AOEyH\n",
      "https://api.nytimes.com/svc/search/v2/articlesearch.json?q=U.S.-China relations&begin_date=20190120&end_date=20200120&page=27&api-key=q9G4oWuPHcFvBfj0rkOMyGfqgL0AOEyH\n",
      "https://api.nytimes.com/svc/search/v2/articlesearch.json?q=U.S.-China relations&begin_date=20190120&end_date=20200120&page=28&api-key=q9G4oWuPHcFvBfj0rkOMyGfqgL0AOEyH\n",
      "https://api.nytimes.com/svc/search/v2/articlesearch.json?q=U.S.-China relations&begin_date=20190120&end_date=20200120&page=29&api-key=q9G4oWuPHcFvBfj0rkOMyGfqgL0AOEyH\n",
      "https://api.nytimes.com/svc/search/v2/articlesearch.json?q=U.S.-China relations&begin_date=20190120&end_date=20200120&page=30&api-key=q9G4oWuPHcFvBfj0rkOMyGfqgL0AOEyH\n",
      "https://api.nytimes.com/svc/search/v2/articlesearch.json?q=U.S.-China relations&begin_date=20190120&end_date=20200120&page=31&api-key=q9G4oWuPHcFvBfj0rkOMyGfqgL0AOEyH\n",
      "https://api.nytimes.com/svc/search/v2/articlesearch.json?q=U.S.-China relations&begin_date=20190120&end_date=20200120&page=32&api-key=q9G4oWuPHcFvBfj0rkOMyGfqgL0AOEyH\n",
      "https://api.nytimes.com/svc/search/v2/articlesearch.json?q=U.S.-China relations&begin_date=20190120&end_date=20200120&page=33&api-key=q9G4oWuPHcFvBfj0rkOMyGfqgL0AOEyH\n",
      "https://api.nytimes.com/svc/search/v2/articlesearch.json?q=U.S.-China relations&begin_date=20190120&end_date=20200120&page=34&api-key=q9G4oWuPHcFvBfj0rkOMyGfqgL0AOEyH\n",
      "https://api.nytimes.com/svc/search/v2/articlesearch.json?q=U.S.-China relations&begin_date=20190120&end_date=20200120&page=35&api-key=q9G4oWuPHcFvBfj0rkOMyGfqgL0AOEyH\n",
      "https://api.nytimes.com/svc/search/v2/articlesearch.json?q=U.S.-China relations&begin_date=20190120&end_date=20200120&page=36&api-key=q9G4oWuPHcFvBfj0rkOMyGfqgL0AOEyH\n",
      "https://api.nytimes.com/svc/search/v2/articlesearch.json?q=U.S.-China relations&begin_date=20190120&end_date=20200120&page=37&api-key=q9G4oWuPHcFvBfj0rkOMyGfqgL0AOEyH\n",
      "https://api.nytimes.com/svc/search/v2/articlesearch.json?q=U.S.-China relations&begin_date=20190120&end_date=20200120&page=38&api-key=q9G4oWuPHcFvBfj0rkOMyGfqgL0AOEyH\n",
      "https://api.nytimes.com/svc/search/v2/articlesearch.json?q=U.S.-China relations&begin_date=20190120&end_date=20200120&page=39&api-key=q9G4oWuPHcFvBfj0rkOMyGfqgL0AOEyH\n",
      "https://api.nytimes.com/svc/search/v2/articlesearch.json?q=U.S.-China relations&begin_date=20190120&end_date=20200120&page=40&api-key=q9G4oWuPHcFvBfj0rkOMyGfqgL0AOEyH\n",
      "https://api.nytimes.com/svc/search/v2/articlesearch.json?q=U.S.-China relations&begin_date=20190120&end_date=20200120&page=41&api-key=q9G4oWuPHcFvBfj0rkOMyGfqgL0AOEyH\n",
      "https://api.nytimes.com/svc/search/v2/articlesearch.json?q=U.S.-China relations&begin_date=20190120&end_date=20200120&page=42&api-key=q9G4oWuPHcFvBfj0rkOMyGfqgL0AOEyH\n",
      "https://api.nytimes.com/svc/search/v2/articlesearch.json?q=U.S.-China relations&begin_date=20190120&end_date=20200120&page=43&api-key=q9G4oWuPHcFvBfj0rkOMyGfqgL0AOEyH\n",
      "https://api.nytimes.com/svc/search/v2/articlesearch.json?q=U.S.-China relations&begin_date=20190120&end_date=20200120&page=44&api-key=q9G4oWuPHcFvBfj0rkOMyGfqgL0AOEyH\n",
      "https://api.nytimes.com/svc/search/v2/articlesearch.json?q=U.S.-China relations&begin_date=20190120&end_date=20200120&page=45&api-key=q9G4oWuPHcFvBfj0rkOMyGfqgL0AOEyH\n",
      "https://api.nytimes.com/svc/search/v2/articlesearch.json?q=U.S.-China relations&begin_date=20190120&end_date=20200120&page=46&api-key=q9G4oWuPHcFvBfj0rkOMyGfqgL0AOEyH\n",
      "https://api.nytimes.com/svc/search/v2/articlesearch.json?q=U.S.-China relations&begin_date=20190120&end_date=20200120&page=47&api-key=q9G4oWuPHcFvBfj0rkOMyGfqgL0AOEyH\n",
      "https://api.nytimes.com/svc/search/v2/articlesearch.json?q=U.S.-China relations&begin_date=20190120&end_date=20200120&page=48&api-key=q9G4oWuPHcFvBfj0rkOMyGfqgL0AOEyH\n",
      "https://api.nytimes.com/svc/search/v2/articlesearch.json?q=U.S.-China relations&begin_date=20190120&end_date=20200120&page=49&api-key=q9G4oWuPHcFvBfj0rkOMyGfqgL0AOEyH\n",
      "https://api.nytimes.com/svc/search/v2/articlesearch.json?q=U.S.-China relations&begin_date=20190120&end_date=20200120&page=50&api-key=q9G4oWuPHcFvBfj0rkOMyGfqgL0AOEyH\n"
     ]
    }
   ],
   "source": [
    "def search_nyt_articles(my_api_key, keyword, max_pages, begin_date=\"20190120\", end_date=\"20200120\"):\n",
    "    docs = []\n",
    "\n",
    "    for i in range(max_pages):\n",
    "        api = f\"https://api.nytimes.com/svc/search/v2/articlesearch.json?q={keyword}&begin_date={begin_date}&end_date={end_date}&page={i+1}&api-key={my_api_key}\"\n",
    "        print(api)\n",
    "        response = requests.get(api)\n",
    "        data = response.json()\n",
    "        try:\n",
    "            docs.extend(data['response']['docs'])\n",
    "        except KeyError:\n",
    "            return docs\n",
    "        time.sleep(12)\n",
    "\n",
    "    return docs\n",
    "\n",
    "articles = search_nyt_articles(my_api_key, keyword='U.S.-China relations', max_pages=50)"
   ]
  },
  {
   "cell_type": "code",
   "execution_count": 45,
   "id": "77d6c3ec",
   "metadata": {},
   "outputs": [],
   "source": [
    "def consolidate_corpus(articles):\n",
    "    docs = []\n",
    "    for article in articles:\n",
    "        lead_paragraph = article.get('lead_paragraph')\n",
    "        docs.append([article['headline']['main'], lead_paragraph, article['pub_date']])\n",
    "        corpus_11 = pd.DataFrame(docs, columns=['headline', 'lead_paragraph', 'date'])\n",
    "    return corpus_11\n",
    "\n",
    "corpus_11 = consolidate_corpus(articles)\n",
    "\n",
    "corpus_11 ['date'] = pd.to_datetime(corpus_11['date'])\n",
    "\n",
    "corpus_11  = corpus_11.sort_values(by='date')\n",
    "\n",
    "corpus_11.to_csv('corpus_11.csv', index=False)"
   ]
  },
  {
   "cell_type": "markdown",
   "id": "2dcf1d7f",
   "metadata": {},
   "source": [
    "# 2020 -2021"
   ]
  },
  {
   "cell_type": "code",
   "execution_count": 46,
   "id": "1ff21864",
   "metadata": {},
   "outputs": [
    {
     "name": "stdout",
     "output_type": "stream",
     "text": [
      "https://api.nytimes.com/svc/search/v2/articlesearch.json?fq=U.S.-China relations&begin_date=20200120&end_date=20210120&api-key=q9G4oWuPHcFvBfj0rkOMyGfqgL0AOEyH\n",
      "16212\n"
     ]
    }
   ],
   "source": [
    "def number_of_articles(api_key, keyword, begin_date=\"20200120\", end_date=\"20210120\"):\n",
    "    url_query = f\"https://api.nytimes.com/svc/search/v2/articlesearch.json?fq={keyword}&begin_date={begin_date}&end_date={end_date}&api-key={api_key}\"\n",
    "    print(url_query)\n",
    "    res = requests.get(url_query)\n",
    "    json_res = res.json()\n",
    "    hits = json_res[\"response\"][\"meta\"][\"hits\"]\n",
    "    return hits\n",
    "\n",
    "print(number_of_articles(api_key=my_api_key, keyword='U.S.-China relations'))"
   ]
  },
  {
   "cell_type": "code",
   "execution_count": 47,
   "id": "b5528eee",
   "metadata": {},
   "outputs": [
    {
     "name": "stdout",
     "output_type": "stream",
     "text": [
      "https://api.nytimes.com/svc/search/v2/articlesearch.json?q=U.S.-China relations&begin_date=20200120&end_date=20210120&page=1&api-key=q9G4oWuPHcFvBfj0rkOMyGfqgL0AOEyH\n",
      "https://api.nytimes.com/svc/search/v2/articlesearch.json?q=U.S.-China relations&begin_date=20200120&end_date=20210120&page=2&api-key=q9G4oWuPHcFvBfj0rkOMyGfqgL0AOEyH\n",
      "https://api.nytimes.com/svc/search/v2/articlesearch.json?q=U.S.-China relations&begin_date=20200120&end_date=20210120&page=3&api-key=q9G4oWuPHcFvBfj0rkOMyGfqgL0AOEyH\n",
      "https://api.nytimes.com/svc/search/v2/articlesearch.json?q=U.S.-China relations&begin_date=20200120&end_date=20210120&page=4&api-key=q9G4oWuPHcFvBfj0rkOMyGfqgL0AOEyH\n",
      "https://api.nytimes.com/svc/search/v2/articlesearch.json?q=U.S.-China relations&begin_date=20200120&end_date=20210120&page=5&api-key=q9G4oWuPHcFvBfj0rkOMyGfqgL0AOEyH\n",
      "https://api.nytimes.com/svc/search/v2/articlesearch.json?q=U.S.-China relations&begin_date=20200120&end_date=20210120&page=6&api-key=q9G4oWuPHcFvBfj0rkOMyGfqgL0AOEyH\n",
      "https://api.nytimes.com/svc/search/v2/articlesearch.json?q=U.S.-China relations&begin_date=20200120&end_date=20210120&page=7&api-key=q9G4oWuPHcFvBfj0rkOMyGfqgL0AOEyH\n",
      "https://api.nytimes.com/svc/search/v2/articlesearch.json?q=U.S.-China relations&begin_date=20200120&end_date=20210120&page=8&api-key=q9G4oWuPHcFvBfj0rkOMyGfqgL0AOEyH\n",
      "https://api.nytimes.com/svc/search/v2/articlesearch.json?q=U.S.-China relations&begin_date=20200120&end_date=20210120&page=9&api-key=q9G4oWuPHcFvBfj0rkOMyGfqgL0AOEyH\n",
      "https://api.nytimes.com/svc/search/v2/articlesearch.json?q=U.S.-China relations&begin_date=20200120&end_date=20210120&page=10&api-key=q9G4oWuPHcFvBfj0rkOMyGfqgL0AOEyH\n",
      "https://api.nytimes.com/svc/search/v2/articlesearch.json?q=U.S.-China relations&begin_date=20200120&end_date=20210120&page=11&api-key=q9G4oWuPHcFvBfj0rkOMyGfqgL0AOEyH\n",
      "https://api.nytimes.com/svc/search/v2/articlesearch.json?q=U.S.-China relations&begin_date=20200120&end_date=20210120&page=12&api-key=q9G4oWuPHcFvBfj0rkOMyGfqgL0AOEyH\n",
      "https://api.nytimes.com/svc/search/v2/articlesearch.json?q=U.S.-China relations&begin_date=20200120&end_date=20210120&page=13&api-key=q9G4oWuPHcFvBfj0rkOMyGfqgL0AOEyH\n",
      "https://api.nytimes.com/svc/search/v2/articlesearch.json?q=U.S.-China relations&begin_date=20200120&end_date=20210120&page=14&api-key=q9G4oWuPHcFvBfj0rkOMyGfqgL0AOEyH\n",
      "https://api.nytimes.com/svc/search/v2/articlesearch.json?q=U.S.-China relations&begin_date=20200120&end_date=20210120&page=15&api-key=q9G4oWuPHcFvBfj0rkOMyGfqgL0AOEyH\n",
      "https://api.nytimes.com/svc/search/v2/articlesearch.json?q=U.S.-China relations&begin_date=20200120&end_date=20210120&page=16&api-key=q9G4oWuPHcFvBfj0rkOMyGfqgL0AOEyH\n",
      "https://api.nytimes.com/svc/search/v2/articlesearch.json?q=U.S.-China relations&begin_date=20200120&end_date=20210120&page=17&api-key=q9G4oWuPHcFvBfj0rkOMyGfqgL0AOEyH\n",
      "https://api.nytimes.com/svc/search/v2/articlesearch.json?q=U.S.-China relations&begin_date=20200120&end_date=20210120&page=18&api-key=q9G4oWuPHcFvBfj0rkOMyGfqgL0AOEyH\n",
      "https://api.nytimes.com/svc/search/v2/articlesearch.json?q=U.S.-China relations&begin_date=20200120&end_date=20210120&page=19&api-key=q9G4oWuPHcFvBfj0rkOMyGfqgL0AOEyH\n",
      "https://api.nytimes.com/svc/search/v2/articlesearch.json?q=U.S.-China relations&begin_date=20200120&end_date=20210120&page=20&api-key=q9G4oWuPHcFvBfj0rkOMyGfqgL0AOEyH\n",
      "https://api.nytimes.com/svc/search/v2/articlesearch.json?q=U.S.-China relations&begin_date=20200120&end_date=20210120&page=21&api-key=q9G4oWuPHcFvBfj0rkOMyGfqgL0AOEyH\n",
      "https://api.nytimes.com/svc/search/v2/articlesearch.json?q=U.S.-China relations&begin_date=20200120&end_date=20210120&page=22&api-key=q9G4oWuPHcFvBfj0rkOMyGfqgL0AOEyH\n",
      "https://api.nytimes.com/svc/search/v2/articlesearch.json?q=U.S.-China relations&begin_date=20200120&end_date=20210120&page=23&api-key=q9G4oWuPHcFvBfj0rkOMyGfqgL0AOEyH\n",
      "https://api.nytimes.com/svc/search/v2/articlesearch.json?q=U.S.-China relations&begin_date=20200120&end_date=20210120&page=24&api-key=q9G4oWuPHcFvBfj0rkOMyGfqgL0AOEyH\n",
      "https://api.nytimes.com/svc/search/v2/articlesearch.json?q=U.S.-China relations&begin_date=20200120&end_date=20210120&page=25&api-key=q9G4oWuPHcFvBfj0rkOMyGfqgL0AOEyH\n",
      "https://api.nytimes.com/svc/search/v2/articlesearch.json?q=U.S.-China relations&begin_date=20200120&end_date=20210120&page=26&api-key=q9G4oWuPHcFvBfj0rkOMyGfqgL0AOEyH\n",
      "https://api.nytimes.com/svc/search/v2/articlesearch.json?q=U.S.-China relations&begin_date=20200120&end_date=20210120&page=27&api-key=q9G4oWuPHcFvBfj0rkOMyGfqgL0AOEyH\n",
      "https://api.nytimes.com/svc/search/v2/articlesearch.json?q=U.S.-China relations&begin_date=20200120&end_date=20210120&page=28&api-key=q9G4oWuPHcFvBfj0rkOMyGfqgL0AOEyH\n",
      "https://api.nytimes.com/svc/search/v2/articlesearch.json?q=U.S.-China relations&begin_date=20200120&end_date=20210120&page=29&api-key=q9G4oWuPHcFvBfj0rkOMyGfqgL0AOEyH\n",
      "https://api.nytimes.com/svc/search/v2/articlesearch.json?q=U.S.-China relations&begin_date=20200120&end_date=20210120&page=30&api-key=q9G4oWuPHcFvBfj0rkOMyGfqgL0AOEyH\n",
      "https://api.nytimes.com/svc/search/v2/articlesearch.json?q=U.S.-China relations&begin_date=20200120&end_date=20210120&page=31&api-key=q9G4oWuPHcFvBfj0rkOMyGfqgL0AOEyH\n",
      "https://api.nytimes.com/svc/search/v2/articlesearch.json?q=U.S.-China relations&begin_date=20200120&end_date=20210120&page=32&api-key=q9G4oWuPHcFvBfj0rkOMyGfqgL0AOEyH\n",
      "https://api.nytimes.com/svc/search/v2/articlesearch.json?q=U.S.-China relations&begin_date=20200120&end_date=20210120&page=33&api-key=q9G4oWuPHcFvBfj0rkOMyGfqgL0AOEyH\n",
      "https://api.nytimes.com/svc/search/v2/articlesearch.json?q=U.S.-China relations&begin_date=20200120&end_date=20210120&page=34&api-key=q9G4oWuPHcFvBfj0rkOMyGfqgL0AOEyH\n",
      "https://api.nytimes.com/svc/search/v2/articlesearch.json?q=U.S.-China relations&begin_date=20200120&end_date=20210120&page=35&api-key=q9G4oWuPHcFvBfj0rkOMyGfqgL0AOEyH\n",
      "https://api.nytimes.com/svc/search/v2/articlesearch.json?q=U.S.-China relations&begin_date=20200120&end_date=20210120&page=36&api-key=q9G4oWuPHcFvBfj0rkOMyGfqgL0AOEyH\n",
      "https://api.nytimes.com/svc/search/v2/articlesearch.json?q=U.S.-China relations&begin_date=20200120&end_date=20210120&page=37&api-key=q9G4oWuPHcFvBfj0rkOMyGfqgL0AOEyH\n"
     ]
    }
   ],
   "source": [
    "def search_nyt_articles(my_api_key, keyword, max_pages, begin_date=\"20200120\", end_date=\"20210120\"):\n",
    "    docs = []\n",
    "\n",
    "    for i in range(max_pages):\n",
    "        api = f\"https://api.nytimes.com/svc/search/v2/articlesearch.json?q={keyword}&begin_date={begin_date}&end_date={end_date}&page={i+1}&api-key={my_api_key}\"\n",
    "        print(api)\n",
    "        response = requests.get(api)\n",
    "        data = response.json()\n",
    "        try:\n",
    "            docs.extend(data['response']['docs'])\n",
    "        except KeyError:\n",
    "            return docs\n",
    "        time.sleep(12)\n",
    "\n",
    "    return docs\n",
    "\n",
    "articles = search_nyt_articles(my_api_key, keyword='U.S.-China relations', max_pages=50)"
   ]
  },
  {
   "cell_type": "code",
   "execution_count": 48,
   "id": "4cc65b71",
   "metadata": {},
   "outputs": [],
   "source": [
    "def consolidate_corpus(articles):\n",
    "    docs = []\n",
    "    for article in articles:\n",
    "        lead_paragraph = article.get('lead_paragraph')\n",
    "        docs.append([article['headline']['main'], lead_paragraph, article['pub_date']])\n",
    "        corpus_12 = pd.DataFrame(docs, columns=['headline', 'lead_paragraph', 'date'])\n",
    "    return corpus_12\n",
    "\n",
    "corpus_12 = consolidate_corpus(articles)\n",
    "\n",
    "corpus_12 ['date'] = pd.to_datetime(corpus_12['date'])\n",
    "\n",
    "corpus_12  = corpus_12.sort_values(by='date')\n",
    "\n",
    "corpus_12.to_csv('corpus_12.csv', index=False)"
   ]
  },
  {
   "cell_type": "markdown",
   "id": "1ddf0083",
   "metadata": {},
   "source": [
    "# Create final dataframe df"
   ]
  },
  {
   "cell_type": "code",
   "execution_count": 49,
   "id": "027da7fa",
   "metadata": {},
   "outputs": [],
   "source": [
    "df1 = pd.read_csv(\"/Users/defneulusoy/Desktop/Python Code/final_project/corpus_1.csv\")"
   ]
  },
  {
   "cell_type": "code",
   "execution_count": 50,
   "id": "3a168891",
   "metadata": {},
   "outputs": [],
   "source": [
    "df2 = pd.read_csv(\"/Users/defneulusoy/Desktop/Python Code/final_project/corpus_2.csv\")"
   ]
  },
  {
   "cell_type": "code",
   "execution_count": 51,
   "id": "dbfaf17a",
   "metadata": {},
   "outputs": [],
   "source": [
    "df3 = pd.read_csv(\"/Users/defneulusoy/Desktop/Python Code/final_project/corpus_3.csv\")"
   ]
  },
  {
   "cell_type": "code",
   "execution_count": 52,
   "id": "c8cf2fc2",
   "metadata": {},
   "outputs": [],
   "source": [
    "df4 = pd.read_csv(\"/Users/defneulusoy/Desktop/Python Code/final_project/corpus_4.csv\")"
   ]
  },
  {
   "cell_type": "code",
   "execution_count": 53,
   "id": "b6b1ab48",
   "metadata": {},
   "outputs": [],
   "source": [
    "df5 = pd.read_csv(\"/Users/defneulusoy/Desktop/Python Code/final_project/corpus_5.csv\")"
   ]
  },
  {
   "cell_type": "code",
   "execution_count": 54,
   "id": "435141e9",
   "metadata": {},
   "outputs": [],
   "source": [
    "df6 = pd.read_csv(\"/Users/defneulusoy/Desktop/Python Code/final_project/corpus_6.csv\")"
   ]
  },
  {
   "cell_type": "code",
   "execution_count": 55,
   "id": "30c395e4",
   "metadata": {},
   "outputs": [],
   "source": [
    "df7 = pd.read_csv(\"/Users/defneulusoy/Desktop/Python Code/final_project/corpus_7.csv\")"
   ]
  },
  {
   "cell_type": "code",
   "execution_count": 56,
   "id": "39bdf595",
   "metadata": {},
   "outputs": [],
   "source": [
    "df8 = pd.read_csv(\"/Users/defneulusoy/Desktop/Python Code/final_project/corpus_8.csv\")"
   ]
  },
  {
   "cell_type": "code",
   "execution_count": 57,
   "id": "b1469166",
   "metadata": {},
   "outputs": [],
   "source": [
    "df9 = pd.read_csv(\"/Users/defneulusoy/Desktop/Python Code/final_project/corpus_9.csv\")"
   ]
  },
  {
   "cell_type": "code",
   "execution_count": 58,
   "id": "1db3b5d9",
   "metadata": {},
   "outputs": [],
   "source": [
    "df10 = pd.read_csv(\"/Users/defneulusoy/Desktop/Python Code/final_project/corpus_10.csv\")"
   ]
  },
  {
   "cell_type": "code",
   "execution_count": 59,
   "id": "aa177883",
   "metadata": {},
   "outputs": [],
   "source": [
    "df11 = pd.read_csv(\"/Users/defneulusoy/Desktop/Python Code/final_project/corpus_11.csv\")"
   ]
  },
  {
   "cell_type": "code",
   "execution_count": 60,
   "id": "6d3f7328",
   "metadata": {},
   "outputs": [],
   "source": [
    "df12 = pd.read_csv(\"/Users/defneulusoy/Desktop/Python Code/final_project/corpus_12.csv\")"
   ]
  },
  {
   "cell_type": "code",
   "execution_count": 61,
   "id": "beb6bd8b",
   "metadata": {},
   "outputs": [],
   "source": [
    "df = pd.concat([df1, df2, df3, df4, df5, df6, df7, df8, df9, df10, df11, df12], ignore_index=True)"
   ]
  },
  {
   "cell_type": "code",
   "execution_count": 62,
   "id": "45daa039",
   "metadata": {},
   "outputs": [
    {
     "data": {
      "text/plain": [
       "4790"
      ]
     },
     "execution_count": 62,
     "metadata": {},
     "output_type": "execute_result"
    }
   ],
   "source": [
    "len(df)"
   ]
  },
  {
   "cell_type": "code",
   "execution_count": 63,
   "id": "b6454280",
   "metadata": {
    "scrolled": true
   },
   "outputs": [
    {
     "data": {
      "text/html": [
       "<div>\n",
       "<style scoped>\n",
       "    .dataframe tbody tr th:only-of-type {\n",
       "        vertical-align: middle;\n",
       "    }\n",
       "\n",
       "    .dataframe tbody tr th {\n",
       "        vertical-align: top;\n",
       "    }\n",
       "\n",
       "    .dataframe thead th {\n",
       "        text-align: right;\n",
       "    }\n",
       "</style>\n",
       "<table border=\"1\" class=\"dataframe\">\n",
       "  <thead>\n",
       "    <tr style=\"text-align: right;\">\n",
       "      <th></th>\n",
       "      <th>headline</th>\n",
       "      <th>lead_paragraph</th>\n",
       "      <th>date</th>\n",
       "    </tr>\n",
       "  </thead>\n",
       "  <tbody>\n",
       "    <tr>\n",
       "      <th>0</th>\n",
       "      <td>China hardens rhetoric on Tibet, Taiwan and U.S.</td>\n",
       "      <td>BEIJING — The Chinese government announced Tue...</td>\n",
       "      <td>2009-01-20 05:00:00+00:00</td>\n",
       "    </tr>\n",
       "    <tr>\n",
       "      <th>1</th>\n",
       "      <td>China sees threats from separatists and U.S. a...</td>\n",
       "      <td>BEIJING — The Chinese government announced Tue...</td>\n",
       "      <td>2009-01-20 05:00:00+00:00</td>\n",
       "    </tr>\n",
       "    <tr>\n",
       "      <th>2</th>\n",
       "      <td>China Sees Separatist Threats</td>\n",
       "      <td>BEIJING  China said Tuesday that it faces thr...</td>\n",
       "      <td>2009-01-20 11:33:57+00:00</td>\n",
       "    </tr>\n",
       "    <tr>\n",
       "      <th>3</th>\n",
       "      <td>Europe's divisions show through as it welcomes...</td>\n",
       "      <td>BRUSSELS — Since well before the inauguration ...</td>\n",
       "      <td>2009-01-21 05:00:00+00:00</td>\n",
       "    </tr>\n",
       "    <tr>\n",
       "      <th>4</th>\n",
       "      <td>Obama clings to his BlackBerry</td>\n",
       "      <td>WASHINGTON — President Barack Obama has overru...</td>\n",
       "      <td>2009-01-22 05:00:00+00:00</td>\n",
       "    </tr>\n",
       "    <tr>\n",
       "      <th>...</th>\n",
       "      <td>...</td>\n",
       "      <td>...</td>\n",
       "      <td>...</td>\n",
       "    </tr>\n",
       "    <tr>\n",
       "      <th>4785</th>\n",
       "      <td>The U.S. calls China’s repression of the Uighu...</td>\n",
       "      <td>The State Department declared on Tuesday that ...</td>\n",
       "      <td>2021-01-19 17:35:49+00:00</td>\n",
       "    </tr>\n",
       "    <tr>\n",
       "      <th>4786</th>\n",
       "      <td>Trump Bequeaths Biden an Upended World</td>\n",
       "      <td>PARIS — Most countries lost patience long ago....</td>\n",
       "      <td>2021-01-19 17:36:58+00:00</td>\n",
       "    </tr>\n",
       "    <tr>\n",
       "      <th>4787</th>\n",
       "      <td>In Confirmation Hearings, Biden Aides Indicate...</td>\n",
       "      <td>WASHINGTON — President-elect Joseph R. Biden J...</td>\n",
       "      <td>2021-01-20 00:30:36+00:00</td>\n",
       "    </tr>\n",
       "    <tr>\n",
       "      <th>4788</th>\n",
       "      <td>China’s Oppression of Muslims in Xinjiang, Exp...</td>\n",
       "      <td>On the final full day of the Trump presidency,...</td>\n",
       "      <td>2021-01-20 09:52:02+00:00</td>\n",
       "    </tr>\n",
       "    <tr>\n",
       "      <th>4789</th>\n",
       "      <td>Trump’s Last-Minute Moves Against China Compli...</td>\n",
       "      <td>The Trump administration cast its barrage of m...</td>\n",
       "      <td>2021-01-20 15:46:21+00:00</td>\n",
       "    </tr>\n",
       "  </tbody>\n",
       "</table>\n",
       "<p>4790 rows × 3 columns</p>\n",
       "</div>"
      ],
      "text/plain": [
       "                                               headline  \\\n",
       "0      China hardens rhetoric on Tibet, Taiwan and U.S.   \n",
       "1     China sees threats from separatists and U.S. a...   \n",
       "2                         China Sees Separatist Threats   \n",
       "3     Europe's divisions show through as it welcomes...   \n",
       "4                        Obama clings to his BlackBerry   \n",
       "...                                                 ...   \n",
       "4785  The U.S. calls China’s repression of the Uighu...   \n",
       "4786             Trump Bequeaths Biden an Upended World   \n",
       "4787  In Confirmation Hearings, Biden Aides Indicate...   \n",
       "4788  China’s Oppression of Muslims in Xinjiang, Exp...   \n",
       "4789  Trump’s Last-Minute Moves Against China Compli...   \n",
       "\n",
       "                                         lead_paragraph  \\\n",
       "0     BEIJING — The Chinese government announced Tue...   \n",
       "1     BEIJING — The Chinese government announced Tue...   \n",
       "2     BEIJING  China said Tuesday that it faces thr...   \n",
       "3     BRUSSELS — Since well before the inauguration ...   \n",
       "4     WASHINGTON — President Barack Obama has overru...   \n",
       "...                                                 ...   \n",
       "4785  The State Department declared on Tuesday that ...   \n",
       "4786  PARIS — Most countries lost patience long ago....   \n",
       "4787  WASHINGTON — President-elect Joseph R. Biden J...   \n",
       "4788  On the final full day of the Trump presidency,...   \n",
       "4789  The Trump administration cast its barrage of m...   \n",
       "\n",
       "                           date  \n",
       "0     2009-01-20 05:00:00+00:00  \n",
       "1     2009-01-20 05:00:00+00:00  \n",
       "2     2009-01-20 11:33:57+00:00  \n",
       "3     2009-01-21 05:00:00+00:00  \n",
       "4     2009-01-22 05:00:00+00:00  \n",
       "...                         ...  \n",
       "4785  2021-01-19 17:35:49+00:00  \n",
       "4786  2021-01-19 17:36:58+00:00  \n",
       "4787  2021-01-20 00:30:36+00:00  \n",
       "4788  2021-01-20 09:52:02+00:00  \n",
       "4789  2021-01-20 15:46:21+00:00  \n",
       "\n",
       "[4790 rows x 3 columns]"
      ]
     },
     "execution_count": 63,
     "metadata": {},
     "output_type": "execute_result"
    }
   ],
   "source": [
    "df"
   ]
  },
  {
   "cell_type": "code",
   "execution_count": 64,
   "id": "0286aebe",
   "metadata": {},
   "outputs": [],
   "source": [
    "def consolidate_corpus(articles):\n",
    "    docs = []\n",
    "    for article in articles:\n",
    "        lead_paragraph = article.get('lead_paragraph')\n",
    "        docs.append([article['headline']['main'], lead_paragraph, article['pub_date']])\n",
    "        df = pd.DataFrame(docs, columns=['headline', 'lead_paragraph', 'date'])\n",
    "    return df\n",
    "\n",
    "df = consolidate_corpus(articles)\n",
    "\n",
    "df ['date'] = pd.to_datetime(df['date'])\n",
    "\n",
    "df  = df.sort_values(by='date')\n",
    "\n",
    "df.to_csv('df.csv', index=False)"
   ]
  }
 ],
 "metadata": {
  "kernelspec": {
   "display_name": "Python 3 (ipykernel)",
   "language": "python",
   "name": "python3"
  },
  "language_info": {
   "codemirror_mode": {
    "name": "ipython",
    "version": 3
   },
   "file_extension": ".py",
   "mimetype": "text/x-python",
   "name": "python",
   "nbconvert_exporter": "python",
   "pygments_lexer": "ipython3",
   "version": "3.11.4"
  }
 },
 "nbformat": 4,
 "nbformat_minor": 5
}
