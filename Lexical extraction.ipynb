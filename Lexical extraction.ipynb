{
 "cells": [
  {
   "cell_type": "code",
   "execution_count": 12,
   "id": "a2b73c12",
   "metadata": {},
   "outputs": [],
   "source": [
    "import spacy\n",
    "import pandas as pd\n",
    "\n",
    "import json\n",
    "import spacy\n",
    "import requests\n",
    "import random\n",
    "import time\n",
    "\n",
    "import spacy\n",
    "import tqdm\n",
    "from collections import Counter\n",
    "\n",
    "import gensim\n",
    "import gensim.corpora as corpora\n",
    "from gensim.corpora import Dictionary\n",
    "from gensim.models.coherencemodel import CoherenceModel\n",
    "from gensim.models.ldamodel import LdaModel\n",
    "\n",
    "import pyLDAvis\n",
    "import pyLDAvis.gensim\n",
    "from spacy.lang.en.stop_words import STOP_WORDS"
   ]
  },
  {
   "cell_type": "code",
   "execution_count": 13,
   "id": "dfca45f4",
   "metadata": {},
   "outputs": [],
   "source": [
    "df = pd.read_csv(\"C:/Users/ASUS/Desktop/SciencesPo/Social Media Analysis/final_dataframe_4790_articles.csv\")"
   ]
  },
  {
   "cell_type": "code",
   "execution_count": 14,
   "id": "c20e1db6",
   "metadata": {},
   "outputs": [],
   "source": [
    "df['combined_text'] = df['headline'] + ' ' + df['lead_paragraph']\n",
    "df['combined_text'] = df['combined_text'].astype(str)\n",
    "texts = df['combined_text'].tolist()"
   ]
  },
  {
   "cell_type": "code",
   "execution_count": 15,
   "id": "ef9c6cb1",
   "metadata": {},
   "outputs": [
    {
     "name": "stderr",
     "output_type": "stream",
     "text": [
      "100%|██████████| 4790/4790 [00:51<00:00, 93.60it/s] \n"
     ]
    },
    {
     "name": "stdout",
     "output_type": "stream",
     "text": [
      "[('American', 1088), ('Chinese', 827), ('nuclear', 474), ('new', 466), ('economic', 301), ('foreign', 297), ('military', 292), ('global', 252), ('political', 178), ('Korean', 175)]\n"
     ]
    }
   ],
   "source": [
    "# Print the ten most common adjectives\n",
    "texts = df['combined_text'].tolist()\n",
    "\n",
    "# Load the spaCy model\n",
    "nlp = spacy.load(\"en_core_web_sm\")\n",
    "\n",
    "# Process articles and extract adjectives\n",
    "spacydocs = [nlp(text) for text in tqdm.tqdm(texts)]\n",
    "\n",
    "#we convert the token's text to lowercase and then we filter out the common words such as \"more\" by using spacy library that provides a list of stop words that we can exclude  \n",
    "adjectives = [token.text for doc in spacydocs for token in doc if token.pos_ == \"ADJ\" and token.text.lower() not in STOP_WORDS]\n",
    "\n",
    "# Print the ten most common adjectives\n",
    "print(Counter(adjectives).most_common(10))"
   ]
  },
  {
   "cell_type": "code",
   "execution_count": 16,
   "id": "3a9497d3",
   "metadata": {},
   "outputs": [
    {
     "name": "stderr",
     "output_type": "stream",
     "text": [
      "100%|██████████| 4790/4790 [00:47<00:00, 100.16it/s]"
     ]
    },
    {
     "name": "stdout",
     "output_type": "stream",
     "text": [
      "[('administration', 598), ('trade', 566), ('world', 493), ('country', 390), ('government', 371), ('week', 345), ('officials', 326), ('years', 320), ('war', 268), ('countries', 268)]\n"
     ]
    },
    {
     "name": "stderr",
     "output_type": "stream",
     "text": [
      "\n"
     ]
    }
   ],
   "source": [
    "# Print the ten most common nouns\n",
    "spacydocs = [nlp(text) for text in tqdm.tqdm(texts)]\n",
    "\n",
    "nouns = [token.text for doc in spacydocs for token in doc if token.pos_ == \"NOUN\" and token.text.lower() not in STOP_WORDS]\n",
    "\n",
    "print(Counter(nouns).most_common(10))"
   ]
  }
 ],
 "metadata": {
  "kernelspec": {
   "display_name": "Python 3 (ipykernel)",
   "language": "python",
   "name": "python3"
  },
  "language_info": {
   "codemirror_mode": {
    "name": "ipython",
    "version": 3
   },
   "file_extension": ".py",
   "mimetype": "text/x-python",
   "name": "python",
   "nbconvert_exporter": "python",
   "pygments_lexer": "ipython3",
   "version": "3.11.4"
  }
 },
 "nbformat": 4,
 "nbformat_minor": 5
}
